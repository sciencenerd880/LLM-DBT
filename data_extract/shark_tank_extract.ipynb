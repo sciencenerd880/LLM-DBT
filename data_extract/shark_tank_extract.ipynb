{
 "cells": [
  {
   "cell_type": "code",
   "execution_count": 47,
   "metadata": {},
   "outputs": [
    {
     "name": "stdout",
     "output_type": "stream",
     "text": [
      "Requirement already satisfied: pandas in c:\\users\\derek\\onedrive\\documents\\github\\shark_tank\\.venv\\lib\\site-packages (2.2.3)\n",
      "Requirement already satisfied: selenium in c:\\users\\derek\\onedrive\\documents\\github\\shark_tank\\.venv\\lib\\site-packages (4.29.0)\n",
      "Requirement already satisfied: webdriver_manager in c:\\users\\derek\\onedrive\\documents\\github\\shark_tank\\.venv\\lib\\site-packages (4.0.2)\n",
      "Requirement already satisfied: requests in c:\\users\\derek\\onedrive\\documents\\github\\shark_tank\\.venv\\lib\\site-packages (2.32.3)\n",
      "Requirement already satisfied: bs4 in c:\\users\\derek\\onedrive\\documents\\github\\shark_tank\\.venv\\lib\\site-packages (0.0.2)\n",
      "Requirement already satisfied: openai in c:\\users\\derek\\onedrive\\documents\\github\\shark_tank\\.venv\\lib\\site-packages (1.63.2)\n",
      "Requirement already satisfied: yt_dlp in c:\\users\\derek\\onedrive\\documents\\github\\shark_tank\\.venv\\lib\\site-packages (2025.2.19)\n",
      "Requirement already satisfied: openpyxl in c:\\users\\derek\\onedrive\\documents\\github\\shark_tank\\.venv\\lib\\site-packages (3.1.5)\n",
      "Requirement already satisfied: numpy>=1.26.0 in c:\\users\\derek\\onedrive\\documents\\github\\shark_tank\\.venv\\lib\\site-packages (from pandas) (2.2.3)\n",
      "Requirement already satisfied: python-dateutil>=2.8.2 in c:\\users\\derek\\onedrive\\documents\\github\\shark_tank\\.venv\\lib\\site-packages (from pandas) (2.9.0.post0)\n",
      "Requirement already satisfied: pytz>=2020.1 in c:\\users\\derek\\onedrive\\documents\\github\\shark_tank\\.venv\\lib\\site-packages (from pandas) (2025.1)\n",
      "Requirement already satisfied: tzdata>=2022.7 in c:\\users\\derek\\onedrive\\documents\\github\\shark_tank\\.venv\\lib\\site-packages (from pandas) (2025.1)\n",
      "Requirement already satisfied: urllib3<3,>=1.26 in c:\\users\\derek\\onedrive\\documents\\github\\shark_tank\\.venv\\lib\\site-packages (from urllib3[socks]<3,>=1.26->selenium) (2.3.0)\n",
      "Requirement already satisfied: trio~=0.17 in c:\\users\\derek\\onedrive\\documents\\github\\shark_tank\\.venv\\lib\\site-packages (from selenium) (0.29.0)\n",
      "Requirement already satisfied: trio-websocket~=0.9 in c:\\users\\derek\\onedrive\\documents\\github\\shark_tank\\.venv\\lib\\site-packages (from selenium) (0.12.1)\n",
      "Requirement already satisfied: certifi>=2021.10.8 in c:\\users\\derek\\onedrive\\documents\\github\\shark_tank\\.venv\\lib\\site-packages (from selenium) (2025.1.31)\n",
      "Requirement already satisfied: typing_extensions~=4.9 in c:\\users\\derek\\onedrive\\documents\\github\\shark_tank\\.venv\\lib\\site-packages (from selenium) (4.12.2)\n",
      "Requirement already satisfied: websocket-client~=1.8 in c:\\users\\derek\\onedrive\\documents\\github\\shark_tank\\.venv\\lib\\site-packages (from selenium) (1.8.0)\n",
      "Requirement already satisfied: python-dotenv in c:\\users\\derek\\onedrive\\documents\\github\\shark_tank\\.venv\\lib\\site-packages (from webdriver_manager) (1.0.1)\n",
      "Requirement already satisfied: packaging in c:\\users\\derek\\onedrive\\documents\\github\\shark_tank\\.venv\\lib\\site-packages (from webdriver_manager) (24.2)\n",
      "Requirement already satisfied: charset-normalizer<4,>=2 in c:\\users\\derek\\onedrive\\documents\\github\\shark_tank\\.venv\\lib\\site-packages (from requests) (3.4.1)\n",
      "Requirement already satisfied: idna<4,>=2.5 in c:\\users\\derek\\onedrive\\documents\\github\\shark_tank\\.venv\\lib\\site-packages (from requests) (3.10)\n",
      "Requirement already satisfied: beautifulsoup4 in c:\\users\\derek\\onedrive\\documents\\github\\shark_tank\\.venv\\lib\\site-packages (from bs4) (4.13.3)\n",
      "Requirement already satisfied: anyio<5,>=3.5.0 in c:\\users\\derek\\onedrive\\documents\\github\\shark_tank\\.venv\\lib\\site-packages (from openai) (4.8.0)\n",
      "Requirement already satisfied: distro<2,>=1.7.0 in c:\\users\\derek\\onedrive\\documents\\github\\shark_tank\\.venv\\lib\\site-packages (from openai) (1.9.0)\n",
      "Requirement already satisfied: httpx<1,>=0.23.0 in c:\\users\\derek\\onedrive\\documents\\github\\shark_tank\\.venv\\lib\\site-packages (from openai) (0.28.1)\n",
      "Requirement already satisfied: jiter<1,>=0.4.0 in c:\\users\\derek\\onedrive\\documents\\github\\shark_tank\\.venv\\lib\\site-packages (from openai) (0.8.2)\n",
      "Requirement already satisfied: pydantic<3,>=1.9.0 in c:\\users\\derek\\onedrive\\documents\\github\\shark_tank\\.venv\\lib\\site-packages (from openai) (2.10.6)\n",
      "Requirement already satisfied: sniffio in c:\\users\\derek\\onedrive\\documents\\github\\shark_tank\\.venv\\lib\\site-packages (from openai) (1.3.1)\n",
      "Requirement already satisfied: tqdm>4 in c:\\users\\derek\\onedrive\\documents\\github\\shark_tank\\.venv\\lib\\site-packages (from openai) (4.67.1)\n",
      "Requirement already satisfied: et-xmlfile in c:\\users\\derek\\onedrive\\documents\\github\\shark_tank\\.venv\\lib\\site-packages (from openpyxl) (2.0.0)\n",
      "Requirement already satisfied: httpcore==1.* in c:\\users\\derek\\onedrive\\documents\\github\\shark_tank\\.venv\\lib\\site-packages (from httpx<1,>=0.23.0->openai) (1.0.7)\n",
      "Requirement already satisfied: h11<0.15,>=0.13 in c:\\users\\derek\\onedrive\\documents\\github\\shark_tank\\.venv\\lib\\site-packages (from httpcore==1.*->httpx<1,>=0.23.0->openai) (0.14.0)\n",
      "Requirement already satisfied: annotated-types>=0.6.0 in c:\\users\\derek\\onedrive\\documents\\github\\shark_tank\\.venv\\lib\\site-packages (from pydantic<3,>=1.9.0->openai) (0.7.0)\n",
      "Requirement already satisfied: pydantic-core==2.27.2 in c:\\users\\derek\\onedrive\\documents\\github\\shark_tank\\.venv\\lib\\site-packages (from pydantic<3,>=1.9.0->openai) (2.27.2)\n",
      "Requirement already satisfied: six>=1.5 in c:\\users\\derek\\onedrive\\documents\\github\\shark_tank\\.venv\\lib\\site-packages (from python-dateutil>=2.8.2->pandas) (1.17.0)\n",
      "Requirement already satisfied: colorama in c:\\users\\derek\\onedrive\\documents\\github\\shark_tank\\.venv\\lib\\site-packages (from tqdm>4->openai) (0.4.6)\n",
      "Requirement already satisfied: attrs>=23.2.0 in c:\\users\\derek\\onedrive\\documents\\github\\shark_tank\\.venv\\lib\\site-packages (from trio~=0.17->selenium) (25.1.0)\n",
      "Requirement already satisfied: sortedcontainers in c:\\users\\derek\\onedrive\\documents\\github\\shark_tank\\.venv\\lib\\site-packages (from trio~=0.17->selenium) (2.4.0)\n",
      "Requirement already satisfied: outcome in c:\\users\\derek\\onedrive\\documents\\github\\shark_tank\\.venv\\lib\\site-packages (from trio~=0.17->selenium) (1.3.0.post0)\n",
      "Requirement already satisfied: cffi>=1.14 in c:\\users\\derek\\onedrive\\documents\\github\\shark_tank\\.venv\\lib\\site-packages (from trio~=0.17->selenium) (1.17.1)\n",
      "Requirement already satisfied: wsproto>=0.14 in c:\\users\\derek\\onedrive\\documents\\github\\shark_tank\\.venv\\lib\\site-packages (from trio-websocket~=0.9->selenium) (1.2.0)\n",
      "Requirement already satisfied: pysocks!=1.5.7,<2.0,>=1.5.6 in c:\\users\\derek\\onedrive\\documents\\github\\shark_tank\\.venv\\lib\\site-packages (from urllib3[socks]<3,>=1.26->selenium) (1.7.1)\n",
      "Requirement already satisfied: soupsieve>1.2 in c:\\users\\derek\\onedrive\\documents\\github\\shark_tank\\.venv\\lib\\site-packages (from beautifulsoup4->bs4) (2.6)\n",
      "Requirement already satisfied: pycparser in c:\\users\\derek\\onedrive\\documents\\github\\shark_tank\\.venv\\lib\\site-packages (from cffi>=1.14->trio~=0.17->selenium) (2.22)\n",
      "Note: you may need to restart the kernel to use updated packages.\n"
     ]
    },
    {
     "name": "stderr",
     "output_type": "stream",
     "text": [
      "\n",
      "[notice] A new release of pip is available: 24.3.1 -> 25.0.1\n",
      "[notice] To update, run: python.exe -m pip install --upgrade pip\n"
     ]
    }
   ],
   "source": [
    "pip install pandas selenium webdriver_manager requests bs4 openai yt_dlp openpyxl"
   ]
  },
  {
   "cell_type": "code",
   "execution_count": 48,
   "metadata": {},
   "outputs": [
    {
     "name": "stdout",
     "output_type": "stream",
     "text": [
      "https://subslikescript.com/series/Shark_Tank-1442550/season-12/episode-1-Episode_121\n",
      "https://subslikescript.com/series/Shark_Tank-1442550/season-12/episode-2-Episode_122\n",
      "https://subslikescript.com/series/Shark_Tank-1442550/season-12/episode-6-Episode_126\n",
      "https://subslikescript.com/series/Shark_Tank-1442550/season-12/episode-9-Episode_129\n",
      "https://subslikescript.com/series/Shark_Tank-1442550/season-12/episode-11-Episode_1211\n",
      "https://subslikescript.com/series/Shark_Tank-1442550/season-12/episode-23-Episode_1223\n",
      "https://subslikescript.com/series/Shark_Tank-1442550/season-12/episode-24-Episode_1224\n",
      "https://subslikescript.com/series/Shark_Tank-1442550/season-12/episode-25-Episode_1225\n",
      "https://subslikescript.com/series/Shark_Tank-1442550/season-13/episode-4-Episode_134\n",
      "https://subslikescript.com/series/Shark_Tank-1442550/season-13/episode-5-Episode_135\n",
      "https://subslikescript.com/series/Shark_Tank-1442550/season-13/episode-6-Episode_136\n",
      "https://subslikescript.com/series/Shark_Tank-1442550/season-13/episode-7-Episode_137\n",
      "https://subslikescript.com/series/Shark_Tank-1442550/season-13/episode-8-Episode_138\n",
      "https://subslikescript.com/series/Shark_Tank-1442550/season-13/episode-9-Episode_139\n",
      "https://subslikescript.com/series/Shark_Tank-1442550/season-13/episode-10-Episode_1310\n",
      "https://subslikescript.com/series/Shark_Tank-1442550/season-13/episode-11-Episode_1311\n",
      "https://subslikescript.com/series/Shark_Tank-1442550/season-13/episode-12-Episode_1312\n",
      "https://subslikescript.com/series/Shark_Tank-1442550/season-13/episode-13-Episode_1313\n",
      "https://subslikescript.com/series/Shark_Tank-1442550/season-13/episode-15-Episode_1315\n",
      "https://subslikescript.com/series/Shark_Tank-1442550/season-13/episode-16-Episode_1316\n",
      "https://subslikescript.com/series/Shark_Tank-1442550/season-13/episode-23-Episode_1323\n",
      "https://subslikescript.com/series/Shark_Tank-1442550/season-14/episode-1-Episode_141\n",
      "https://subslikescript.com/series/Shark_Tank-1442550/season-14/episode-2-Episode_142\n",
      "https://subslikescript.com/series/Shark_Tank-1442550/season-14/episode-3-Episode_143\n",
      "https://subslikescript.com/series/Shark_Tank-1442550/season-14/episode-4-Episode_144\n",
      "https://subslikescript.com/series/Shark_Tank-1442550/season-14/episode-5-Episode_145\n",
      "https://subslikescript.com/series/Shark_Tank-1442550/season-14/episode-6-Episode_146\n",
      "https://subslikescript.com/series/Shark_Tank-1442550/season-14/episode-7-Episode_147\n",
      "https://subslikescript.com/series/Shark_Tank-1442550/season-14/episode-8-Episode_148\n",
      "https://subslikescript.com/series/Shark_Tank-1442550/season-14/episode-9-Episode_149\n",
      "https://subslikescript.com/series/Shark_Tank-1442550/season-14/episode-15-Episode_1415\n",
      "https://subslikescript.com/series/Shark_Tank-1442550/season-14/episode-16-Episode_1416\n",
      "https://subslikescript.com/series/Shark_Tank-1442550/season-14/episode-17-Episode_1417\n",
      "https://subslikescript.com/series/Shark_Tank-1442550/season-14/episode-18-Episode_1418\n",
      "https://subslikescript.com/series/Shark_Tank-1442550/season-14/episode-19-Episode_1419\n",
      "https://subslikescript.com/series/Shark_Tank-1442550/season-14/episode-20-Episode_1420\n",
      "https://subslikescript.com/series/Shark_Tank-1442550/season-14/episode-21-Episode_1421\n",
      "https://subslikescript.com/series/Shark_Tank-1442550/season-15/episode-6-Episode_156\n",
      "https://subslikescript.com/series/Shark_Tank-1442550/season-15/episode-7-Episode_157\n"
     ]
    }
   ],
   "source": [
    "from bs4 import BeautifulSoup\n",
    "import requests\n",
    "\n",
    "# URL you want to scrape\n",
    "url = 'https://subslikescript.com/series/Shark_Tank-1442550'\n",
    "\n",
    "# Fetch the content from the URL\n",
    "response = requests.get(url)\n",
    "html_content = response.text\n",
    "\n",
    "# Parse the HTML using BeautifulSoup\n",
    "soup = BeautifulSoup(html_content, 'html.parser')\n",
    "\n",
    "# Find all anchor tags and extract the 'href' attribute\n",
    "urls = [a.get('href') for a in soup.find_all('a', href=True)]\n",
    "\n",
    "# Filter the URLs to only include the ones that start with '/series/Shark_Tank'\n",
    "urls = [f'https://subslikescript.com{link}' for link in urls if link.startswith('/series/Shark_Tank')]\n",
    "# Print the list of URLs\n",
    "for link in urls:\n",
    "    print(link)"
   ]
  },
  {
   "cell_type": "code",
   "execution_count": 49,
   "metadata": {},
   "outputs": [],
   "source": [
    "extract_list = []\n",
    "\n",
    "for link in urls:\n",
    "    response = requests.get(link)\n",
    "    html_content = response.text\n",
    "    soup = BeautifulSoup(html_content, 'html.parser')\n",
    "    script = soup.find('div', class_='full-script')\n",
    "\n",
    "    if script:\n",
    "        for br in script.find_all(\"br\"):\n",
    "            br.replace_with(\"\\n\")\n",
    "    \n",
    "        script_text = script.get_text() if script else 'No script found'\n",
    "        extract_list.append({'url': link, 'script': script_text})"
   ]
  },
  {
   "cell_type": "code",
   "execution_count": 50,
   "metadata": {},
   "outputs": [],
   "source": [
    "import pandas as pd\n",
    "\n",
    "df = pd.DataFrame(extract_list)\n",
    "df.to_excel('shark_tank_scripts.xlsx', index=False)"
   ]
  },
  {
   "cell_type": "code",
   "execution_count": 51,
   "metadata": {},
   "outputs": [],
   "source": [
    "for i in range(0, len(df)):\n",
    "    filename = df['url'][i].split('/')[-1]\n",
    "    with open(f'raw_web_scrape/sn_{i}_shark_tank_script_{filename}.txt', 'w',encoding='utf-8') as f:\n",
    "        f.write(df['script'][i])"
   ]
  },
  {
   "cell_type": "code",
   "execution_count": 52,
   "metadata": {},
   "outputs": [],
   "source": [
    "sys_context=\"\"\"\n",
    "You are a helpful transcript bot.\n",
    "\n",
    "Do Not Summarize.\n",
    "\n",
    "leave the text as is.\n",
    "\"\"\""
   ]
  },
  {
   "cell_type": "code",
   "execution_count": 89,
   "metadata": {},
   "outputs": [],
   "source": [
    "instructions = \"\"\"\n",
    "Please read this transcript and return the product names being pitched in the episode. There are multiple products being pitched in the episode. Please return the product names as a list.\n",
    "\n",
    "I need you to identify the first line in the transcript that starts each product segment, for example \"First into the Tank\" or \"Next into the Tank\". The line itself please as it needs to be used to identify the product.\n",
    "\n",
    "Return as follows in a readable json format: \n",
    "\n",
    "[{\"Product\": <Product Name>,\"First_Line\": <Transcript Line>}]\n",
    "\n",
    "Return only the list\n",
    "\"\"\""
   ]
  },
  {
   "cell_type": "code",
   "execution_count": 86,
   "metadata": {},
   "outputs": [],
   "source": [
    "from openai import OpenAI\n",
    "\n",
    "verbose = False\n",
    "\n",
    "def call_api(sys_context, user_input,tempreature=0.2,max_completion_tokens=4096):\n",
    "    client = OpenAI()\n",
    "    if verbose:\n",
    "        print(\"Calling OpenAI API\")\n",
    "\n",
    "    completion = client.chat.completions.create(\n",
    "        model=\"gpt-4o-mini\",\n",
    "        temperature = tempreature,\n",
    "        max_completion_tokens=max_completion_tokens,\n",
    "        # top_p = 0.1,\n",
    "        messages=[\n",
    "            {\"role\": \"system\", \"content\": sys_context},\n",
    "            {\n",
    "                \"role\": \"user\",\"content\": user_input\n",
    "                # \"content\": instructions + extract_list[0]['script']\n",
    "            }\n",
    "        ]\n",
    "    )\n",
    "    if verbose:\n",
    "        print(completion.usage)\n",
    "\n",
    "    return completion.choices[0].message.content"
   ]
  },
  {
   "cell_type": "code",
   "execution_count": 80,
   "metadata": {},
   "outputs": [],
   "source": [
    "def line_breaker(data, lines): \n",
    "    line = [l for l in lines if l and l.strip() !='Narrator:']\n",
    "    line_break = []\n",
    "    for d in data:\n",
    "        for i, l in enumerate(line):\n",
    "            if l in (d['First_Line']):\n",
    "                search_line = []\n",
    "                for k in range(2):\n",
    "                    search_line.append(line[i+k])\n",
    "                # print(search_line)\n",
    "                # print(d['First_Line'])\n",
    "                if \" \".join(search_line) in d['First_Line']:\n",
    "                    line_break.append(i)\n",
    "                    break\n",
    "\n",
    "    line_break.append(len(line))\n",
    "    # print(line_break)\n",
    "\n",
    "    transcripts = []\n",
    "\n",
    "    for i in range(len(line_break)-1):\n",
    "        if verbose:\n",
    "            print(line_break[i], line_break[i+1])\n",
    "            print(line[line_break[i]:line_break[i+1]])\n",
    "        \n",
    "        part = line[line_break[i]:line_break[i+1]]\n",
    "\n",
    "        #logging\n",
    "        with open('log.txt', 'a',encoding='utf-8') as f:\n",
    "            f.write(f\"{line_break[i]} {line_break[i+1]}\\n\")\n",
    "            f.write(f\"{part[0]} | {part[-1]}\\n\\n\")\n",
    "\n",
    "        transcripts.append((line[line_break[i]:line_break[i+1]]))\n",
    "\n",
    "    return transcripts"
   ]
  },
  {
   "cell_type": "code",
   "execution_count": 90,
   "metadata": {},
   "outputs": [],
   "source": [
    "import json\n",
    "\n",
    "def json_converter(input_text):\n",
    "\n",
    "    # Remove the markdown formatting:\n",
    "    # Split the text into lines and remove the first and last lines if they are markdown fences.\n",
    "    lines = input_text.strip().splitlines()\n",
    "    if lines[0].startswith(\"```\"):\n",
    "        lines = lines[1:]\n",
    "    if lines[-1].startswith(\"```\"):\n",
    "        lines = lines[:-1]\n",
    "\n",
    "    # Join the remaining lines to reconstruct the JSON string.\n",
    "    json_str = \"\\n\".join(lines)\n",
    "\n",
    "    # Convert the JSON string into a Python object (list of dictionaries)\n",
    "    data = json.loads(json_str)\n",
    "\n",
    "    return data\n",
    "\n",
    "# Print the resulting Python object\n",
    "# data = json_converter(splitter_reply)"
   ]
  },
  {
   "cell_type": "code",
   "execution_count": null,
   "metadata": {},
   "outputs": [
    {
     "data": {
      "text/plain": [
       "[{'Product': 'Pluto Pillow', 'First_Line': 'First into the Tank'},\n",
       " {'Product': 'Frobert',\n",
       "  'First_Line': 'Next up is a new iteration of a favorite sport.'},\n",
       " {'Product': 'Fling Golf',\n",
       "  'First_Line': 'Next up is a new iteration of a favorite sport.'},\n",
       " {'Product': \"Float'N'Grill\",\n",
       "  'First_Line': 'Next into the Tank is a better way to grill in an unlikely place.'},\n",
       " {'Product': 'The Original Stretchlace',\n",
       "  'First_Line': 'Next up is an accessory that makes shoes more functional.'}]"
      ]
     },
     "execution_count": 91,
     "metadata": {},
     "output_type": "execute_result"
    }
   ],
   "source": []
  },
  {
   "cell_type": "code",
   "execution_count": null,
   "metadata": {},
   "outputs": [
    {
     "name": "stdout",
     "output_type": "stream",
     "text": [
      "30 713\n",
      "['Narrator: First into the Tank', 'is what the entrepreneur hopes', 'is a better and more', 'affordable experience', 'when shopping for intimates.', '♪♪', 'Hi, Sharks. My name is Elly.', \"I'm from San Francisco,\", 'California,', 'and I am seeking $500,000', 'in exchange for 5%', 'of my company...', '‐Hello. ‐Wow. Wow.', '‐...BootayBag. ‐Ha.', 'BootayBag is an affordable,', 'comfortable, and convenient way', 'for women to shop for underwear.', 'I started BootayBag because', 'I was sick of going to the mall,', 'the semi‐annual sales,', 'the clearance bins,', 'the sales clerks.', 'I wanted to give women', 'that sexy feeling', 'of sliding on', 'a new pair of underwear', 'without all the hassle', 'or expensive price tag.', \"So, here's how it works.\", 'You select how many pairs', 'you want to receive in a month,', 'your size, your style option,', \"and for just $10, we'll deliver\", 'your new favorite undies', 'all without leaving', 'the comfort of your couch.', 'Our mission is to not only', 'bring a necessity to women', 'at an affordable price,', 'but to create a community', 'that represents all women.', 'This brand is made', 'for women, by women,', 'and with every pair purchased,', 'we donate to women in need.', \"So, Sharks, who's with me\", 'in making all women feel good', 'in their undies?', '‐Terrific pitch. ‐Amazing.', 'Elly, is it', 'a subscription service?', 'Gheno: Yes, it is.', \"It's a monthly subscription.\", \"You're not committed\", 'to anything.', 'So, you can get one pair for $10', 'or two for $15.', 'You can get all four for $20.', \"And that's every month I burn\", 'through four underwear?', 'Yes, I knew', 'you were gonna say that.', '‐Yeah. ‐You can skip', 'or cancel at any time,', 'but you can also go in', 'and switch your styles', 'or downgrade or upgrade.', 'Two pair ‐‐', '‐Are these the samples?', '‐Yes.', '‐Can we, like, look at them?', \"'Cause I'm dying.\", '‐Oh, sorry, guys. Yes, yes, yes.', '‐I want to ‐‐', '‐Dig in. Everyone gets some.', 'And this is how I get it?', 'Yes, yes.', 'Like, in this ‐‐', '\"Hello, babe, I\\'m here\"?', '\"Hello, babe, I\\'m here.\" Yeah.', \"So, okay. And you're\", 'manufacturing the underwear?', \"Yes. So, it's my design.\", 'I stuffed them extra,', 'so you guys have bralettes', 'in there, as well,', 'which I know will look fabulous', 'on you, Mr. Wonderful.', '‐Wow. Sexy.', '‐Is this making you ‐‐', 'You know, Elly,', \"there's been a lot of ‐‐\", 'Lookit.', \"‐Mark's blushing over there.\", \"‐I'm not blushing!\", 'He got a little G‐string,', \"that's why.\", \"He's like ‐‐ Yeah, I feel like\", 'I see you blushing a little bit.', 'So, how did you', 'get started in ‐‐', 'I mean, where did this', 'come from?', 'I know, right? Well,', 'my parents are entrepreneurs.', 'So, although I thought I was not', 'paying attention my entire life,', 'I clearly was.', 'But I also was, like,', 'always a hustler,', 'always liked money,', 'like, lemonade stands ‐‐', 'Girl power. Oh, my God.', 'Hell yeah, sister.', '[ Laughs ] We have to talk. Yes.', 'When I turned 18,', 'my mom owns a hair salon,', 'and I spent all my summers', 'kind of, like, helping her out,', 'and I just felt like,', '\"This is kind of my path.', 'I\\'m gonna take over the salon.\"', 'And I kind of stumbled upon', 'going underwear shopping', 'and waiting for the five for $25', 'and going and digging through', 'the bins, and I was like, \"Ugh.', 'This is, like, such a terrible', 'shopping experience,\"', 'and I was like, \"Hell,', \"I'm gonna just do this.\", 'It\\'s gonna be easy.\"', 'I had a website within two days', 'and borrowed $300 and ‐‐', '‐$300? ‐When was that?', '2016.', 'And since then,', 'what has sales looked like?', 'Year to date,', \"we've done $3 million.\", '‐$3 million? ‐Wow!', '‐Son of a gun! ‐Wow.', '‐$3 million? ‐Yeah.', \"‐Amen, sister. You're amazing!\", '‐Thank you. Thank you.', \"That's amazing!\", \"Well, you've inspired me.\", 'I actually saw your panel', 'four years ago,', 'and you rocked my world.', '‐Oh, cool. ‐So, I have to say,', 'like, being here', 'is so [bleep] cool.', 'You know, you started with $300,', 'but how much have you raised', 'since then?', \"So, I've raised none.\", 'I have no debt.', 'Wow.', \"You've raised no dollars?\", \"No. I'm hoping to raise today.\", 'How did you pay', 'for the inventory?', 'I just went to the store,', 'I got clearance underwear,', 'and I did the packaging.', '[ Laughs ]', 'And then I graduated from that,', 'and then I was like,', '\"Oh, online,', 'where can I buy bulk underwear?\"', 'And then I found a manufacturer,', 'and I did private label,', 'and I graduated all the steps,', 'and, actually, my demand', 'forced me to figure out', 'how to produce my own line.', \"Best story I've ever heard\", 'so far, okay?', 'I love this.', '‐Wow.', '‐But how did people find you', 'at the beginning? ‐Yeah, so,', 'we have a huge following', 'on Instagram.', 'And how did you garner', 'that following?', \"It's all actually user‐generated\", 'content on our feed.', 'So, we have real women posting.', \"We don't edit our content,\", \"so it's as you come.\", \"O'Leary: Just one last number.\", 'Yeah.', 'Cumulative lifetime sales.', 'Yeah, so, $15 million to date.', '‐Wow. ‐I mean, $300', 'to $15 million in sales.', '‐Unreal.', 'It really is.', \"‐Elly! You're a rock star!\", 'Guys, I was so nervous!', \"I'm so excited! Thank you!\", 'You should be!', 'The one thing that I think', 'is getting everybody so excited,', \"'cause it's really\", 'worth talking about,', 'is every other', 'subscription service...', '‐Yeah.', '‐...has to raise a ton of money', 'early on to acquire customers.', '‐Right. Right.', 'You should be', 'rolling in the dough.', 'Gheno: So, yeah, so ‐‐', 'Why are you coming here', 'and asking for $500,000?', 'Yeah. So, our production', 'actually is ‐‐', 'I use a broker right now.', 'In a proper scenario,', 'if I did have the direct', 'factory connection,', 'I would be able', 'to have shorter lead times.', \"I'm working on extremely long\", \"lead times, because I'm just ‐‐\", 'What are your lead times', 'right now?', \"They're about eight months\", 'to nine months.', '‐Whoa. Eight months?', '‐Wha‐‐ Eight mo‐‐', \"So, you're designing a product,\", \"and you don't get it in‐house\", 'for eight to nine months?', '‐Yeah. ‐Why is that?', \"So, I'm kind of in their mercy.\", \"I'm very small on some of\", 'the scales that they do.', \"Why don't you partner\", 'with the manufacturer', 'so that you never', 'have inventory?', \"Well, that's why\", \"I'm kind of here.\", 'Cuban:', \"That's why she's here, yeah.\", \"You know, it's my first go\", \"at all this, and so I'm kind of\", 'just figuring it out as I go.', \"So, you really haven't\", 'made any money yet.', 'I mean, we net 5%.', 'Whoa.', '♪♪', '♪♪', 'All Sharks are still in,', 'but they have discovered', 'Elly only makes a small profit', 'on the huge sales', 'of her lingerie subscription', 'business, BootayBag.', \"So, you really haven't\", 'made any money yet.', 'I mean, we net 5%.', 'Whoa.', 'Successful clothiers that have', 'real scale make 15% pre‐tax.', \"‐Yeah. Yeah. ‐You're at 5%,\", \"so there's 10% of cost in here,\", \"and I think I'm gonna\", 'find it all in the inventory.', 'Yeah.', 'And so you got to', 'get rid of that.', 'You got to partner.', \"It's worth giving up some of\", 'this equity to your manufacturer', 'to solve this problem. ‐Yes.', 'Yes. You nailed it.', 'But in order to make money,', 'I need to be big,', 'and I have', 'manufacturing problems.', \"You're serving almost\", 'as a retail store for them.', '‐Right. ‐They manufacture,', 'then they wholesale it to you.', '‐Right.', \"And you're kind of\", 'at their mercy,', \"'cause you're not going direct\", 'to the factory.', 'Yeah. Totally,', 'and they know me, as well.', 'So, in the four years', \"I've grown up with them,\", \"they've never been\", '\"a partner\" to me.', 'How are they treating you?', \"I'm just curious.\", '‐Terribly. Absolutely terrible.', '‐They treat you terribly?', '‐Unbelievable.', 'Are they men?', '‐Yeah, are they women or men?', 'Um, men, yes.', '‐What a surprise. ‐Yeah.', 'They have never, ever', 'been flexible with me.', \"They've made me take product\", 'that was actually, you know,', 'stained or damaged,', 'and, like, I just had to do it.', \"They don't ‐‐ You should have\", 'just sent it back and said no.', 'Well, they know', 'that every month,', 'I have to, on the 15th,', 'put out product.', 'So, this is a real pain point', 'for you?', 'It is, yeah,', \"and that's why I'm here.\", 'You know, Elly, I love you,', 'first of all.', 'Oh, my God. Cool!', 'I love you, too!', 'I am so impressed with you.', 'Thank you.', 'What you have created with $300,', 'how you have harnessed the power', 'of social media,', \"you're creating a movement\", 'around your brand...', 'Yeah. Hell yeah.', '...which is so unbelievable.', 'You know my story.', 'I started with $500', 'out of my extra bedroom. I know.', 'The first few years,', 'my margins also', 'were not what they are today,', \"because I wasn't able to harness\", 'great manufacturing deals.', \"I didn't have\", 'the production I needed.', 'But over the last 18 years,', 'those things have been able', 'to change, right?', \"I don't want you\", 'to have to wait 18 years.', \"And I didn't take an investor\", 'for the first 10 years', 'I ran my business.', 'I did it on credit card debt,', 'lines of credit, LLCs ‐‐', 'I mean, you name it.', 'It was hard, right?', 'And one of the things I wish', 'I would have done earlier', 'is bring in somebody', 'as an investor', 'who had a vested interest', 'that could have helped propel me', 'quicker than taking 18 years,', \"and I think I'm the Shark\", 'that can do that for you.', '♪♪', \"So, if it's okay, I'm gonna\", 'offer you the $500,000.', 'But I want 10%.', 'I understand subscription.', \"We've done that in our company.\", 'We know how to create community.', \"You're a female founder,\", \"and there's not enough\", 'of us out there.', 'Hell yeah.', 'I am one of 20 women', 'in the United States', 'to be a founder', 'of a billion‐dollar brand.', \"So I'm gonna give ‐‐ My money,\", 'I like to call it Kendra Cash.', '‐Nice.', \"‐It's a little unicorn magic\", 'in there sprinkled in', 'for that 5%.', '‐Okay, Lori. ‐Alright? Alright?', 'I want you', 'to become a unicorn, too,', 'and I think', 'I can help you get there.', 'Thank you.', 'Thank you. I love that.', 'May I make you', 'an offer, as well?', 'I could solve', 'the two real problems you have.', \"You don't get any money\", 'out of this business,', \"and that's a problem.\", \"That's what business is for.\", \"I have a business that's been\", 'in business five years ‐‐', 'Grace & Lace.', 'They sell like gangbusters.', \"I'm only a 20% partner,\", 'and last month,', 'I got a $700,000 check.', \"‐Nice. ‐They're so cash‐rich,\", \"and they're in the exact\", \"same business you're in.\", \"The other problem is you don't\", 'know how to manufacture in Asia.', \"You just don't have\", 'that experience.', 'Because I have that experience', 'at Grace & Lace,', 'I can deliver all that', 'to you immediately.', 'And so, I would like', 'to give you the $500,000,', 'but I really', 'would have to take 20%.', 'Well, I appreciate', \"everybody's offer.\", \"I didn't even say thank you.\", '‐Wait a sec.', \"O'Leary: Wait a second. Hold on.\", 'Wait, Barbara,', 'what if we went in together?', \"At 20%, there's enough\", 'for each of us, not at 10%.', 'At 20%. At 20%.', 'I would also', 'like to make an offer.', 'I look at this', 'from just the sheer economics.', 'I know where the 10% to 15%', 'is missing.', \"It's in the manufacturing.\", 'I also have logistics', 'in Vietnam.', \"I've got three companies\", 'manufacturing there now.', 'So, the right price for me', 'is to give you the $500,000.', 'I was gonna say 20%,', 'but to get competitive', 'and kind of sit in the middle', 'between these offers,', \"I'm willing to throw you,\", 'you know, a very good offer', \"that I wouldn't normally make.\", 'I know. This is crazy.', '$500,000 for 15%.', 'Just say yes,', \"and we'll move forward.\", \"I'm gonna go out, Elly,\", \"because I think you've got\", 'some good choices.', \"Elly, there's one other thing\", 'to consider.', '‐Yes. ‐I have Rounderbum,', \"men's augmented underwear.\", 'Yes, you do! Remember them?', '[ Laughter ]', 'And I tell you,', \"I'm the only Shark\", 'in the underwear business', 'right now,', 'and I make a lot of men happy.', 'Well, listen,', \"I'm so proud of you\", 'and everything', 'that you have accomplished,', 'but Kendra and Barbara', 'have made you a great offer,', \"so I'm going to go out.\", 'You have to decide.', 'We have one offer here, okay?', 'Kendra and I combined for 20%', 'of your business for $500,000,', 'and then you have this guy,', \"whatever he's gonna talk about.\", 'Why give up 20%?', \"That's so greedy.\", 'And the valuation on that is ‐‐', \"But look what you're getting.\", 'Um...', 'Would you guys go up', 'to $700,000 for 20%?', '‐Wow. ‐For ‐‐', '$700,000 for 20%?', \"‐Yeah. ‐Who's a Shark?\", 'Absolutely not.', '‐Yeah. ‐No.', \"You're not worth\", \"$10 million today. You're not.\", 'And when you bring on', 'the right team,', 'that is worth more than', 'you could ever put on a check.', 'Right.', 'But you have to feel', 'comfortable with that, too.', 'Yeah.', '♪♪', 'You know, 20% just', 'feels a little high,', \"and I'm not undervaluing\", 'you guys at all.', 'I appreciate', 'both of your offers.', 'It just ‐‐ It was a little bit', 'higher than I wanted to go with.', \"I'm willing to do it at 15%.\", 'Okay.', \"I'll go back\", 'to my original offer', \"if you're not\", 'comfortable with that.', \"I'll do $500,000 for 10%.\", 'Excuse me.', 'Did you just abandon me?', 'I abandoned you.', '‐It sounds like ‐‐ ‐Wow.', 'I abandoned you,', 'because I could see in her face', 'that that made her feel sick', 'and made her feel less than', 'and made her worth feel', \"not valued, and I can't ‐‐\", \"So, you're willing\", 'to do it for 10%?', 'With my original offer.', 'I think 10% is fair', 'based on my experience. Done.', \"Let's not even\", 'think about it anymore.', \"[ Laughs ] Yes. It's done?\", '‐Done. ‐Whoo!', '‐Wow. Barbara.', \"‐I love it! I'm so excited.\", 'Sorry. I appreciate', 'you guys, everybody.', \"Don't you apologize.\", 'Terrific partner.', 'Oh, my gosh. Thank you.', 'Congratulations.', 'Thank you guys. Thanks.', '‐Congratulations. ‐Thank you.', 'So excited.', \"Sorry. Barbara, I'm sorry.\", 'I like her', 'more than I like you now.', '♪♪', 'I wanted Kendra. I got Kendra.', \"We're ready\", 'to take over the world,', 'one booty at a time, baby.', 'Whoo! Yes!', 'I would have liked', 'a piece of the Bootay.', \"You're not getting any Bootay.\", 'No Bootay for you.', 'No Bootay for you.', '♪♪', 'I was raised in a little town', 'in Wisconsin,', 'one of six siblings.', 'My mother and father', 'were both extremely hardworking', 'and have been incredible role', 'models for me my whole life.', 'Since I was young,', 'I was kind of awkward.', 'I was almost blind', 'in my right eye,', 'so I had these big, huge glasses', 'that I wore.', 'Kids sometimes bullied me,', 'but it taught me so many things', 'to overcome obstacles.', 'I was lucky enough', 'that I have this amazing aunt', 'who is a fashion director', 'of a department store.', 'I would go into her closet,', 'and fashion was magical to me.', 'You could put on a beautiful', 'piece of clothing', 'and her jewelry,', 'and you could transform', 'into anybody you wanted to be,', \"and that's when it hit me ‐‐\", 'This is the business', 'that I wanted to be in.', 'At age 19, I started', 'my first company.', 'It was The Hat Box.', 'I sold every kind of hat.', 'I realized very quickly', 'that this business', \"wasn't going to be sustainable.\", 'People wearing hats again', \"like it was 1940 didn't happen.\", 'I had to close', 'that first business. It failed.', 'It was one of the lowest', 'moments of my life,', 'and in retrospect,', 'I look back to it now,', 'and it was also the greatest', 'gift I was ever given.', 'What was so funny is I made', 'jewelry for my hat store,', 'and it would sell the day', \"that I'd put it in the case.\", 'But I was so headstrong', 'that the hat thing had to work', \"that I wasn't paying attention\", 'to what was working.', 'So, in 2001, I started', 'to create some jewelry.', 'I went store to store', 'in Austin, Texas.', 'I sold my sample set,', 'and I got a check for $1,500.', 'And I walked in the front door,', 'and I remember saying', 'to my husband,', '\"Baby, we got ourselves', 'a business.\"', 'I loved beautiful', 'semiprecious stones,', \"but I couldn't afford what was\", 'out there in the marketplace.', 'And I thought,', 'if there was a way', 'that I could make beautiful', 'hand‐crafted jewelry', 'but at an attainable', 'price point for women,', 'that that might be something', 'that they would want.', 'Today, Kendra Scott Jewelry', 'is valued', 'at over a billion dollars.', 'To be one of 20 women', 'in the United States', 'to be the founder', 'of a billion‐dollar company', 'is absolutely unbelievable.', 'Right now, only 17%', 'of venture capital', 'goes to women‐founded companies,', 'and I think it is', 'my responsibility,', 'along with all the women', 'of this generation,', 'to start to change that.', \"It's been a very hard year\", 'for everybody,', 'but to be in this seat and to', 'see this energy and excitement,', 'entrepreneurship', 'is not going anywhere.', 'There is nothing', 'that is going to stop the drive', 'and the passion', 'of an entrepreneur.', \"And I can't wait\", 'to meet these entrepreneurs,', 'see their business ideas, and', 'help them achieve their goals.', '♪♪', '♪♪']\n",
      "Narrator: First into the Tank\n",
      "♪♪\n",
      "713 1093\n",
      "['Narrator: Next up is', 'a convenient and delicious way', \"to ensure you don't miss out\", 'on the most important', 'meal of the day.', '♪♪', \"Hi. My name's Nahum Jeannot,\", \"and I'm seeking $150,000\", 'in exchange for 10% equity', 'in my company, GoOats.', 'Sharks, we all know', 'breakfast is the most important', 'meal of the day.', 'But in your busy morning, the', 'last thing you want to be doing', 'is spending time', 'making breakfast.', \"And let's be honest ‐‐\", 'A granola bar is not a meal.', 'Your morning meal', 'should be effortless.', 'We all know oatmeal is', 'a hearty way to start the day,', 'but who wants to stand here', 'at the stove', 'and whisk this slimy mess?', 'Who wants to juggle a spoon', 'and a bowl as they drive?', 'Well, breakfast and snacking', 'just got a whole lot simpler.', \"Let's get rid of this mess.\", '‐Whoa. ‐[ Chuckles ]', 'Sharks, today, I give you', 'the first‐ever', 'oatmeal in a ball.', 'Same ingredients you might', 'put in your oatmeal at home ‐‐', 'milk, butter, sugar,', 'steel‐cut oats.', \"We're doing the work for you,\", \"but we're making them\", 'bite‐sized, handheld,', 'in a heat‐and‐eat format.', \"It's so simple to prepare, for\", 'creamy oatmeal within minutes.', \"It's that simple.\", \"Who's ready to try GoOats'\", 'oatmeal in a ball?', '‐All I need to know.', '‐How did you start making', 'oatmeal balls?', 'How did this start?', 'At 16 years old,', 'I had my first opportunity', 'to work in a restaurant.', 'I started off as a busboy,', 'then a food runner.', 'In the middle of a shift', 'on a Saturday night, a cook ‐‐', 'I guess it was too busy.', 'A cook walked off the line.', 'The owner comes running in.', \"She's like,\", '\"Hey, I need a cook.\"', 'And that was over 16 years ago,', 'and I never looked back.', 'So, basically, after that stint', 'in the restaurant,', 'I decided, \"Okay, this is', 'what I want to do with my life,\"', 'and so I embarked', 'on my culinary journey.', 'I got to work at awesome places', 'like Four Seasons Philadelphia,', 'W Hotels,', 'and most recent, Hyatt Regency', 'in Tysons Corner.', '‐Wow.', '‐And so, I was the head chef.', 'They asked me', 'to write a breakfast menu', 'that our guests', 'could easily pick up,', 'walk around the hotel with', 'without making a mess.', 'The response that I got,', 'I was like, \"Wait a second.', \"There's something different\", 'about this one.\"', \"And that's ‐‐\", 'So, that was in 2015.', 'I\\'m like, \"You know what?', \"I'm gonna share this\", 'with the rest of the world.\"', 'Nahum, I have to interrupt you.', 'I love that story.', \"This ‐‐ I'm an oatmeal lover.\", 'Ah. This is better than oatmeal.', 'It is so good.', \"It's really, really,\", 'really good, man.', \"It's crispy on the outside,\", \"and it's creamy on the inside.\", 'Let me just tell you ‐‐', \"I don't eat breakfast.\", \"I'm not a breakfast eater.\", 'I would eat this all day.', \"And I'm always running late...\", 'Yeah.', \"...'cause I have three boys.\", 'And getting them out the door', 'in the morning is a nightmare,', \"so we'll do cereal bars\", \"or something if they're ‐‐\", \"You know, I'll have breakfast\", 'sometimes served,', 'and they never have time.', \"They're getting their backpacks.\", \"They're throwing their stuff in.\", 'Yeah.', 'So, this is really cute', 'as a package,', 'but the whole point is,', \"is that you've got to heat it.\", 'No. So ‐‐ So, wait for this one.', '‐Okay. Waiting for it.', '‐Wait for it.', 'That box can go into the oven', 'and be baked.', '‐Wow. ‐What?', '‐Well, there you go.', '‐The reason ‐‐', 'Okay. ‐Just like this?', 'Yes. Just like that. Yes.', 'How long do you', 'have to bake this?', 'How long does that take?', '‐So, from frozen,', 'it takes about 10 to 15 minutes.', 'Oh. But it says microwave', 'for 30 to 60 seconds.', 'Greiner:', 'Wait, you can microwave it?', \"‐That's the microwave option.\", '‐Mark.', \"When you're hungry and you want\", 'something you trust,', 'and particularly if I could take', 'something like this in the box,', 'pop it in the microwave', 'for a minute,', 'grab and go and drive and eat,', \"'cause I'm a driver‐eater.\", 'Me, too. It must be', \"a Texas thing, don't you think?\", '‐Must be, right? ‐Yeah. Must be.', 'Must be. And so,', \"that's efficiency to me.\", 'So, do you sell them like this', 'or only like this?', \"So, right now, we ‐‐ we're\", 'selling them in the pouches.', 'Oh. Wow.', \"That's what we created.\", \"They're being sold\", 'currently in Whole Fo‐‐', \"O'Leary: This is just for ‐‐\", 'But that keeps them good, right?', 'Where are they being sold?', 'These three,', 'when you say 170 calories,', 'which is what it says here...', '‐Yes.', '...is that three, or is that ‐‐', \"‐That's for three. ‐Okay.\", 'How quickly can you', 'get the boxes out?', \"‐It's already set up. ‐Okay.\", \"‐So let's talk about your sales.\", '‐Sure.', 'First year,', 'we did $13,000 in sales.', 'And what year was that?', '2017. 2018, we did $57,000.', 'Okay. And 2019?', '2019 was about $54,000', 'to $57,000.', 'It was pretty much flat.', 'And how are you selling them?', 'March of 2017,', 'I walked into a Whole Foods.', 'At that time, Whole Foods', 'was allowed to bring in', 'local products in their region.', 'And so, while I still had', 'my full‐time job,', \"I'm going into production\", 'during the week ‐‐', 'Making them yourself?', \"You're putting them\", 'in the package', 'and delivering them', 'to the stores?', '‐Yes. Yes, sir.', \"‐At least you're hustling\", \"to see if there's any\", 'proof of concept, right?', \"Exactly. I'm proving\", 'the concept.', '‐Is it selling through? ‐Yes.', \"So, you're working\", 'a full‐time job still?', 'I got laid off in March', 'due to COVID.', 'All our hotel business left.', '‐Oh, my.', '‐I know for a lot of people,', 'that would be, like, a negative.', 'I was actually ‐‐ I looked at it', 'as a blessing...', '‐Yeah. I think so, too.', '‐...you know, from God,', 'because I get to work on GoOats', 'full‐time.', 'So, what do you sell', 'this bag for?', 'I sell it into distribution', 'at $2.66.', \"‐That's all? ‐Yeah.\", 'And what does it', 'cost you to make?', '$1.35.', \"Well, that's the problem.\", \"You're not charging enough.\", 'They sell it for $4.99.', \"That's not enough.\", '‐Okay. ‐That is not enough.', 'Everything above your cost', 'has to have $1 added to it,', \"'cause you're not making enough\", 'margins to scale this business.', \"I'd like to make you an offer.\", \"I'll give you the $150,000,\", 'as you asked,', 'but I will have to have 25%.', 'Ouch.', 'Okay. And the second thing ‐‐', \"I'm gonna help you\", 'with the big box stores.', 'Once you start getting', 'into big box stores,', \"you're gonna have slotting fees.\", 'Just getting your phone call', 'met, it is a nightmare.', 'Very few people are able', 'to navigate that and do it well.', 'So, for that 25%,', 'you will have my help on that,', 'and I know that landscape', 'like the back of my hand.', 'So, $150,000 for 25%.', 'What do you say?', '‐Do I have the option', 'to kind of, like, hear out', \"if there's anything else?\", 'I appreciate your offer.', \"No, I don't want to be ‐‐\", \"I really don't care for\", 'to be shopped around,', 'but you can certainly give me', 'a counter if you wish.', 'So, I would ‐‐', 'Nahum, this is', 'a moment of focus,', 'because the risk you have is,', \"if you don't nail this deal,\", \"you don't know\", \"if there's more to come.\", \"‐Burn that. ‐If there isn't,\", \"you're giving her\", 'tremendous leverage.', 'So, you really need help, buddy.', 'I mean, you really do.', \"Why don't you be quiet,\", 'Mr. Wonderful?', 'I do need the help, but ‐‐', 'And I love Barbara.', '[ Laughter ]', 'For that amount of equity, like,', 'I was hoping', 'that maybe I could ‐‐', \"Like, who's your best friend\", 'on the panel?', 'You know, who do you', 'get along with the most?', 'Like, could you', 'pull them into it?', 'Well, let me tell you', \"who I don't like.\", \"I don't like Mr. Wonderful\", 'at all.', 'Oka‐‐ Okay.', 'But I love Mark', \"'cause he's a billionaire.\", 'Now, what does that', 'have to do with it?', 'My hope is that, like, I can ‐‐', 'I was hoping we could', 'have a conversation.', \"If we're gonna go\", 'that high in equity,', 'like, maybe you could bring one', 'of your friend‐‐ Like ‐‐', \"Let me tell you what's wrong\", 'with having two Sharks', 'on a deal.', 'You wind up immediately', 'forming a committee.', 'I have to check ‐‐', \"Let's say I bring Mark in.\", 'I check with Mark.', 'Mark says, \"Hey, let\\'s see', 'what Barbara thinks.\"', 'It goes back and forth.', 'I try to call Lori,', 'it takes me two weeks', 'to get a return call,', \"and that's the truth, okay?\", \"She's so full of it.\", 'But then I call her husband,', 'and he calls me back,', \"'cause he's always\", 'wanted to date me.', 'So it goes on and on and on.', '[ Laughter ]', \"‐Bubba! ‐That's amazing.\", \"I don't blame him.\", \"So, you're better off\", 'with one Shark', \"in the same way you're better\", 'with one wife.', 'You can hyper‐focus on her', 'and make her happy.', '‐Of course.', '‐I can make you happy.', 'Okay.', 'Do you have a counteroffer?', 'Would you be willing', 'to do 150 grand', 'for 15%?', \"No, it's just too low.\", 'What do you say', 'we compromise at 20%?', '♪♪', 'Big moment for you here.', 'You get this shot once.', '♪♪', 'Okay.', 'Bingo! We got a deal.', '‐You made the right choice.', '‐You made a great choice.', '‐You made the right choice.', '‐Great product.', \"‐I know we can't hug, but...\", '‐Congrats. Such a good product.', \"‐...I'll hug you in spirit.\", '‐Love your product.', 'Great job.', '‐Love you, baby. ‐Great job.', '♪♪', 'Jeannot: Barbara believes', 'not only in me, right,', 'but she also believes', 'in the product,', \"and that's who\", 'I want on my team,', \"and the joke's gonna be\", 'on all the other Sharks.', '♪♪', '♪♪']\n",
      "Narrator: Next up is\n",
      "♪♪\n",
      "1093 1428\n",
      "['Narrator: Next into the Tank', 'is an eco‐friendly solution', 'to a heaping problem.', '♪♪', 'Hello, Sharks.', 'My name is Tracy Rosensteel,', \"and I'm from, Barbara,\", 'New York City.', '‐Yeah. ‐[ Laughs ]', \"I'm here seeking\", 'a $250,000 investment', 'in exchange for 12% equity', 'in my company.', 'So let\\'s get down to \"business.\"', 'We all know that dogs...', 'well, dogs poop,', 'and they poop a lot.', \"There's an estimated\", '22 billion pounds of doggy doody', 'dropped each year', 'in this country alone.', 'What?', '[ Laughing ] Ew.', 'You know what that', 'makes me think, Sharks?', 'That is a heaping, huge mound', 'of stinky... opportunity.', '[ Laughter ]', 'So, what happens', 'to all that waste?', 'There are millions', 'of pet parents', 'who can attest to using', 'single‐use plastic bags', 'that are discarded and end up', 'in landfills each and every day.', 'One common denominator of every', \"product that's on the market\", 'that\\'s \"eco‐friendly\"', 'is plastic.', 'Sharks, allow me', 'to introduce you to Pooch Paper,', 'a paper alternative', 'to plastic dog waste bags.', 'Pooch Paper is already recycled,', 'non‐chlorine‐bleached paper', \"that's 100% compostable,\", '100% biodegradable,', 'made right here in the USA,', 'and manufactured', 'using renewable energy.', 'So, in three', 'very simple steps ‐‐', 'simply take', 'the piece of Pooch Paper,', \"grab your doggie's doody,\", 'no matter how big or small...', '[ Laughter ]', '...twist the sides of the paper,', 'which, by the way, on both sides', 'is grease‐resistant,', 'and then toss in the trash.', 'So, Sharks, nature is calling,', 'and Pooch Paper is picking up.', \"Who's gonna help me save\", 'this planet one pup at a time?', '[ Chuckles ] That was great.', '‐This is amazing. I love it.', '‐Tracy ‐‐ Tracy, big issue here', 'about this, okay?', \"I'm gonna tell you\", 'a quick story,', \"and then you'll have to answer\", 'this question.', 'Rosensteel: Okay.', \"O'Leary:\", 'When I first moved to Boston ‐‐', 'It was maybe the first week', 'I was there ‐‐', 'I was up at 4:00, I had', 'my lights on in the kitchen,', 'and a man with a Great Dane', 'was wal‐‐', 'It was February,', 'and the man was walking the dog.', 'He looked around,', 'and our eyes met,', 'and I knew at that moment,', 'he was very unhappy,', 'because I saw him.', 'I saw the steaming ‐‐', 'And he had to pick it up.', 'And that piece of paper', 'would not even pick up half', 'of that steaming tower.', 'Alright. So, these are 12x12.', \"Later this year, we'll be\", \"releasing a SKU that's 15x15,\", \"so larger. ‐Now we're talking.\", '‐Yeah, which makes sense.', \"‐That's my question.\", 'So, if you have', 'a really big beast,', \"and it's laying down\", 'serious traction ‐‐', 'Scott: A pony.', 'Are you talking about you,', 'Kevin, or a dog?', 'Yeah. [ Laughter ]', '‐I love it! ‐I like her.', 'So, for me, when I walk my dog,', \"I can't be carrying this.\", 'So, what I like', 'about my poop bags right now', \"is that they're in a very\", 'convenient little holder,', 'so when they do decide to go,', 'I could just grab it out, right?', 'Right. And how do I hold these?', \"So, I've partnered with somebody\", 'who has a product,', 'and I just resell it,', \"and it's a 3x3 canvas pouch,\", 'zip‐pouch,', 'and then it has a snap', 'that you can put on your leash,', 'you can put it', 'on your belt buckle,', 'your wrist, or your stroller.', 'And you sell those?', 'I do sell those, yeah.', 'Tell us about you.', \"What's your background?\", \"So, like Kevin, I've spent\", '20 years on Wall Street.', 'I work actually', 'in trading floor technology', 'on the Board of Trade.', '‐I get it.', 'Wall Street, dog poop.', 'Same thing.', '[ Laughs ]', \"O'Leary:\", \"But I'm interested, Tracy.\", 'You know, concerns flow away', 'when you have sales.', 'Rosensteel: Numbers.', 'Are there any?', '[ Chuckles ] Yes, there are.', 'So, we have been on the market', 'for about seven months.', 'Sales since inception', 'are just shy of $50,000.', '$50,000.', 'So, Tracy, what does', 'one box cost,', 'and what does it', 'cost you to make?', 'So, it costs me $3.66 landed.', 'I wholesale it for $6.99.', 'It retails at $12.99. ‐Got it.', \"That's a 48% margin.\", 'Okay, so because', \"you're from Wall Street,\", 'this is gonna be', 'very easy to do.', '$250,000 for 12%.', \"I'm just ‐‐ The leap of faith to\", 'give you a $2 million valuation', \"when you've only got\", '$50,000 in sales,', 'you see any problem with that,', 'Wall Street Tracy?', '[ Both laugh ]', \"I don't. I think that we're set\", 'to reach at least $400,000', 'by the end of this year.', 'We are now', 'in 82 stores nationwide,', \"and we're selling online,\", \"and then we're about\", 'one week away', 'from launching in 1,061 stores', 'for Target nationwide.', 'Wow.', \"Tracy, I mean, it's\", 'a great business for you,', \"but it's not something\", 'I get excited about.', 'Congratulations, but', \"for those reasons, I'm out.\", 'I think your price point is high', 'compared to the competition,', 'the common competition,', 'which is plastic,', \"and I think that's an obstacle.\", \"For those reasons, I'm out.\", 'I think your mission', 'is fantastic.', 'I think that', 'to bring on a partner,', \"it doesn't seem necessary.\", 'You really know your stuff.', \"You're doing\", 'all the right things.', \"I don't think that you need\", 'to give away equity.', \"I'm not gonna give you an offer\", \"because I just don't think\", 'you need it.', \"I'm out.\", '♪♪', \"O'Leary:\", 'Okay, Wall Street Tracy,', \"I'll make you an offer\", 'in two ways, okay?', '$250,000 for 50%,', \"so we're partners,\", \"or I'll do it for a $1 royalty\", 'in perpetuity with no equity.', 'Hmm.', 'Okay, so, I like', 'the in‐perpetuity idea', 'with no equity position', 'very much.', '‐Yeah. ‐$1 is a bit steep.', \"Nope. I'll tell you why.\", 'You see, our interests', 'will be 100% aligned', \"if I'm getting a royalty,\", \"even though I don't own\", 'any of the business,', \"because I'll do everything\", 'in my power to increase sales.', 'Just to show that, you know,', 'what my thinking is,', \"'cause I have other deals\", 'with royalties,', 'Wicked Good Cupcakes', 'just paid me', 'their millionth dollar royalty.', 'I own no equity. Our interests', 'are totally aligned.', \"It's the biggest royalty deal\", 'in \"Shark Tank\" history,', 'and if you ask her,', \"she's very happy.\", 'So, those are my offers.', \"I've given you two structures.\", 'Pick one. ‐[ Chuckles ]', 'Greiner: Yeah, honestly,', \"I think it's a good offer.\", \"She's out. What are you\", 'listening to her for?', \"No, I'm saying\", \"it's a good offer!\", 'Can you believe it?', 'I never say that about you.', 'I mean, Tracy ‐‐', 'You got to sell', '1/4 million of these.', 'Put him to work for you', 'selling ‐‐', \"You've solved a problem.\", \"I mean, you've solved\", 'a big problem,', 'and you are helping the earth.', 'So, thank you for that.', 'And people love their pets,', 'and they will spend crazy money', 'on their pets.', 'So I think', \"you're onto something,\", 'but I do think that', \"Mr. Wonderful's offer\", 'is fantastic.', \"I think he'd be\", 'a great partner for you.', \"He's a better Shark for this,\", \"so I'm out.\", '♪♪', 'What do you want to do, Tracy?', \"‐I'd like to counter. ‐Go ahead.\", 'I do very much like your', 'in‐perpetuity deal, no equity,', \"but it's going to put a damper\", 'a little bit also', 'on my short‐term cash flow.', '‐Tracy understands cash flow!', '‐She does.', '‐I like it. ‐She does.', \"No, no. I'll tell you\", \"why it won't ‐‐\", 'because I will be', 'doing two things.', 'I think I got to', 'figure out a way', 'to lower your costs somewhere.', 'You got to pick one.', \"I'll do either deal.\", '♪♪', \"Alright, so it's non‐negotiable\", 'if we do ‐‐', 'Non‐‐ No.', '♪♪', 'Then I accept.', \"‐You're taking the royalty deal?\", '‐Which deal?', '‐The royalty deal. ‐Done.', '‐Yes. ‐Done.', '‐Thank you.', '‐Kevin gets the deal!', '‐Kevin! ‐Good job, Tracy!', '‐Hallelujah. ‐Congratulations.', '‐Congrats.', \"‐I'm very much excited...\", '‐Thank you.', '‐...about working with you,', 'Wall Street Tracy.', 'Congratulations, Tracy.', 'Well done.', '‐Congratulations.', '‐Thank you very much.', 'Thank you.', 'This is a home run for you.', \"No, I think it's good.\", 'Rosensteel:', 'For Kevin to come in right now', 'at such a critical moment,', 'but I still am in a position', 'of protecting 100% of my equity,', \"and Kevin's also on the book\", 'with me in perpetuity.', '♪♪', '♪♪']\n",
      "Narrator: Next into the Tank\n",
      "♪♪\n",
      "1428 1830\n",
      "['Narrator: Next up is a scientist', \"who's developed\", 'a healthier way to snack.', '♪♪', 'Hello, Sharks.', 'My name is Dr. Juan Salinas,', \"and I'm the founder and CEO\", 'of Perfect Life Nutrition.', 'Sharks, I have a PhD', 'in food science.', 'For 25 years, I created snacks', 'with some of the largest food', 'companies in the United States.', 'The problem was, none of', 'the stuff we made was healthy.', 'We only made stuff', 'to taste good.', \"Being that I'm also\", 'a certified sports nutritionist,', 'I decided to make', 'something better.', 'I want to introduce you', 'to P‐nuff Crunch.', \"It's the first nutrition‐based\", 'crunchy peanut puff snack.', \"It's not only delicious,\", \"but it's also\", 'healthy and nutritious.', 'But, Sharks, why do I care', 'about that?', \"'Cause I'm not just a doctor.\", '[ Chuckles ]', \"I'm also a former\", 'competitive bodybuilder.', '[ All exclaim ]', \"Corcoran: Now we're talking.\", \"Now we're talking.\", 'Oh, excuse me!', 'And I care', 'what I put in my body.', 'And so should you.', 'Oh!', '[ Laughter ]', 'I like this pitch.', \"Sharks, it's made\", 'from high‐quality', 'plant‐based protein, healthy', 'carbohydrate, and fiber.', 'Now, these components', 'are essential', 'for long‐lasting energy', 'and satisfaction,', \"but they're also good\", 'for, uh, building muscle...', 'Cut it out.', 'Oof! ...and staying fit.', 'Oh, oh!', 'If Kevin eats this,', 'is he gonna look like you?', 'If I make a deal with Kevin,', 'I will have you look like this', 'in three months.', '[ Laughter ]', \"Sharks, I'm seeking $300,000\", 'in exchange for 10% equity', 'in my company.', \"Now, who's ready to get fit...\", '[ Grunts ] ‐Whoa.', 'Oh.', '‐Wow. ‐...and tough...', 'Oh.', '‐...with P‐nuff? ‐Ohh!', '[ Laughter ]', 'Okay, so, try them all, right?', \"No, before that, I'm gonna\", 'give you $300,000 for 10%.', '[ Laughter ]', 'Oh, my, oh, my.', 'Okay, let me calm down.', 'So, you have', 'three flavors there.', 'The original is the orange,', 'which is roasted peanut. Mmm.', \"The other one's\", 'a roasted peanut and cinnamon,', 'and then, we have', 'a roasted peanut and cocoa.', 'How much sugar is in this stuff?', '3 grams in the original,', 'which is very low.', \"What's the price\", 'for these at retail,', \"and what's it cost you to make?\", 'So, retail, we sell', 'between $3.29 and $3.99,', 'which is in line with everything', 'else on the healthy snack area.', '‐Okay. ‐It costs $1.70...', '‐$1.70 landed?', '‐...to the distributor.', 'It costs me to make 75 cents.', 'Hello! Okay,', '$1.70 to the distributor.', '55% margins.', '‐75 cents, all in? ‐All in.', 'Okay, you have 3 grams of fiber,', '5 grams of protein.', \"‐Yes. ‐Calories aren't bad,\", '130 calories.', \"So, that's all good.\", \"This is what's so cool\", 'about this product, right?', \"It's beyond\", 'the healthy snacking.', 'It goes into', 'nutritious snacking.', 'So, the protein is high‐quality', 'complete protein,', 'which for a plant‐based product', 'is very difficult to get.', 'Juan, did you say you were', 'a doctor, nutritionalist,', 'and a bodybuilder?', \"‐Yes. ‐What's your story?\", 'So, I came here', 'when I was 16 years old.', \"I'm from Honduras,\", 'and I came really to realize', 'the American dream.', \"I didn't know English.\", 'I flew right into', 'Newark, New Jersey,', 'and I wanted to go back home.', \"[ Chuckles ] I don't blame you.\", 'My dad really instilled into us', 'that education', 'was the most important thing,', \"and that's what I did.\", 'I went to Rutgers University.', 'I got my degree there', 'with honors.', \"Then I got my Master's\", 'in food science', 'and a PhD in food science.', '‐Wow. ‐Wow.', 'I worked for the largest food', 'company in the United States,', 'then I worked for', 'the second‐largest food company,', 'and then I became the go‐to guy', 'because I was combining', 'chocolates with gels', 'and puddings and bars', 'and cereals.', 'So, you were a formulator?', \"I'm a formulator.\", 'If you have a food company,', 'I know how to make your stuff.', 'To me, this is almost', 'like a dessert snack.', \"‐Right. ‐But you're selling this\", 'next to potato chips.', 'Where is this sitting,', 'and who are you distributing it', 'to right now?', 'Yeah, so, on the shelf,', 'it actually sits', 'next to the healthier options.', 'And we sell through distributors', 'right now.', \"We're in 450 stores.\", \"We're actually also overseas.\", 'What do your sales amount to?', \"That's a wide distribution. Yes.\", 'So, last year, we did $104,000.', 'Let me tell you', 'a little bit about ‐‐', \"That's not that impressive\", 'in the snack category.', \"It's not. But I started\", '4 1/2 years ago with this brand.', 'Now I own', 'a manufacturing facility,', \"and there's a reason for that.\", 'The peanuts,', \"it's a great product,\", 'but my core manufacturers', 'hate it.', 'They hate it', 'because it contaminates', 'everything else that they make', 'in the same line.', '‐Oh. ‐Right?', 'Because of the contamination', 'of peanut oils, right?', 'Correct. It got to a point', 'it was like,', '\"I need to buy my own line,\"', \"because there isn't any company\", 'in the East Coast', 'that could make this product.', \"And we didn't get going\", 'until 2019,', 'and, therefore,', \"that's why the sales are there.\", 'So, because you got kicked out', 'of facility after facility,', 'you decided to open', 'your own facility?', 'Yeah, so I decided', 'to borrow $250,000', 'from my brothers.', 'Wow.', 'And I put in my own line.', 'So, you put 250K into that?', 'And $135,000 of my own,', 'so $375,000 total.', \"And what's your business\", 'been like year to date?', '‐You said you did ‐‐', \"‐Oh, we're $65,000.\", \"So, what, you've done $65,000\", 'halfway through the year?', 'Right. COVID‐19 had', 'a big effect on us.', 'It sounds like', \"you're gonna be flat\", 'if you do another $100,000,', '$110,000 this year.', '$200,000 by the end of the year.', '$1.5 million by next year.', \"‐But it's hard to get excited\", 'about valuing this business', 'at $3 million,', \"even though you're\", 'a very credible entrepreneur', 'in this space.', 'Plant‐based snacks right now', 'are a $35 billion business.', 'I get that.', '‐Growing a 9% ‐‐', \"‐I don't have to tell you,\", 'the snack business', 'is primarily shelf placement.', 'And at eye level, you see all', 'the guys you used to work for.', 'Yeah, it is brutal.', 'It is brutal.', 'They control that space,', \"and they don't like giving up\", 'shelf space to anybody.', 'Is there anybody else', 'who is making a peanut,', 'plant‐based puff?', \"We're the only manufacturing\", 'that can make this product.', \"That's one of the reasons\", \"why I'm here\", 'looking at you guys', 'as strategic partners.', 'My strength is not', 'in marketing or sales.', \"I don't know.\", 'I think you did a fantastic job', 'when you came out. ‐[ Laughs ]', \"I don't know about ‐‐ Right?\", \"So, I'm gonna tell you\", 'a quick story.', 'One day, I come home, and', 'these things are in the pantry.', 'My wife had bought them.', 'So, I do what I always do ‐‐', 'gluten‐free, 130 calories.', \"I ate the whole frickin' bag.\", 'I loved it.', 'My wife was so pissed...', 'Wow.', \"...because she couldn't find it\", 'anywhere else. Who knew?', 'I wanted more.', \"So, I'm gonna make you an offer,\", \"and it's either yes or no.\", \"So, I'll give you the 300K.\", 'I want 25%.', 'Whew!', \"I'm gonna change your life.\", '♪♪', '♪♪', 'All Sharks are still in.', 'Juan is seeking $300,000', 'for a 10% stake', 'in P‐nuff Crunch,', 'a healthy peanut‐based snack.', 'Mark is offering', '$300,000 for 25%.', 'You just got to', 'let me know, right?', \"Because it's gonna be worth\", 'a whole lot more.', 'Listen, Mark, I know you know', 'this is gonna be', 'a $100 million brand', 'in five, six years.', 'Right, but not just with you.', '♪♪', 'Mark, I would love', 'to work with you.', 'I know you have other brands', 'that are just in the same area.', 'I know I can even help you', 'with these other brands.', 'Trust me. I know food.', 'I know food science.', 'How about 15%?', 'No.', \"No. It's just not worth it.\", 'I got a [bleep] load of money.', '[ Chuckles ]', \"So it's got to be\", 'worth it for me', 'to grow this', 'into something special.', \"And it's gonna take time,\", \"because I'm gonna be the one\", 'out there', 'going on all the podcasts', 'and doing the interviews', 'and mentioning it.', \"That's the difference.\", 'Will you meet me a little bit', 'more in the middle?', \"I'll tell you what.\", \"I'll increase the cash to 400K\", 'for the 25%,', \"'cause it's got to be\", 'worth my while.', '‐Juan, are you crazy? ‐Wow.', \"I've been working with Mark\", 'for over a decade now,', \"and I've never seen him\", 'more excited about a product.', 'What are you waiting for?', 'That is an amazing offer.', \"Juan, there's nothing\", 'to think about.', '20%, Mark.', 'Come on.', \"Let's do this.\", 'Wow.', '20%, man.', '$400,000 for 25%, Juan.', \"Ah, [bleep] [bleep] Let's do it.\", \"Let's go! [ All cheering ]\", '$400,000 for 25%. Yeah!', 'Wow, that was scary.', \"‐Good! ‐I'll get naked. Come on.\", '[ Laughs ]', '‐Scary.', \"‐You don't want to see this.\", '‐Yeah, yeah, yeah. ‐Oh, my God.', '[ Laughter ]', \"‐I don't want to embarrass him.\", '‐I love that. I love that.', 'Congrats, Juan.', \"We're gonna make a lot of money.\", 'Amazing.', \"We're gonna make a lot of money.\", \"That's a great deal.\", \"Juan, I'm gonna invite you\", 'to my beach house', 'to give you my best advice.', '[ Laughter ]', '‐Thank you, guys.', '‐Thank you, Juan.', '‐Congrats. ‐Great job.', 'Yes! Got him.', 'So, my parents really sacrificed', 'a lot for me to be here today.', '[ Breathing shakily ]', '[ Voice breaking ]', 'They have given so much for me', 'just to be here right now.', 'They sacrificed so much', 'to send me to school.', \"It's been 35 years\", 'since I got here,', 'and finally, you know,', 'you get to a stage', \"where you're just like,\", 'everything ‐‐ all the work', 'and all the sacrifices', 'are finally working, you know?', \"They're coming to a point\", \"where you're just like ‐‐\", 'Yes, this is a big milestone.', \"And there's much to do,\", 'much more.', \"And they're gonna be so proud.\", \"I can't wait to tell them.\", '♪♪', '♪♪', '♪♪']\n",
      "Narrator: Next up is a scientist\n",
      "♪♪\n"
     ]
    }
   ],
   "source": [
    "# transcripts = line_breaker(data, script.split('\\n'))"
   ]
  },
  {
   "cell_type": "code",
   "execution_count": null,
   "metadata": {},
   "outputs": [],
   "source": [
    "# import os\n",
    "\n",
    "# verbose = True\n",
    "# for j, transcript in enumerate(transcripts):\n",
    "#     # if file exists, skip\n",
    "#     if not os.path.exists(f'raw_data/shark_tank_transcript_raw_{i}_{data[j]['Product']}.txt'):\n",
    "#         with open(f'raw_data/shark_tank_transcript_raw_{i}_{data[j]['Product']}.txt', 'w',encoding='utf-8') as f:\n",
    "#             f.write(str(transcript))"
   ]
  },
  {
   "cell_type": "code",
   "execution_count": null,
   "metadata": {},
   "outputs": [],
   "source": [
    "transcript_instructions = \"\"\"\n",
    "Below is the extracted subtitles of a Shark Tank episode. \n",
    "\n",
    "Note that the transcript is split between the Shark and the Entrepreneur. The Entrepreneur is the person who is pitching the product and the Shark is an angel investor who is looking to invest in the product.\n",
    "\n",
    "Please analyse each line and determine if the speaker is a Entrepreneur or Shark.\n",
    "\n",
    "Please return this in an json readable format as follows:\n",
    "\n",
    "REMEMBER TO READ ALL THE LINES\n",
    "\n",
    "Only provide information that is explicitly mentioned in the text. Leave the text as is.\n",
    "\n",
    "\n",
    "[{\"Speaker\":<Entrepreneur/Shark>,\n",
    "\"Text\": <Utterance>},\n",
    "{\"Speaker\":<Entrepreneur/Shark>,\n",
    "\"Text\": <Utterance>}]\n",
    "\n",
    "\"\"\""
   ]
  },
  {
   "cell_type": "code",
   "execution_count": null,
   "metadata": {},
   "outputs": [
    {
     "name": "stdout",
     "output_type": "stream",
     "text": [
      "https://subslikescript.com/series/Shark_Tank-1442550/season-12/episode-1-Episode_121\n",
      "https://subslikescript.com/series/Shark_Tank-1442550/season-12/episode-2-Episode_122\n",
      "Pooch Paper\n",
      "P-nuff Crunch\n",
      "https://subslikescript.com/series/Shark_Tank-1442550/season-12/episode-6-Episode_126\n",
      "https://subslikescript.com/series/Shark_Tank-1442550/season-12/episode-9-Episode_129\n",
      "Basepaws\n",
      "https://subslikescript.com/series/Shark_Tank-1442550/season-12/episode-11-Episode_1211\n",
      "https://subslikescript.com/series/Shark_Tank-1442550/season-12/episode-23-Episode_1223\n",
      "Boost Oxygen\n",
      "(5, 1, JSONDecodeError('Expecting property name enclosed in double quotes: line 341 column 25 (char 29519)'))\n",
      "https://subslikescript.com/series/Shark_Tank-1442550/season-12/episode-24-Episode_1224\n",
      "(6, 1, IndexError('list index out of range'))\n",
      "https://subslikescript.com/series/Shark_Tank-1442550/season-12/episode-25-Episode_1225\n",
      "https://subslikescript.com/series/Shark_Tank-1442550/season-13/episode-4-Episode_134\n",
      "https://subslikescript.com/series/Shark_Tank-1442550/season-13/episode-5-Episode_135\n",
      "(9, 3, IndexError('list index out of range'))\n",
      "https://subslikescript.com/series/Shark_Tank-1442550/season-13/episode-6-Episode_136\n",
      "https://subslikescript.com/series/Shark_Tank-1442550/season-13/episode-7-Episode_137\n",
      "Dude Wipes\n",
      "https://subslikescript.com/series/Shark_Tank-1442550/season-13/episode-8-Episode_138\n",
      "Holiball\n",
      "Elf Grams\n",
      "Santa's Enchanted Mailbox\n",
      "https://subslikescript.com/series/Shark_Tank-1442550/season-13/episode-9-Episode_139\n",
      "Liberate\n",
      "Tenikle\n"
     ]
    }
   ],
   "source": [
    "import os\n",
    "\n",
    "failed = []\n",
    "for i, raw in enumerate(extract_list):\n",
    "    try:\n",
    "        verbose = False\n",
    "        print(raw['url'])\n",
    "        data = json_converter(call_api(sys_context, instructions + raw['script']))\n",
    "        transcripts = line_breaker(data, raw['script'].split('\\n'))\n",
    "        for j, transcript in enumerate(transcripts):\n",
    "            # if file exists, skip\n",
    "            if not os.path.exists(f'raw_data/shark_tank_transcript_raw_{i}_{data[j]['Product']}.txt'):\n",
    "                with open(f'raw_data/shark_tank_transcript_raw_{i}_{data[j]['Product']}.txt', 'w',encoding='utf-8') as f:\n",
    "                    f.write(str(transcript))\n",
    "            # if file exists, skip\n",
    "            if os.path.exists(f'Prelim_Data_Split/shark_tank_transcript_{i}_{data[j]['Product']}.txt'):\n",
    "                continue\n",
    "            print(data[j]['Product'])\n",
    "            user_input = transcript_instructions + \"\\n\".join(transcript)\n",
    "            output =  call_api(sys_context, user_input, tempreature=0.5,max_completion_tokens=8192)\n",
    "            output = json_converter(output)\n",
    "            with open(f'Prelim_Data_Split/shark_tank_transcript_{i}_{data[j]['Product']}.txt', 'w',encoding='utf-8') as f:\n",
    "                f.write(str(output))\n",
    "    except Exception as e:\n",
    "        print((i, j, e))\n",
    "        failed.append((i, j, e))\n",
    "        continue\n",
    "\n",
    "with open(f\"failed.txt\", 'w') as f:\n",
    "    for item in failed:\n",
    "        f.write(f\"{item}\\n\")"
   ]
  }
 ],
 "metadata": {
  "kernelspec": {
   "display_name": ".venv",
   "language": "python",
   "name": "python3"
  },
  "language_info": {
   "codemirror_mode": {
    "name": "ipython",
    "version": 3
   },
   "file_extension": ".py",
   "mimetype": "text/x-python",
   "name": "python",
   "nbconvert_exporter": "python",
   "pygments_lexer": "ipython3",
   "version": "3.12.8"
  }
 },
 "nbformat": 4,
 "nbformat_minor": 2
}
