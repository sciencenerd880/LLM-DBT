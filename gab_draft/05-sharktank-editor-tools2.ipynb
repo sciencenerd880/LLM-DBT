{
 "cells": [
  {
   "cell_type": "code",
   "execution_count": 1,
   "metadata": {},
   "outputs": [],
   "source": [
    "import os, json, re\n",
    "import random, time\n",
    "import pandas as pd, numpy as np\n",
    "from tqdm import tqdm\n",
    "from datetime import datetime, timedelta\n",
    "from dotenv import load_dotenv\n",
    "\n",
    "from itertools import islice\n",
    "\n",
    "# Util built for sharktank project\n",
    "import sharktank_utils_mod as su\n",
    "from sharktank_utils_mod import load_facts, PitchOrchestrator, metrics_calculation, PitchEditor, OrchestratorResponse, PitchEquipped\n",
    "\n",
    "# Agno for llm agents\n",
    "from agno.agent import Agent\n",
    "from agno.models.groq import Groq\n",
    "from agno.storage.agent.sqlite import SqliteAgentStorage\n",
    "from agno.tools.duckduckgo import DuckDuckGoTools\n",
    "# from agno.tools.wikipedia import WikipediaTools\n",
    "\n",
    "# Other LLM utils\n",
    "from langchain_core.output_parsers import PydanticOutputParser\n",
    "from pydantic import BaseModel, Field\n",
    "from typing import List, Dict, Optional"
   ]
  },
  {
   "cell_type": "code",
   "execution_count": 2,
   "metadata": {},
   "outputs": [],
   "source": [
    "load_dotenv()\n",
    "os.environ[\"GROQ_API_KEY\"] = os.getenv(\"GROQ_API_KEY\")"
   ]
  },
  {
   "cell_type": "code",
   "execution_count": 3,
   "metadata": {},
   "outputs": [],
   "source": [
    "reference_models = su.REFERENCE_MODELS\n",
    "agent_storage = su.agent_storage\n",
    "edit_reference_models = su.EDIT_REFERENCE_MODELS"
   ]
  },
  {
   "cell_type": "code",
   "execution_count": 4,
   "metadata": {},
   "outputs": [],
   "source": [
    "facts_store = load_facts()\n",
    "pitches = {k:\"\" for k,_ in facts_store.items()}\n",
    "metrics = {k:\"\" for k,_ in facts_store.items()}\n",
    "time_stamps = {k:\"\" for k,_ in facts_store.items()}"
   ]
  },
  {
   "cell_type": "code",
   "execution_count": 5,
   "metadata": {},
   "outputs": [
    {
     "name": "stderr",
     "output_type": "stream",
     "text": [
      "[00:48<00:00] 2/2 | Running Pitch Editing Iterations: 100%|\u001b[33m██████████\u001b[0m 24.30s/it\n",
      "Generating pitches: 1it [00:48, 48.60s/it]\n"
     ]
    }
   ],
   "source": [
    "# Main loop\n",
    "orcheditor = PitchEquipped(reference=edit_reference_models, iterations=2)\n",
    "goal = 'create a pitch with the given facts'\n",
    "\n",
    "RUN_FIRST_N = True      # Change to False to run all\n",
    "N = 1\n",
    "\n",
    "cases_to_run = islice(facts_store.items(), N) if RUN_FIRST_N else facts_store.items()\n",
    "for case, facts in tqdm(cases_to_run, desc=\"Generating pitches\"):\n",
    "    # case = 'facts_shark_tank_transcript_37_TIK PIK.txt'\n",
    "    lean_facts = {\n",
    "        'facts': facts['facts'],\n",
    "        'product_description': facts['product_description']\n",
    "    }\n",
    "    try:\n",
    "        pitch = orcheditor.orchestrate_with_edit(goal, lean_facts, verbose=False)\n",
    "        pitches[case] = pitch\n",
    "        metrics[case] = orcheditor.logs\n",
    "        time_stamps[case] = datetime.now().strftime(\"%Y-%m-%d %H:%M:%S\")\n",
    "    except Exception as e:\n",
    "        print(f\"{case} error: {e}\")\n",
    "        pitches[case] = \"\"\n",
    "        metrics[case] = []\n",
    "        time_stamps[case] = datetime.now().strftime(\"%Y-%m-%d %H:%M:%S\")\n",
    "\n",
    "    # Reset for next run\n",
    "    orcheditor.logs = []\n",
    "    orcheditor.agents = {}"
   ]
  },
  {
   "cell_type": "code",
   "execution_count": 6,
   "metadata": {},
   "outputs": [
    {
     "data": {
      "text/plain": [
       "dict_keys(['facts_shark_tank_transcript_0_GarmaGuard.txt', 'facts_shark_tank_transcript_0_Roadie.txt', 'facts_shark_tank_transcript_0_TouchUp Cup.txt', 'facts_shark_tank_transcript_10_Deux.txt', 'facts_shark_tank_transcript_10_Fish Fixe.txt', 'facts_shark_tank_transcript_10_Hidrent.txt', 'facts_shark_tank_transcript_11_Dude Wipes.txt', 'facts_shark_tank_transcript_11_Love & Pebble.txt', 'facts_shark_tank_transcript_11_Pink Picasso.txt', 'facts_shark_tank_transcript_11_Sheets Laundry Club.txt', 'facts_shark_tank_transcript_11_Zach & Zoe Sweet Bee Farm.txt', 'facts_shark_tank_transcript_12_Elf Grams.txt', 'facts_shark_tank_transcript_12_Ornament Anchor.txt', \"facts_shark_tank_transcript_12_Santa's Enchanted Mailbox.txt\", \"facts_shark_tank_transcript_12_Wendy's Gnome Shop.txt\", 'facts_shark_tank_transcript_13_Banana Loca.txt', 'facts_shark_tank_transcript_13_Liberate.txt', 'facts_shark_tank_transcript_13_MAXPRO SmartConnect.txt', 'facts_shark_tank_transcript_13_Tenikle.txt', 'facts_shark_tank_transcript_14_Black Sands Entertainment.txt', 'facts_shark_tank_transcript_14_Candi.txt', 'facts_shark_tank_transcript_14_Snactiv.txt', 'facts_shark_tank_transcript_14_The SMART Tire Company.txt', 'facts_shark_tank_transcript_15_Headlightz.txt', 'facts_shark_tank_transcript_15_VaBroom.txt', 'facts_shark_tank_transcript_16_TA3.txt', 'facts_shark_tank_transcript_16_Tania Speaks Organic Skincare.txt', 'facts_shark_tank_transcript_16_Tristen Ikaika.txt', 'facts_shark_tank_transcript_17_Calm Strips.txt', 'facts_shark_tank_transcript_17_Kettle Gryp.txt', 'facts_shark_tank_transcript_18_Ade + Ayo.txt', 'facts_shark_tank_transcript_18_Behave Bras.txt', 'facts_shark_tank_transcript_18_Curie.txt', 'facts_shark_tank_transcript_18_NOGGIN Boss.txt', 'facts_shark_tank_transcript_19_Chapul.txt', 'facts_shark_tank_transcript_19_Do Amore.txt', 'facts_shark_tank_transcript_19_ootBox.txt', 'facts_shark_tank_transcript_19_SUNFLOW.txt', 'facts_shark_tank_transcript_1_BootayBag.txt', 'facts_shark_tank_transcript_1_GoOats.txt', 'facts_shark_tank_transcript_1_Pooch Paper.txt', 'facts_shark_tank_transcript_20_Chill-N-Reel.txt', 'facts_shark_tank_transcript_20_Drifties.txt', 'facts_shark_tank_transcript_20_Springer.txt', 'facts_shark_tank_transcript_20_Stryx.txt', 'facts_shark_tank_transcript_21_Kent.txt', 'facts_shark_tank_transcript_21_Oogiebear.txt', 'facts_shark_tank_transcript_22_Banana Phone.txt', 'facts_shark_tank_transcript_22_Stealth Bros & Co..txt', 'facts_shark_tank_transcript_22_The Woobles.txt', 'facts_shark_tank_transcript_22_Turbo Trusser.txt', 'facts_shark_tank_transcript_23_Create A Castle.txt', \"facts_shark_tank_transcript_23_Mama O's Premium Kimchi.txt\", 'facts_shark_tank_transcript_23_Pumpkin Glove Scraper.txt', 'facts_shark_tank_transcript_23_Stakt.txt', 'facts_shark_tank_transcript_24_Storage Scholars.txt', 'facts_shark_tank_transcript_24_Woosh.txt', 'facts_shark_tank_transcript_25_Bridal Babes.txt', 'facts_shark_tank_transcript_25_Plufl.txt', 'facts_shark_tank_transcript_26_Collars & Co..txt', 'facts_shark_tank_transcript_26_SquareOne.txt', 'facts_shark_tank_transcript_27_Boarderie.txt', 'facts_shark_tank_transcript_27_Ride FRSH.txt', 'facts_shark_tank_transcript_28_HummViewer.txt', 'facts_shark_tank_transcript_28_ShredSkinz.txt', 'facts_shark_tank_transcript_29_ChessUp.txt', 'facts_shark_tank_transcript_29_ZipString.txt', 'facts_shark_tank_transcript_2_Prime 6.txt', 'facts_shark_tank_transcript_30_Eat Your Flowers.txt', 'facts_shark_tank_transcript_30_Foam Party Hats.txt', 'facts_shark_tank_transcript_31_Flated.txt', 'facts_shark_tank_transcript_31_Pluie.txt', 'facts_shark_tank_transcript_31_Sweetkiwi.txt', 'facts_shark_tank_transcript_31_Woof.txt', 'facts_shark_tank_transcript_32_Autio.txt', 'facts_shark_tank_transcript_32_Chubby Buttons.txt', 'facts_shark_tank_transcript_32_Crispy Cones.txt', 'facts_shark_tank_transcript_32_Tngnt Ski Bikes.txt', 'facts_shark_tank_transcript_33_Bleni Blends.txt', 'facts_shark_tank_transcript_33_Happi Floss.txt', 'facts_shark_tank_transcript_33_LavaBox Portable Campfires.txt', 'facts_shark_tank_transcript_33_The Ice Cream Canteen.txt', 'facts_shark_tank_transcript_34_Cincha Travel Belt.txt', 'facts_shark_tank_transcript_34_Parting Stone.txt', 'facts_shark_tank_transcript_35_Dapper Boi.txt', 'facts_shark_tank_transcript_35_Honey Bunchies.txt', 'facts_shark_tank_transcript_35_Play Maysie.txt', 'facts_shark_tank_transcript_35_Tia Lupita.txt', 'facts_shark_tank_transcript_36_Collars & Co..txt', \"facts_shark_tank_transcript_36_Nature's Wild Berry.txt\", 'facts_shark_tank_transcript_36_Noshi.txt', 'facts_shark_tank_transcript_36_You Go Natural.txt', 'facts_shark_tank_transcript_37_Krapp Strapp.txt', 'facts_shark_tank_transcript_37_Mini Materials.txt', 'facts_shark_tank_transcript_37_Supermix Studio.txt', 'facts_shark_tank_transcript_38_The Fidget Game.txt', 'facts_shark_tank_transcript_38_Bunny Eyez.txt', 'facts_shark_tank_transcript_37_TIK PIK.txt', 'facts_shark_tank_transcript_9_SPERGO.txt', 'facts_shark_tank_transcript_8_54 Thrones.txt', 'facts_shark_tank_transcript_8_SoaPen.txt', 'facts_shark_tank_transcript_8_Tabby.txt', 'facts_shark_tank_transcript_8_TheMagic5.txt', 'facts_shark_tank_transcript_7_Super Potty Trainer.txt', 'facts_shark_tank_transcript_7_LIT Handlers.txt', 'facts_shark_tank_transcript_7_Copper Cow Coffee.txt', 'facts_shark_tank_transcript_6_The Original Stretchlace.txt', \"facts_shark_tank_transcript_6_Float'N'Grill.txt\", 'facts_shark_tank_transcript_6_Frobert.txt', 'facts_shark_tank_transcript_5_BeerMKR.txt', 'facts_shark_tank_transcript_5_SneakErasers.txt', 'facts_shark_tank_transcript_5_Grind Machine.txt', 'facts_shark_tank_transcript_4_SwipenSnap.txt', 'facts_shark_tank_transcript_4_Aura Bora.txt', 'facts_shark_tank_transcript_4_Brumachen.txt', 'facts_shark_tank_transcript_3_TrophySmack.txt', 'facts_shark_tank_transcript_3_His & Her Bar.txt', 'facts_shark_tank_transcript_3_All33.txt', 'facts_shark_tank_transcript_3_Electra.txt'])"
      ]
     },
     "execution_count": 6,
     "metadata": {},
     "output_type": "execute_result"
    }
   ],
   "source": [
    "pitches.keys()"
   ]
  },
  {
   "cell_type": "code",
   "execution_count": 7,
   "metadata": {},
   "outputs": [
    {
     "name": "stdout",
     "output_type": "stream",
     "text": [
      "{\n",
      "    \"Pitch\": \"We are introducing GarmaGuard, a revolutionary, eco-friendly product that offers a unique solution for outdoor enthusiasts and environmentally conscious consumers. With a strong marketing and product development plan in place, we are poised to disrupt the market and capture a significant share. Our competitive research has identified a gap in the market for a product like GarmaGuard, and we are confident that our digital marketing campaigns, influencer partnerships, and content marketing strategies will drive growth and adoption. We believe that GarmaGuard has the potential to become a household name and are seeking funding to support our launch and expansion plans.\",\n",
      "    \"Initial_Offer\": {\n",
      "        \"Valuation\": \"$5 million\",\n",
      "        \"Equity_Offered\": \"10%\",\n",
      "        \"Funding_Amount\": \"$500,000\",\n",
      "        \"Key_Terms\": \"The funding will be used to support product development, marketing, and operational costs. Investors will have a seat on the board and regular updates on the company's progress.\"\n",
      "    }\n",
      "}\n"
     ]
    }
   ],
   "source": [
    "print(pitches[\"facts_shark_tank_transcript_0_GarmaGuard.txt\"])"
   ]
  },
  {
   "cell_type": "code",
   "execution_count": 8,
   "metadata": {},
   "outputs": [
    {
     "name": "stdout",
     "output_type": "stream",
     "text": [
      "\n"
     ]
    }
   ],
   "source": [
    "print(pitches[\"facts_shark_tank_transcript_0_Roadie.txt\"])"
   ]
  },
  {
   "cell_type": "code",
   "execution_count": null,
   "metadata": {},
   "outputs": [],
   "source": []
  }
 ],
 "metadata": {
  "kernelspec": {
   "display_name": "sharktank",
   "language": "python",
   "name": "python3"
  },
  "language_info": {
   "codemirror_mode": {
    "name": "ipython",
    "version": 3
   },
   "file_extension": ".py",
   "mimetype": "text/x-python",
   "name": "python",
   "nbconvert_exporter": "python",
   "pygments_lexer": "ipython3",
   "version": "3.10.16"
  }
 },
 "nbformat": 4,
 "nbformat_minor": 2
}
