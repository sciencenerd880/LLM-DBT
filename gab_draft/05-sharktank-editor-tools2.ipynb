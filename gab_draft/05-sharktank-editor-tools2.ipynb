{
 "cells": [
  {
   "cell_type": "code",
   "execution_count": 2,
   "metadata": {},
   "outputs": [],
   "source": [
    "import os, json, re\n",
    "import random, time\n",
    "import pandas as pd, numpy as np\n",
    "from tqdm import tqdm\n",
    "from datetime import datetime, timedelta\n",
    "from dotenv import load_dotenv\n",
    "\n",
    "from itertools import islice\n",
    "\n",
    "# Util built for sharktank project\n",
    "import sharktank_utils_mod as su\n",
    "from sharktank_utils_mod import load_facts, PitchOrchestrator, metrics_calculation, PitchEditor, OrchestratorResponse, PitchEquipped\n",
    "\n",
    "# Agno for llm agents\n",
    "from agno.agent import Agent\n",
    "from agno.models.groq import Groq\n",
    "from agno.storage.agent.sqlite import SqliteAgentStorage\n",
    "from agno.tools.duckduckgo import DuckDuckGoTools\n",
    "from agno.tools.wikipedia import WikipediaTools\n",
    "\n",
    "# Other LLM utils\n",
    "from langchain_core.output_parsers import PydanticOutputParser\n",
    "from pydantic import BaseModel, Field\n",
    "from typing import List, Dict, Optional"
   ]
  },
  {
   "cell_type": "code",
   "execution_count": 7,
   "metadata": {},
   "outputs": [],
   "source": [
    "load_dotenv()\n",
    "os.environ[\"GROQ_API_KEY\"] = os.getenv(\"GROQ_API_KEY\")"
   ]
  },
  {
   "cell_type": "code",
   "execution_count": 8,
   "metadata": {},
   "outputs": [],
   "source": [
    "reference_models = su.REFERENCE_MODELS\n",
    "agent_storage = su.agent_storage\n",
    "edit_reference_models = su.EDIT_REFERENCE_MODELS"
   ]
  },
  {
   "cell_type": "code",
   "execution_count": 9,
   "metadata": {},
   "outputs": [],
   "source": [
    "facts_store = load_facts()\n",
    "pitches = {k:\"\" for k,_ in facts_store.items()}\n",
    "metrics = {k:\"\" for k,_ in facts_store.items()}\n",
    "time_stamps = {k:\"\" for k,_ in facts_store.items()}"
   ]
  },
  {
   "cell_type": "code",
   "execution_count": 10,
   "metadata": {},
   "outputs": [],
   "source": [
    "# Main loop\n",
    "orcheditor = PitchEquipped(reference=edit_reference_models, iterations=2)\n",
    "goal = 'create a pitch with the given facts'\n",
    "\n",
    "RUN_FIRST_N = True      # Change to False to run all\n",
    "N = 1"
   ]
  },
  {
   "cell_type": "code",
   "execution_count": 12,
   "metadata": {},
   "outputs": [
    {
     "name": "stderr",
     "output_type": "stream",
     "text": [
      "[00:55<00:00] 2/2 | Running Pitch Editing Iterations: 100%|\u001b[33m██████████\u001b[0m 27.78s/it\n",
      "Generating pitches: 1it [00:55, 55.56s/it]\n"
     ]
    }
   ],
   "source": [
    "cases_to_run = islice(facts_store.items(), N) if RUN_FIRST_N else facts_store.items()\n",
    "for case, facts in tqdm(cases_to_run, desc=\"Generating pitches\"):\n",
    "    # case = 'facts_shark_tank_transcript_37_TIK PIK.txt'\n",
    "    lean_facts = {\n",
    "        'facts': facts['facts'],\n",
    "        'product_description': facts['product_description']\n",
    "    }\n",
    "    try:\n",
    "        pitch = orcheditor.orchestrate_with_edit(goal, lean_facts, verbose=False)\n",
    "        pitches[case] = pitch\n",
    "        metrics[case] = orcheditor.logs\n",
    "        time_stamps[case] = datetime.now().strftime(\"%Y-%m-%d %H:%M:%S\")\n",
    "    except Exception as e:\n",
    "        print(f\"{case} error: {e}\")\n",
    "        pitches[case] = \"\"\n",
    "        metrics[case] = []\n",
    "        time_stamps[case] = datetime.now().strftime(\"%Y-%m-%d %H:%M:%S\")\n",
    "\n",
    "    # Reset for next run\n",
    "    orcheditor.logs = []\n",
    "    orcheditor.agents = {}"
   ]
  },
  {
   "cell_type": "code",
   "execution_count": null,
   "metadata": {},
   "outputs": [],
   "source": []
  }
 ],
 "metadata": {
  "kernelspec": {
   "display_name": "sharktank",
   "language": "python",
   "name": "python3"
  },
  "language_info": {
   "codemirror_mode": {
    "name": "ipython",
    "version": 3
   },
   "file_extension": ".py",
   "mimetype": "text/x-python",
   "name": "python",
   "nbconvert_exporter": "python",
   "pygments_lexer": "ipython3",
   "version": "3.10.16"
  }
 },
 "nbformat": 4,
 "nbformat_minor": 2
}
