{
 "cells": [
  {
   "cell_type": "code",
   "execution_count": 1,
   "metadata": {},
   "outputs": [
    {
     "name": "stderr",
     "output_type": "stream",
     "text": [
      "c:\\Users\\gabjj\\anaconda3\\envs\\sharktank\\lib\\site-packages\\tqdm\\auto.py:21: TqdmWarning: IProgress not found. Please update jupyter and ipywidgets. See https://ipywidgets.readthedocs.io/en/stable/user_install.html\n",
      "  from .autonotebook import tqdm as notebook_tqdm\n"
     ]
    },
    {
     "name": "stdout",
     "output_type": "stream",
     "text": [
      "\n",
      "[Knowledge Loader] ================================\n",
      ">> Chunking Strategy: FIXED\n",
      ">> Agent Storage File: tmp/pdf_rag.db\n",
      ">> Agent Table Name: HBS_fixed_agent\n",
      ">> ChromaDB Collection Name: HBS_fixed\n",
      ">> ChromaDB Storage Path: ./chromadb_data\n",
      ">> PDFs Being Processed:\n",
      "   - https://raw.githubusercontent.com/sciencenerd880/LLM-DBT/main/data/pdfs/hbs_opportunities.pdf\n",
      "   - https://raw.githubusercontent.com/sciencenerd880/LLM-DBT/main/data/pdfs/hbs_pitchdeck_sample.pdf\n",
      "===================================================\n",
      "\n"
     ]
    },
    {
     "data": {
      "text/html": [
       "<pre style=\"white-space:pre;overflow-x:auto;line-height:normal;font-family:Menlo,'DejaVu Sans Mono',consolas,'Courier New',monospace\"><span style=\"color: #000080; text-decoration-color: #000080\">INFO    </span> Embedder not provided, using OpenAIEmbedder as default.                                                   \n",
       "</pre>\n"
      ],
      "text/plain": [
       "\u001b[34mINFO    \u001b[0m Embedder not provided, using OpenAIEmbedder as default.                                                   \n"
      ]
     },
     "metadata": {},
     "output_type": "display_data"
    }
   ],
   "source": [
    "import os, json, re\n",
    "import random, time\n",
    "import pandas as pd, numpy as np\n",
    "from tqdm import tqdm\n",
    "from datetime import datetime, timedelta\n",
    "from dotenv import load_dotenv\n",
    "\n",
    "from itertools import islice\n",
    "\n",
    "# Util built for sharktank project\n",
    "import trial_sharktank_utils_mod as su\n",
    "from trial_sharktank_utils_mod import load_facts, PitchOrchestrator, metrics_calculation, PitchEditor, OrchestratorResponse, PitchEquipped\n",
    "\n",
    "# Agno for llm agents\n",
    "from agno.agent import Agent\n",
    "from agno.models.groq import Groq\n",
    "from agno.storage.agent.sqlite import SqliteAgentStorage\n",
    "from agno.tools.duckduckgo import DuckDuckGoTools\n",
    "# from agno.tools.wikipedia import WikipediaTools\n",
    "\n",
    "# Other LLM utils\n",
    "from langchain_core.output_parsers import PydanticOutputParser\n",
    "from pydantic import BaseModel, Field\n",
    "from typing import List, Dict, Optional"
   ]
  },
  {
   "cell_type": "code",
   "execution_count": null,
   "metadata": {},
   "outputs": [],
   "source": [
    "load_dotenv()\n",
    "os.environ[\"OEPNAI_API_KEY\"] = \"\"\n",
    "os.environ[\"GROQ_API_KEY\"] = os.getenv(\"GROQ_API_KEY\")"
   ]
  },
  {
   "cell_type": "code",
   "execution_count": 3,
   "metadata": {},
   "outputs": [],
   "source": [
    "reference_models = su.REFERENCE_MODELS\n",
    "agent_storage = su.agent_storage\n",
    "edit_reference_models = su.EDIT_REFERENCE_MODELS"
   ]
  },
  {
   "cell_type": "code",
   "execution_count": 4,
   "metadata": {},
   "outputs": [],
   "source": [
    "facts_store = load_facts()\n",
    "pitches = {k:\"\" for k,_ in facts_store.items()}\n",
    "metrics = {k:\"\" for k,_ in facts_store.items()}\n",
    "time_stamps = {k:\"\" for k,_ in facts_store.items()}"
   ]
  },
  {
   "cell_type": "code",
   "execution_count": 5,
   "metadata": {},
   "outputs": [],
   "source": [
    "facts_store = load_facts()\n",
    "remaining_pitches = [\n",
    "    \"facts_shark_tank_transcript_23_Stakt.txt\"\n",
    "]\n",
    "\n",
    "facts_store = {k:v for k,v in facts_store.items() if k in remaining_pitches}"
   ]
  },
  {
   "cell_type": "code",
   "execution_count": 6,
   "metadata": {},
   "outputs": [
    {
     "name": "stdout",
     "output_type": "stream",
     "text": [
      "dict_keys(['facts_shark_tank_transcript_23_Stakt.txt'])\n"
     ]
    }
   ],
   "source": [
    "print(facts_store.keys())"
   ]
  },
  {
   "cell_type": "code",
   "execution_count": 7,
   "metadata": {},
   "outputs": [
    {
     "name": "stderr",
     "output_type": "stream",
     "text": [
      "Generating pitches:   0%|          | 0/1 [00:00<?, ?it/s]"
     ]
    },
    {
     "data": {
      "text/html": [
       "<pre style=\"white-space:pre;overflow-x:auto;line-height:normal;font-family:Menlo,'DejaVu Sans Mono',consolas,'Courier New',monospace\"><span style=\"color: #000080; text-decoration-color: #000080\">INFO    </span> Dividing <span style=\"color: #008080; text-decoration-color: #008080; font-weight: bold\">110000.0</span> by <span style=\"color: #008080; text-decoration-color: #008080; font-weight: bold\">6.5</span> to get <span style=\"color: #008080; text-decoration-color: #008080; font-weight: bold\">16923.076923076922</span>                                                        \n",
       "</pre>\n"
      ],
      "text/plain": [
       "\u001b[34mINFO    \u001b[0m Dividing \u001b[1;36m110000.0\u001b[0m by \u001b[1;36m6.5\u001b[0m to get \u001b[1;36m16923.076923076922\u001b[0m                                                        \n"
      ]
     },
     "metadata": {},
     "output_type": "display_data"
    },
    {
     "data": {
      "text/html": [
       "<pre style=\"white-space:pre;overflow-x:auto;line-height:normal;font-family:Menlo,'DejaVu Sans Mono',consolas,'Courier New',monospace\"><span style=\"color: #000080; text-decoration-color: #000080\">INFO    </span> Dividing <span style=\"color: #008080; text-decoration-color: #008080; font-weight: bold\">110000.0</span> by <span style=\"color: #008080; text-decoration-color: #008080; font-weight: bold\">6.5</span> to get <span style=\"color: #008080; text-decoration-color: #008080; font-weight: bold\">16923.076923076922</span>                                                        \n",
       "</pre>\n"
      ],
      "text/plain": [
       "\u001b[34mINFO    \u001b[0m Dividing \u001b[1;36m110000.0\u001b[0m by \u001b[1;36m6.5\u001b[0m to get \u001b[1;36m16923.076923076922\u001b[0m                                                        \n"
      ]
     },
     "metadata": {},
     "output_type": "display_data"
    },
    {
     "name": "stderr",
     "output_type": "stream",
     "text": [
      "[00:50<00:00] 2/2 | Running Pitch Editing Iterations: 100%|\u001b[33m██████████\u001b[0m 25.14s/it\n",
      "Generating pitches: 100%|██████████| 1/1 [00:50<00:00, 50.29s/it]\n"
     ]
    }
   ],
   "source": [
    "# Main loop\n",
    "orcheditor = PitchEquipped(\n",
    "    reference=edit_reference_models, \n",
    "    iterations=2,\n",
    "    orchestrator=\"llama-3.3-70b-versatile\"\n",
    "    # orchestrator=\"deepseek-r1-distill-llama-70b\"\n",
    ")\n",
    "goal = 'create a pitch with the given facts'\n",
    "\n",
    "RUN_FIRST_N = False      # Change to False to run all\n",
    "N = 1\n",
    "\n",
    "cases_to_run = islice(facts_store.items(), N) if RUN_FIRST_N else facts_store.items()\n",
    "# cases_to_run = facts_store\n",
    "for case, facts in tqdm(cases_to_run, desc=\"Generating pitches\"):\n",
    "# case = 'facts_shark_tank_transcript_28_HummViewer.txt'\n",
    "# facts = facts_store[case]\n",
    "    lean_facts = {\n",
    "        'facts': facts['facts'],\n",
    "        'product_description': facts['product_description']\n",
    "    }\n",
    "    if pitches[case] != \"\":\n",
    "        # Reset for next run\n",
    "        orcheditor.logs = []\n",
    "        orcheditor.agents = {}\n",
    "    try:\n",
    "        pitch = orcheditor.orchestrate_with_edit(goal, lean_facts, verbose=False)\n",
    "        pitches[case] = pitch\n",
    "        metrics[case] = orcheditor.logs\n",
    "        time_stamps[case] = datetime.now().strftime(\"%Y-%m-%d %H:%M:%S\")\n",
    "    except Exception as e:\n",
    "        print(f\"{case} error: {e}\")\n",
    "        pitches[case] = \"\"\n",
    "        metrics[case] = []\n",
    "        time_stamps[case] = datetime.now().strftime(\"%Y-%m-%d %H:%M:%S\")\n",
    "\n",
    "    # Reset for next run\n",
    "    orcheditor.logs = []\n",
    "    orcheditor.agents = {}"
   ]
  },
  {
   "cell_type": "code",
   "execution_count": 8,
   "metadata": {},
   "outputs": [
    {
     "name": "stdout",
     "output_type": "stream",
     "text": [
      "{\n",
      "    \"Pitch\": \"Introducing Stakt, the revolutionary foldable yoga mat that combines functionality, comfort, and convenience. With its unique foldable design, Stakt offers easy storage and transport, perfect for yogis on-the-go. The mat's double thickness provides extra cushioning and support, ideal for intense workouts and joint issues. Additionally, Stakt transforms into a block for various exercises, adding versatility to your practice. The convenient carrying strap makes transportation effortless. Made from non-toxic, non-porous EVA foam, Stakt prioritizes safety and durability. With your investment, we plan to scale production, expand our marketing efforts, and explore strategic partnerships to bring Stakt to the masses and capitalize on the growing demand for premium yoga mats.\",\n",
      "    \"Initial_Offer\": {\n",
      "        \"Valuation\": \"$1 million\",\n",
      "        \"Equity_Offered\": \"10%\",\n",
      "        \"Funding_Amount\": \"$100,000\",\n",
      "        \"Key_Terms\": \"Funds will be allocated to increase production capacity, enhance marketing efforts, and establish strategic partnerships.\"\n",
      "    }\n",
      "}\n"
     ]
    }
   ],
   "source": [
    "print(pitch)"
   ]
  },
  {
   "cell_type": "code",
   "execution_count": 9,
   "metadata": {},
   "outputs": [],
   "source": [
    "calculated_metrics = []\n",
    "for product, metric in metrics.items():\n",
    "    calculated_metrics.append(metrics_calculation(metric))\n",
    "input_lengths, output_lengths, latencies = zip(*calculated_metrics)"
   ]
  },
  {
   "cell_type": "code",
   "execution_count": 10,
   "metadata": {},
   "outputs": [],
   "source": [
    "timestamp = datetime.now().strftime('%Y-%d-%m')\n",
    "framework = \"orchestrator\"\n",
    "layer = \"orchestrator_1\"\n",
    "pitches_df = pd.DataFrame(\n",
    "    data={\n",
    "        'scenario_name':list(pitches.keys()),\n",
    "        'framework':len(pitches) * [framework],\n",
    "        'layer':len(pitches) * [layer],\n",
    "        'model_name': len(pitches) * [\"groq/\" + orcheditor.orchestrator + \"/groq\" + orcheditor.editor],\n",
    "        'model_identity':len(pitches) * [\"groq/\" + orcheditor.orchestrator + \"/groq\" + orcheditor.editor],\n",
    "        'latency':latencies,\n",
    "        'input_length':input_lengths,\n",
    "        'output_length':output_lengths,\n",
    "        'time_stamp':list(time_stamps.values()),\n",
    "        'response':list(pitches.values()),\n",
    "    }\n",
    ")"
   ]
  },
  {
   "cell_type": "code",
   "execution_count": 11,
   "metadata": {},
   "outputs": [],
   "source": [
    "pitches_df.to_excel(f\"{timestamp}-orchestrator-editRAGlong-versatile-fewshot-01.xlsx\")"
   ]
  }
 ],
 "metadata": {
  "kernelspec": {
   "display_name": "sharktank",
   "language": "python",
   "name": "python3"
  },
  "language_info": {
   "codemirror_mode": {
    "name": "ipython",
    "version": 3
   },
   "file_extension": ".py",
   "mimetype": "text/x-python",
   "name": "python",
   "nbconvert_exporter": "python",
   "pygments_lexer": "ipython3",
   "version": "3.10.16"
  }
 },
 "nbformat": 4,
 "nbformat_minor": 2
}
