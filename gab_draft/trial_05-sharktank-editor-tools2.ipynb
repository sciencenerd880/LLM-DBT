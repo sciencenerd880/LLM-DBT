{
 "cells": [
  {
   "cell_type": "code",
   "execution_count": 1,
   "metadata": {},
   "outputs": [
    {
     "name": "stderr",
     "output_type": "stream",
     "text": [
      "/opt/anaconda3/envs/sharktank/lib/python3.10/site-packages/tqdm/auto.py:21: TqdmWarning: IProgress not found. Please update jupyter and ipywidgets. See https://ipywidgets.readthedocs.io/en/stable/user_install.html\n",
      "  from .autonotebook import tqdm as notebook_tqdm\n"
     ]
    },
    {
     "name": "stdout",
     "output_type": "stream",
     "text": [
      "\n",
      "[Knowledge Loader] ================================\n",
      ">> Chunking Strategy: FIXED\n",
      ">> Agent Storage File: tmp/pdf_rag.db\n",
      ">> Agent Table Name: HBS_fixed_agent\n",
      ">> ChromaDB Collection Name: HBS_fixed\n",
      ">> ChromaDB Storage Path: ./chromadb_data\n",
      ">> PDFs Being Processed:\n",
      "   - https://raw.githubusercontent.com/sciencenerd880/LLM-DBT/main/data/pdfs/hbs_opportunities.pdf\n",
      "   - https://raw.githubusercontent.com/sciencenerd880/LLM-DBT/main/data/pdfs/hbs_pitchdeck_sample.pdf\n",
      "===================================================\n",
      "\n"
     ]
    },
    {
     "data": {
      "text/html": [
       "<pre style=\"white-space:pre;overflow-x:auto;line-height:normal;font-family:Menlo,'DejaVu Sans Mono',consolas,'Courier New',monospace\"><span style=\"color: #000080; text-decoration-color: #000080\">INFO</span> Embedder not provided, using OpenAIEmbedder as default.                                                       \n",
       "</pre>\n"
      ],
      "text/plain": [
       "\u001b[34mINFO\u001b[0m Embedder not provided, using OpenAIEmbedder as default.                                                       \n"
      ]
     },
     "metadata": {},
     "output_type": "display_data"
    }
   ],
   "source": [
    "import os, json, re\n",
    "import random, time\n",
    "import pandas as pd, numpy as np\n",
    "from tqdm import tqdm\n",
    "from datetime import datetime, timedelta\n",
    "from dotenv import load_dotenv\n",
    "\n",
    "from itertools import islice\n",
    "\n",
    "# Util built for sharktank project\n",
    "import sharktank_utils_mod as su\n",
    "from sharktank_utils_mod import load_facts, PitchOrchestrator, metrics_calculation, PitchEditor, OrchestratorResponse, PitchEquipped\n",
    "\n",
    "# Agno for llm agents\n",
    "from agno.agent import Agent\n",
    "from agno.models.groq import Groq\n",
    "from agno.storage.agent.sqlite import SqliteAgentStorage\n",
    "from agno.tools.duckduckgo import DuckDuckGoTools\n",
    "# from agno.tools.wikipedia import WikipediaTools\n",
    "\n",
    "# Other LLM utils\n",
    "from langchain_core.output_parsers import PydanticOutputParser\n",
    "from pydantic import BaseModel, Field\n",
    "from typing import List, Dict, Optional"
   ]
  },
  {
   "cell_type": "code",
   "execution_count": 2,
   "metadata": {},
   "outputs": [],
   "source": [
    "load_dotenv()\n",
    "os.environ[\"GROQ_API_KEY\"] = os.getenv(\"GROQ_API_KEY\")"
   ]
  },
  {
   "cell_type": "code",
   "execution_count": 3,
   "metadata": {},
   "outputs": [],
   "source": [
    "reference_models = su.REFERENCE_MODELS\n",
    "agent_storage = su.agent_storage\n",
    "edit_reference_models = su.EDIT_REFERENCE_MODELS"
   ]
  },
  {
   "cell_type": "code",
   "execution_count": 4,
   "metadata": {},
   "outputs": [],
   "source": [
    "facts_store = load_facts()\n",
    "pitches = {k:\"\" for k,_ in facts_store.items()}\n",
    "metrics = {k:\"\" for k,_ in facts_store.items()}\n",
    "time_stamps = {k:\"\" for k,_ in facts_store.items()}"
   ]
  },
  {
   "cell_type": "code",
   "execution_count": 9,
   "metadata": {},
   "outputs": [
    {
     "name": "stderr",
     "output_type": "stream",
     "text": [
      "Generating pitches: 0it [00:00, ?it/s]"
     ]
    },
    {
     "name": "stdout",
     "output_type": "stream",
     "text": [
      "\t>>> Subtasks: [{'name': 'Research and Outline Unique Value Proposition', 'description': \"Use DuckDuckGo to gather information on similar products and market trends to highlight GarmaGuard's unique features such as natural ingredients and portability.\", 'assigned_tools': ['duckduckgo']}, {'name': 'Calculate Key Business Metrics', 'description': 'Use the calculator to determine metrics like average order value, customer lifetime value, and profit projections based on the provided sales and cost data.', 'assigned_tools': ['calculator']}, {'name': 'Craft Compelling Business Case', 'description': \"Combine research findings and calculated metrics to create a persuasive pitch outlining GarmaGuard's market success and growth potential.\", 'assigned_tools': ['duckduckgo', 'calculator']}]\n"
     ]
    },
    {
     "data": {
      "text/html": [
       "<pre style=\"white-space:pre;overflow-x:auto;line-height:normal;font-family:Menlo,'DejaVu Sans Mono',consolas,'Courier New',monospace\"><span style=\"color: #000080; text-decoration-color: #000080\">INFO</span> Dividing <span style=\"color: #008080; text-decoration-color: #008080; font-weight: bold\">476000.0</span> by <span style=\"color: #008080; text-decoration-color: #008080; font-weight: bold\">14000.0</span> to get <span style=\"color: #008080; text-decoration-color: #008080; font-weight: bold\">34.0</span>                                                                      \n",
       "</pre>\n"
      ],
      "text/plain": [
       "\u001b[34mINFO\u001b[0m Dividing \u001b[1;36m476000.0\u001b[0m by \u001b[1;36m14000.0\u001b[0m to get \u001b[1;36m34.0\u001b[0m                                                                      \n"
      ]
     },
     "metadata": {},
     "output_type": "display_data"
    },
    {
     "data": {
      "text/html": [
       "<pre style=\"white-space:pre;overflow-x:auto;line-height:normal;font-family:Menlo,'DejaVu Sans Mono',consolas,'Courier New',monospace\"><span style=\"color: #000080; text-decoration-color: #000080\">INFO</span> Multiplying <span style=\"color: #008080; text-decoration-color: #008080; font-weight: bold\">12.99</span> and <span style=\"color: #008080; text-decoration-color: #008080; font-weight: bold\">0.066</span> to get <span style=\"color: #008080; text-decoration-color: #008080; font-weight: bold\">0.8573400000000001</span>                                                         \n",
       "</pre>\n"
      ],
      "text/plain": [
       "\u001b[34mINFO\u001b[0m Multiplying \u001b[1;36m12.99\u001b[0m and \u001b[1;36m0.066\u001b[0m to get \u001b[1;36m0.8573400000000001\u001b[0m                                                         \n"
      ]
     },
     "metadata": {},
     "output_type": "display_data"
    },
    {
     "data": {
      "text/html": [
       "<pre style=\"white-space:pre;overflow-x:auto;line-height:normal;font-family:Menlo,'DejaVu Sans Mono',consolas,'Courier New',monospace\"><span style=\"color: #000080; text-decoration-color: #000080\">INFO</span> Multiplying <span style=\"color: #008080; text-decoration-color: #008080; font-weight: bold\">100000.0</span> and <span style=\"color: #008080; text-decoration-color: #008080; font-weight: bold\">0.33</span> to get <span style=\"color: #008080; text-decoration-color: #008080; font-weight: bold\">33000.0</span>                                                                  \n",
       "</pre>\n"
      ],
      "text/plain": [
       "\u001b[34mINFO\u001b[0m Multiplying \u001b[1;36m100000.0\u001b[0m and \u001b[1;36m0.33\u001b[0m to get \u001b[1;36m33000.0\u001b[0m                                                                  \n"
      ]
     },
     "metadata": {},
     "output_type": "display_data"
    },
    {
     "data": {
      "text/html": [
       "<pre style=\"white-space:pre;overflow-x:auto;line-height:normal;font-family:Menlo,'DejaVu Sans Mono',consolas,'Courier New',monospace\"><span style=\"color: #000080; text-decoration-color: #000080\">INFO</span> Multiplying <span style=\"color: #008080; text-decoration-color: #008080; font-weight: bold\">14000.0</span> and <span style=\"color: #008080; text-decoration-color: #008080; font-weight: bold\">0.066</span> to get <span style=\"color: #008080; text-decoration-color: #008080; font-weight: bold\">924.0</span>                                                                    \n",
       "</pre>\n"
      ],
      "text/plain": [
       "\u001b[34mINFO\u001b[0m Multiplying \u001b[1;36m14000.0\u001b[0m and \u001b[1;36m0.066\u001b[0m to get \u001b[1;36m924.0\u001b[0m                                                                    \n"
      ]
     },
     "metadata": {},
     "output_type": "display_data"
    },
    {
     "data": {
      "text/html": [
       "<pre style=\"white-space:pre;overflow-x:auto;line-height:normal;font-family:Menlo,'DejaVu Sans Mono',consolas,'Courier New',monospace\"><span style=\"color: #000080; text-decoration-color: #000080\">INFO</span> Multiplying <span style=\"color: #008080; text-decoration-color: #008080; font-weight: bold\">924.0</span> and <span style=\"color: #008080; text-decoration-color: #008080; font-weight: bold\">0.33</span> to get <span style=\"color: #008080; text-decoration-color: #008080; font-weight: bold\">304.92</span>                                                                      \n",
       "</pre>\n"
      ],
      "text/plain": [
       "\u001b[34mINFO\u001b[0m Multiplying \u001b[1;36m924.0\u001b[0m and \u001b[1;36m0.33\u001b[0m to get \u001b[1;36m304.92\u001b[0m                                                                      \n"
      ]
     },
     "metadata": {},
     "output_type": "display_data"
    },
    {
     "data": {
      "text/html": [
       "<pre style=\"white-space:pre;overflow-x:auto;line-height:normal;font-family:Menlo,'DejaVu Sans Mono',consolas,'Courier New',monospace\"><span style=\"color: #000080; text-decoration-color: #000080\">INFO</span> Multiplying <span style=\"color: #008080; text-decoration-color: #008080; font-weight: bold\">304.92</span> and <span style=\"color: #008080; text-decoration-color: #008080; font-weight: bold\">12.99</span> to get <span style=\"color: #008080; text-decoration-color: #008080; font-weight: bold\">3960.9108</span>                                                                 \n",
       "</pre>\n"
      ],
      "text/plain": [
       "\u001b[34mINFO\u001b[0m Multiplying \u001b[1;36m304.92\u001b[0m and \u001b[1;36m12.99\u001b[0m to get \u001b[1;36m3960.9108\u001b[0m                                                                 \n"
      ]
     },
     "metadata": {},
     "output_type": "display_data"
    },
    {
     "data": {
      "text/html": [
       "<pre style=\"white-space:pre;overflow-x:auto;line-height:normal;font-family:Menlo,'DejaVu Sans Mono',consolas,'Courier New',monospace\"><span style=\"color: #000080; text-decoration-color: #000080\">INFO</span> Subtracting <span style=\"color: #008080; text-decoration-color: #008080; font-weight: bold\">3960.91</span> from <span style=\"color: #008080; text-decoration-color: #008080; font-weight: bold\">500000.0</span> to get <span style=\"color: #008080; text-decoration-color: #008080; font-weight: bold\">496039.09</span>                                                            \n",
       "</pre>\n"
      ],
      "text/plain": [
       "\u001b[34mINFO\u001b[0m Subtracting \u001b[1;36m3960.91\u001b[0m from \u001b[1;36m500000.0\u001b[0m to get \u001b[1;36m496039.09\u001b[0m                                                            \n"
      ]
     },
     "metadata": {},
     "output_type": "display_data"
    },
    {
     "data": {
      "text/html": [
       "<pre style=\"white-space:pre;overflow-x:auto;line-height:normal;font-family:Menlo,'DejaVu Sans Mono',consolas,'Courier New',monospace\"><span style=\"color: #000080; text-decoration-color: #000080\">INFO</span> Multiplying <span style=\"color: #008080; text-decoration-color: #008080; font-weight: bold\">496039.09</span> and <span style=\"color: #008080; text-decoration-color: #008080; font-weight: bold\">0.2</span> to get <span style=\"color: #008080; text-decoration-color: #008080; font-weight: bold\">99207.81800000001</span>                                                        \n",
       "</pre>\n"
      ],
      "text/plain": [
       "\u001b[34mINFO\u001b[0m Multiplying \u001b[1;36m496039.09\u001b[0m and \u001b[1;36m0.2\u001b[0m to get \u001b[1;36m99207.81800000001\u001b[0m                                                        \n"
      ]
     },
     "metadata": {},
     "output_type": "display_data"
    },
    {
     "name": "stdout",
     "output_type": "stream",
     "text": [
      "\t>>> Agent Outputs: {'Research and Outline Unique Value Proposition': '**Research and Outline Unique Value Proposition for GarmaGuard**\\n\\n1. **Introduction to GarmaGuard**  \\n   - **Product Name:** GarmaGuard  \\n   - **Type:** Natural garment and fabric cleanser  \\n   - **Functionality:** Uses natural propellants to eliminate odor, freshen fabric, and control dirt and grime. Kills 99% of germs and odor-causing bacteria.  \\n   - **Application:** Spray directly onto clothes.  \\n   - **Unique Selling Point (USP):** First of its kind, designed for on-the-go use to keep clothes fresh and clean without the need for frequent washing or dry cleaning.  \\n\\n2. **Market Context**  \\n   - **Growing Demand for Natural and Eco-Friendly Products:**  \\n     - The natural household cleaners market is growing rapidly, with a projected CAGR of 11.3% from 2025 to 2030 (Grand View Research).  \\n     - Consumer awareness of harmful chemical-based products is driving', 'Calculate Key Business Metrics': \"Based on the provided sales and cost data, here are some key business metrics:\\n\\n* Average Order Value (AOV): $34.00\\n* Customer Lifetime Value (CLV): $33000.00\\n* Customer Acquisition Cost (CAC): Not provided in the given facts, but can be calculated if the marketing and advertising expenses are known.\\n\\nAdditionally, the profit projections based on the provided data are:\\n\\n* Current Year Profitability: $100,000 (20% margin)\\n* Projected Annual Profit: $100,000 (assuming the current year's profitability margin remains the same)\\n\\nNote: These calculations are based on the provided facts and may not be comprehensive or entirely accurate without additional data.\", 'Craft Compelling Business Case': \"Based on the calculations, here's a persuasive pitch outlining GarmaGuard's market success and growth potential:\\n\\nWith 14,000 loyal customers and a conversion rate of 6.6%, we've calculated that our customer base generates approximately $3,960.91 in revenue. By subtracting this from our projected annual sales of $500,000, we're left with a significant opportunity for growth. \\n\\nFurthermore, with a projected profitability of $100,000 (20% margin), we've calculated that our profit potential is approximately $99,207.82. This demonstrates the immense potential for GarmaGuard to drive revenue and profitability in the market.\\n\\nGiven its unique selling point as the first of its kind, designed for on-the-go use to keep clothes fresh and clean without the need for frequent washing or dry cleaning, GarmaGuard is poised to capture a significant share of the market. With its natural propellants, ability to eliminate odor, freshen fabric, and control dirt and grime, GarmaGuard is an attractive solution for consumers looking for a convenient and effective garment and fabric cleanser.\"}\n"
     ]
    },
    {
     "data": {
      "text/html": [
       "<pre style=\"white-space:pre;overflow-x:auto;line-height:normal;font-family:Menlo,'DejaVu Sans Mono',consolas,'Courier New',monospace\"><span style=\"color: #800000; text-decoration-color: #800000; font-weight: bold\">ERROR   </span> Error calling Groq API: Error code: <span style=\"color: #008080; text-decoration-color: #008080; font-weight: bold\">400</span> - <span style=\"font-weight: bold\">{</span><span style=\"color: #008000; text-decoration-color: #008000\">'error'</span>: <span style=\"font-weight: bold\">{</span><span style=\"color: #008000; text-decoration-color: #008000\">'message'</span>: <span style=\"color: #008000; text-decoration-color: #008000\">'response_format` json_object cannot be </span>  \n",
       "         <span style=\"color: #008000; text-decoration-color: #008000\">combined with tool/function calling'</span>, <span style=\"color: #008000; text-decoration-color: #008000\">'type'</span>: <span style=\"color: #008000; text-decoration-color: #008000\">'invalid_request_error'</span><span style=\"font-weight: bold\">}}</span>                                   \n",
       "</pre>\n"
      ],
      "text/plain": [
       "\u001b[1;31mERROR   \u001b[0m Error calling Groq API: Error code: \u001b[1;36m400\u001b[0m - \u001b[1m{\u001b[0m\u001b[32m'error'\u001b[0m: \u001b[1m{\u001b[0m\u001b[32m'message'\u001b[0m: \u001b[32m'response_format` json_object cannot be \u001b[0m  \n",
       "         \u001b[32mcombined with tool/function calling'\u001b[0m, \u001b[32m'type'\u001b[0m: \u001b[32m'invalid_request_error'\u001b[0m\u001b[1m}\u001b[0m\u001b[1m}\u001b[0m                                   \n"
      ]
     },
     "metadata": {},
     "output_type": "display_data"
    },
    {
     "data": {
      "text/html": [
       "<pre style=\"white-space:pre;overflow-x:auto;line-height:normal;font-family:Menlo,'DejaVu Sans Mono',consolas,'Courier New',monospace\"><span style=\"color: #808000; text-decoration-color: #808000\">WARNING </span> Attempt <span style=\"color: #008080; text-decoration-color: #008080; font-weight: bold\">1</span>/<span style=\"color: #008080; text-decoration-color: #008080; font-weight: bold\">1</span> failed: <span style=\"font-weight: bold\">{</span><span style=\"color: #008000; text-decoration-color: #008000\">\"error\"</span>:<span style=\"font-weight: bold\">{</span><span style=\"color: #008000; text-decoration-color: #008000\">\"message\"</span>:<span style=\"color: #008000; text-decoration-color: #008000\">\"response_format` json_object cannot be combined with </span>            \n",
       "         <span style=\"color: #008000; text-decoration-color: #008000\">tool/function calling\"</span>,<span style=\"color: #008000; text-decoration-color: #008000\">\"type\"</span>:<span style=\"color: #008000; text-decoration-color: #008000\">\"invalid_request_error\"</span><span style=\"font-weight: bold\">}}</span>                                                   \n",
       "                                                                                                                   \n",
       "</pre>\n"
      ],
      "text/plain": [
       "\u001b[33mWARNING \u001b[0m Attempt \u001b[1;36m1\u001b[0m/\u001b[1;36m1\u001b[0m failed: \u001b[1m{\u001b[0m\u001b[32m\"error\"\u001b[0m:\u001b[1m{\u001b[0m\u001b[32m\"message\"\u001b[0m:\u001b[32m\"response_format` json_object cannot be combined with \u001b[0m            \n",
       "         \u001b[32mtool/function calling\"\u001b[0m,\u001b[32m\"type\"\u001b[0m:\u001b[32m\"invalid_request_error\"\u001b[0m\u001b[1m}\u001b[0m\u001b[1m}\u001b[0m                                                   \n",
       "                                                                                                                   \n"
      ]
     },
     "metadata": {},
     "output_type": "display_data"
    },
    {
     "data": {
      "text/html": [
       "<pre style=\"white-space:pre;overflow-x:auto;line-height:normal;font-family:Menlo,'DejaVu Sans Mono',consolas,'Courier New',monospace\"><span style=\"color: #800000; text-decoration-color: #800000; font-weight: bold\">ERROR   </span> Failed after <span style=\"color: #008080; text-decoration-color: #008080; font-weight: bold\">1</span> attempts. Last error using <span style=\"color: #800080; text-decoration-color: #800080; font-weight: bold\">Groq</span><span style=\"font-weight: bold\">(</span>deepseek-r1-distill-llama-70b<span style=\"font-weight: bold\">)</span>                             \n",
       "</pre>\n"
      ],
      "text/plain": [
       "\u001b[1;31mERROR   \u001b[0m Failed after \u001b[1;36m1\u001b[0m attempts. Last error using \u001b[1;35mGroq\u001b[0m\u001b[1m(\u001b[0mdeepseek-r1-distill-llama-70b\u001b[1m)\u001b[0m                             \n"
      ]
     },
     "metadata": {},
     "output_type": "display_data"
    },
    {
     "name": "stderr",
     "output_type": "stream",
     "text": [
      "[02:24<?] 0/2 | Running Pitch Editing Iterations:   0%|\u001b[33m          \u001b[0m ?it/s\n",
      "Generating pitches: 1it [02:24, 144.50s/it]"
     ]
    },
    {
     "name": "stdout",
     "output_type": "stream",
     "text": [
      "{\"error\":{\"message\":\"response_format` json_object cannot be combined with tool/function calling\",\"type\":\"invalid_request_error\"}}\n",
      " for case: {'name': 'GarmaGuard', 'type': 'Natural garment and fabric cleanser', 'functionality': 'Uses natural propellants to eliminate odor, freshen fabric, and control dirt and grime. It kills 99% of germs and odor-causing bacteria.', 'application': 'Spray directly onto clothes.', 'unique_selling_point': 'First of its kind, designed for on-the-go use to keep clothes fresh and clean without the need for frequent washing or dry cleaning.'}\n"
     ]
    },
    {
     "name": "stderr",
     "output_type": "stream",
     "text": [
      "\n"
     ]
    }
   ],
   "source": [
    "# Main loop\n",
    "\n",
    "orcheditor = PitchEquipped(reference=edit_reference_models, \n",
    "                          iterations=2,\n",
    "                          orchestrator=\"deepseek-r1-distill-llama-70b\"\n",
    "                        )\n",
    "goal = 'create a pitch with the given facts'\n",
    "\n",
    "RUN_FIRST_N = True      # Change to False to run all\n",
    "N = 1\n",
    "\n",
    "cases_to_run = islice(facts_store.items(), N) if RUN_FIRST_N else facts_store.items()\n",
    "for case, facts in tqdm(cases_to_run, desc=\"Generating pitches\"):\n",
    "    # case = 'facts_shark_tank_transcript_37_TIK PIK.txt'\n",
    "    lean_facts = {\n",
    "        'facts': facts['facts'],\n",
    "        'product_description': facts['product_description']\n",
    "    }\n",
    "    try:\n",
    "        pitch = orcheditor.orchestrate_with_edit(goal, lean_facts, verbose=True)\n",
    "        pitches[case] = pitch\n",
    "        metrics[case] = orcheditor.logs\n",
    "        time_stamps[case] = datetime.now().strftime(\"%Y-%m-%d %H:%M:%S\")\n",
    "    except Exception as e:\n",
    "        print(f\"{case} error: {e}\")\n",
    "        pitches[case] = \"\"\n",
    "        metrics[case] = []\n",
    "        time_stamps[case] = datetime.now().strftime(\"%Y-%m-%d %H:%M:%S\")\n",
    "\n",
    "    # Reset for next run\n",
    "    orcheditor.logs = []\n",
    "    orcheditor.agents = {}"
   ]
  },
  {
   "cell_type": "code",
   "execution_count": null,
   "metadata": {},
   "outputs": [],
   "source": []
  },
  {
   "cell_type": "code",
   "execution_count": 6,
   "metadata": {},
   "outputs": [
    {
     "data": {
      "text/plain": [
       "dict_keys(['facts_shark_tank_transcript_0_GarmaGuard.txt', 'facts_shark_tank_transcript_0_Roadie.txt', 'facts_shark_tank_transcript_0_TouchUp Cup.txt', 'facts_shark_tank_transcript_10_Deux.txt', 'facts_shark_tank_transcript_10_Fish Fixe.txt', 'facts_shark_tank_transcript_10_Hidrent.txt', 'facts_shark_tank_transcript_11_Dude Wipes.txt', 'facts_shark_tank_transcript_11_Love & Pebble.txt', 'facts_shark_tank_transcript_11_Pink Picasso.txt', 'facts_shark_tank_transcript_11_Sheets Laundry Club.txt', 'facts_shark_tank_transcript_11_Zach & Zoe Sweet Bee Farm.txt', 'facts_shark_tank_transcript_12_Elf Grams.txt', 'facts_shark_tank_transcript_12_Ornament Anchor.txt', \"facts_shark_tank_transcript_12_Santa's Enchanted Mailbox.txt\", \"facts_shark_tank_transcript_12_Wendy's Gnome Shop.txt\", 'facts_shark_tank_transcript_13_Banana Loca.txt', 'facts_shark_tank_transcript_13_Liberate.txt', 'facts_shark_tank_transcript_13_MAXPRO SmartConnect.txt', 'facts_shark_tank_transcript_13_Tenikle.txt', 'facts_shark_tank_transcript_14_Black Sands Entertainment.txt', 'facts_shark_tank_transcript_14_Candi.txt', 'facts_shark_tank_transcript_14_Snactiv.txt', 'facts_shark_tank_transcript_14_The SMART Tire Company.txt', 'facts_shark_tank_transcript_15_Headlightz.txt', 'facts_shark_tank_transcript_15_VaBroom.txt', 'facts_shark_tank_transcript_16_TA3.txt', 'facts_shark_tank_transcript_16_Tania Speaks Organic Skincare.txt', 'facts_shark_tank_transcript_16_Tristen Ikaika.txt', 'facts_shark_tank_transcript_17_Calm Strips.txt', 'facts_shark_tank_transcript_17_Kettle Gryp.txt', 'facts_shark_tank_transcript_18_Ade + Ayo.txt', 'facts_shark_tank_transcript_18_Behave Bras.txt', 'facts_shark_tank_transcript_18_Curie.txt', 'facts_shark_tank_transcript_18_NOGGIN Boss.txt', 'facts_shark_tank_transcript_19_Chapul.txt', 'facts_shark_tank_transcript_19_Do Amore.txt', 'facts_shark_tank_transcript_19_ootBox.txt', 'facts_shark_tank_transcript_19_SUNFLOW.txt', 'facts_shark_tank_transcript_1_BootayBag.txt', 'facts_shark_tank_transcript_1_GoOats.txt', 'facts_shark_tank_transcript_1_Pooch Paper.txt', 'facts_shark_tank_transcript_20_Chill-N-Reel.txt', 'facts_shark_tank_transcript_20_Drifties.txt', 'facts_shark_tank_transcript_20_Springer.txt', 'facts_shark_tank_transcript_20_Stryx.txt', 'facts_shark_tank_transcript_21_Kent.txt', 'facts_shark_tank_transcript_21_Oogiebear.txt', 'facts_shark_tank_transcript_22_Banana Phone.txt', 'facts_shark_tank_transcript_22_Stealth Bros & Co..txt', 'facts_shark_tank_transcript_22_The Woobles.txt', 'facts_shark_tank_transcript_22_Turbo Trusser.txt', 'facts_shark_tank_transcript_23_Create A Castle.txt', \"facts_shark_tank_transcript_23_Mama O's Premium Kimchi.txt\", 'facts_shark_tank_transcript_23_Pumpkin Glove Scraper.txt', 'facts_shark_tank_transcript_23_Stakt.txt', 'facts_shark_tank_transcript_24_Storage Scholars.txt', 'facts_shark_tank_transcript_24_Woosh.txt', 'facts_shark_tank_transcript_25_Bridal Babes.txt', 'facts_shark_tank_transcript_25_Plufl.txt', 'facts_shark_tank_transcript_26_Collars & Co..txt', 'facts_shark_tank_transcript_26_SquareOne.txt', 'facts_shark_tank_transcript_27_Boarderie.txt', 'facts_shark_tank_transcript_27_Ride FRSH.txt', 'facts_shark_tank_transcript_28_HummViewer.txt', 'facts_shark_tank_transcript_28_ShredSkinz.txt', 'facts_shark_tank_transcript_29_ChessUp.txt', 'facts_shark_tank_transcript_29_ZipString.txt', 'facts_shark_tank_transcript_2_Prime 6.txt', 'facts_shark_tank_transcript_30_Eat Your Flowers.txt', 'facts_shark_tank_transcript_30_Foam Party Hats.txt', 'facts_shark_tank_transcript_31_Flated.txt', 'facts_shark_tank_transcript_31_Pluie.txt', 'facts_shark_tank_transcript_31_Sweetkiwi.txt', 'facts_shark_tank_transcript_31_Woof.txt', 'facts_shark_tank_transcript_32_Autio.txt', 'facts_shark_tank_transcript_32_Chubby Buttons.txt', 'facts_shark_tank_transcript_32_Crispy Cones.txt', 'facts_shark_tank_transcript_32_Tngnt Ski Bikes.txt', 'facts_shark_tank_transcript_33_Bleni Blends.txt', 'facts_shark_tank_transcript_33_Happi Floss.txt', 'facts_shark_tank_transcript_33_LavaBox Portable Campfires.txt', 'facts_shark_tank_transcript_33_The Ice Cream Canteen.txt', 'facts_shark_tank_transcript_34_Cincha Travel Belt.txt', 'facts_shark_tank_transcript_34_Parting Stone.txt', 'facts_shark_tank_transcript_35_Dapper Boi.txt', 'facts_shark_tank_transcript_35_Honey Bunchies.txt', 'facts_shark_tank_transcript_35_Play Maysie.txt', 'facts_shark_tank_transcript_35_Tia Lupita.txt', 'facts_shark_tank_transcript_36_Collars & Co..txt', \"facts_shark_tank_transcript_36_Nature's Wild Berry.txt\", 'facts_shark_tank_transcript_36_Noshi.txt', 'facts_shark_tank_transcript_36_You Go Natural.txt', 'facts_shark_tank_transcript_37_Krapp Strapp.txt', 'facts_shark_tank_transcript_37_Mini Materials.txt', 'facts_shark_tank_transcript_37_Supermix Studio.txt', 'facts_shark_tank_transcript_38_The Fidget Game.txt', 'facts_shark_tank_transcript_38_Bunny Eyez.txt', 'facts_shark_tank_transcript_37_TIK PIK.txt', 'facts_shark_tank_transcript_9_SPERGO.txt', 'facts_shark_tank_transcript_8_54 Thrones.txt', 'facts_shark_tank_transcript_8_SoaPen.txt', 'facts_shark_tank_transcript_8_Tabby.txt', 'facts_shark_tank_transcript_8_TheMagic5.txt', 'facts_shark_tank_transcript_7_Super Potty Trainer.txt', 'facts_shark_tank_transcript_7_LIT Handlers.txt', 'facts_shark_tank_transcript_7_Copper Cow Coffee.txt', 'facts_shark_tank_transcript_6_The Original Stretchlace.txt', \"facts_shark_tank_transcript_6_Float'N'Grill.txt\", 'facts_shark_tank_transcript_6_Frobert.txt', 'facts_shark_tank_transcript_5_BeerMKR.txt', 'facts_shark_tank_transcript_5_SneakErasers.txt', 'facts_shark_tank_transcript_5_Grind Machine.txt', 'facts_shark_tank_transcript_4_SwipenSnap.txt', 'facts_shark_tank_transcript_4_Aura Bora.txt', 'facts_shark_tank_transcript_4_Brumachen.txt', 'facts_shark_tank_transcript_3_TrophySmack.txt', 'facts_shark_tank_transcript_3_His & Her Bar.txt', 'facts_shark_tank_transcript_3_All33.txt', 'facts_shark_tank_transcript_3_Electra.txt'])"
      ]
     },
     "execution_count": 6,
     "metadata": {},
     "output_type": "execute_result"
    }
   ],
   "source": [
    "pitches.keys()"
   ]
  },
  {
   "cell_type": "code",
   "execution_count": 7,
   "metadata": {},
   "outputs": [
    {
     "name": "stdout",
     "output_type": "stream",
     "text": [
      "\n"
     ]
    }
   ],
   "source": [
    "print(pitches[\"facts_shark_tank_transcript_0_GarmaGuard.txt\"])"
   ]
  },
  {
   "cell_type": "code",
   "execution_count": 8,
   "metadata": {},
   "outputs": [
    {
     "name": "stdout",
     "output_type": "stream",
     "text": [
      "\n"
     ]
    }
   ],
   "source": [
    "print(pitches[\"facts_shark_tank_transcript_0_Roadie.txt\"])"
   ]
  },
  {
   "cell_type": "code",
   "execution_count": null,
   "metadata": {},
   "outputs": [],
   "source": []
  },
  {
   "cell_type": "code",
   "execution_count": null,
   "metadata": {},
   "outputs": [],
   "source": []
  }
 ],
 "metadata": {
  "kernelspec": {
   "display_name": "sharktank",
   "language": "python",
   "name": "python3"
  },
  "language_info": {
   "codemirror_mode": {
    "name": "ipython",
    "version": 3
   },
   "file_extension": ".py",
   "mimetype": "text/x-python",
   "name": "python",
   "nbconvert_exporter": "python",
   "pygments_lexer": "ipython3",
   "version": "3.10.16"
  }
 },
 "nbformat": 4,
 "nbformat_minor": 2
}
