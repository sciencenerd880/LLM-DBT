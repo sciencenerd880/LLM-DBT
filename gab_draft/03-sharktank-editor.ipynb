{
 "cells": [
  {
   "cell_type": "code",
   "execution_count": 1,
   "metadata": {},
   "outputs": [],
   "source": [
    "import os, json, re\n",
    "import random, time\n",
    "import pandas as pd, numpy as np\n",
    "from tqdm import tqdm\n",
    "from datetime import datetime, timedelta\n",
    "\n",
    "# Util built for sharktank project\n",
    "import sharktank_utils as su\n",
    "from sharktank_utils import load_facts, OrchestratorResponse, PitchOrchestrator, metrics_calculation\n",
    "\n",
    "# Agno for llm agents\n",
    "from agno.agent import Agent\n",
    "from agno.models.groq import Groq\n",
    "from agno.storage.agent.sqlite import SqliteAgentStorage\n",
    "\n",
    "# Other LLM utils\n",
    "from langchain_core.output_parsers import PydanticOutputParser\n",
    "from pydantic import BaseModel, Field\n",
    "from typing import List, Dict, Optional"
   ]
  },
  {
   "cell_type": "code",
   "execution_count": 2,
   "metadata": {},
   "outputs": [],
   "source": [
    "os.environ[\"GROQ_API_KEY\"] = os.getenv(\"GROQ_API_KEY\")\n",
    "reference_models = su.REFERENCE_MODELS\n",
    "agent_storage = su.agent_storage"
   ]
  },
  {
   "cell_type": "code",
   "execution_count": 3,
   "metadata": {},
   "outputs": [],
   "source": [
    "class PitchEditor(PitchOrchestrator):\n",
    "    def __init__(self, orchestrator=\"llama-3.3-70b-versatile\", reference=reference_models, editor='llama3-70b-8192', iterations=2):\n",
    "        super().__init__(orchestrator=orchestrator, reference=reference)\n",
    "        self.editor = editor\n",
    "        self.iterations = iterations\n",
    "    \n",
    "    def create_editor_agent(self):\n",
    "        instruction = \"\"\"Given a pitch for a sharktank viewing. Give 2-3 points of feedback. Do not introduce new facts. \n",
    "        Answer shortly in the following format:\n",
    "        - ...\n",
    "        - ...\n",
    "        \"\"\"\n",
    "        editor = Agent(\n",
    "            name=\"Pitch Editor\", \n",
    "            model=Groq(id=self.editor, max_tokens=1024),\n",
    "            instructions=instruction,\n",
    "            storage=SqliteAgentStorage(table_name=\"director_agent\", db_file=agent_storage),\n",
    "            add_datetime_to_instructions=True,\n",
    "        )\n",
    "        return editor\n",
    "\n",
    "    def edit_pitch(self, pitch):\n",
    "        \"\"\"Give feedback on how to improve the pitch\"\"\"\n",
    "        self.editor_agent = self.create_editor_agent()\n",
    "        editor_prompt = f\"\"\"here is the pitch: {pitch}. Give short pointers.\"\"\"\n",
    "        editor_response = self.editor_agent.run(editor_prompt)\n",
    "        self.logs.append(editor_response.metrics)\n",
    "        return_prompt = f\"\"\"Edit a pitch with the given facts. With this pitch: {pitch}. {editor_response.content}.\"\"\"\n",
    "        return return_prompt\n",
    "    \n",
    "    def orchestrate_with_edit(self, goal, facts, verbose=False):\n",
    "        \"\"\"Full pipeline: generate subtasks, create agents, execute, and synthesize pitch.\"\"\"\n",
    "        try:\n",
    "            for i in tqdm(\n",
    "                range(self.iterations), \n",
    "                bar_format='[{elapsed}<{remaining}] {n_fmt}/{total_fmt} | {l_bar}{bar} {rate_fmt}{postfix}', \n",
    "                desc=\"Running Pitch Editing Iterations\",\n",
    "                colour='yellow'\n",
    "            ):\n",
    "                subtasks = self.generate_subtasks(goal, facts)\n",
    "                if verbose:\n",
    "                    print(\"\\t>>> Subtasks:\", subtasks)\n",
    "                time.sleep(1)\n",
    "                self.create_agents(subtasks, facts)\n",
    "                time.sleep(1)\n",
    "                agent_outputs = self.run_agents(subtasks)\n",
    "                if verbose:\n",
    "                    print(\"\\t>>> Agent Outputs:\", agent_outputs)\n",
    "                time.sleep(1)\n",
    "                pitch_initial_offer = self.synthesize_pitch(agent_outputs)\n",
    "                if verbose:\n",
    "                    print(\"\\t>>> Pitch Draft:\", pitch_initial_offer)\n",
    "                time.sleep(1)\n",
    "                if i != self.iterations - 1:\n",
    "                    goal = self.edit_pitch(pitch_initial_offer)\n",
    "                    if verbose:\n",
    "                        print(\"\\t>>> New goal:\", goal)\n",
    "                    time.sleep(1)\n",
    "        except Exception as e:\n",
    "            print(e, \"for case:\", facts['product_description'])\n",
    "            return \"\"\n",
    "        return pitch_initial_offer\n"
   ]
  },
  {
   "cell_type": "code",
   "execution_count": 4,
   "metadata": {},
   "outputs": [],
   "source": [
    "facts_store = load_facts()\n",
    "pitches = {k:\"\" for k,_ in facts_store.items()}\n",
    "metrics = {k:\"\" for k,_ in facts_store.items()}\n",
    "time_stamps = {k:\"\" for k,_ in facts_store.items()}"
   ]
  },
  {
   "cell_type": "code",
   "execution_count": 12,
   "metadata": {},
   "outputs": [
    {
     "name": "stderr",
     "output_type": "stream",
     "text": [
      "[00:38<00:00] 2/2 | Running Pitch Editing Iterations: 100%|\u001b[33m██████████\u001b[0m 19.12s/it\n"
     ]
    }
   ],
   "source": [
    "orcheditor = PitchEditor(iterations=2)\n",
    "goal = 'create a pitch with the given facts'\n",
    "# for case, facts in tqdm(facts_store.items()):\n",
    "case = 'facts_shark_tank_transcript_37_TIK PIK.txt'\n",
    "facts = facts_store[case]\n",
    "lean_facts = {}\n",
    "lean_facts['facts'], lean_facts['product_description'] = facts['facts'], facts['product_description']\n",
    "try:\n",
    "    pitch = orcheditor.orchestrate_with_edit(goal, lean_facts, verbose=False)\n",
    "    pitches[case] = pitch\n",
    "    metrics[case] = orcheditor.logs\n",
    "    time_stamps[case] = datetime.now().strftime(\"%Y-%m-%d %H:%M:%S\")\n",
    "except Exception as e:\n",
    "    print(case, \"error:\", e)\n",
    "    pitch = \"\"\n",
    "\n",
    "# reset agents\n",
    "orcheditor.logs = []\n",
    "orcheditor.agents = {}"
   ]
  },
  {
   "cell_type": "code",
   "execution_count": 13,
   "metadata": {},
   "outputs": [
    {
     "data": {
      "text/plain": [
       "'{\\n    \"Pitch\": \"TIK PIK is introducing a revolutionary nano-suction material guitar pick that offers a secure grip without adhesive or residue and resists sweat and dirt, addressing major pain points for guitar players. With a unique value proposition, we\\'re seeking an investment to expand our sales channels and drive growth. Our current sales are 85% direct to customers and 15% wholesale, with expected sales of $120,000 this year and a potential profit of up to $20,000. We\\'re looking to allocate the investment into marketing, production, and product development to further enhance our product offerings and reach a wider audience.\",\\n    \"Initial_Offer\": {\\n        \"Valuation\": \"$10 million\",\\n        \"Equity_Offered\": \"10%\",\\n        \"Funding_Amount\": \"$1 million\",\\n        \"Key_Terms\": \"Investment to be allocated into marketing, production, and product development\"\\n    }\\n}'"
      ]
     },
     "execution_count": 13,
     "metadata": {},
     "output_type": "execute_result"
    }
   ],
   "source": [
    "pitch"
   ]
  },
  {
   "cell_type": "code",
   "execution_count": 15,
   "metadata": {},
   "outputs": [],
   "source": [
    "calculated_metrics = []\n",
    "for product, metric in metrics.items():\n",
    "    calculated_metrics.append(metrics_calculation(metric))\n",
    "input_lengths, output_lengths, latencies = zip(*calculated_metrics)"
   ]
  },
  {
   "cell_type": "code",
   "execution_count": 16,
   "metadata": {},
   "outputs": [],
   "source": [
    "for k, v in pitches.items():\n",
    "    if v == \"\":\n",
    "        print(k)"
   ]
  },
  {
   "cell_type": "code",
   "execution_count": 17,
   "metadata": {},
   "outputs": [],
   "source": [
    "timestamp = datetime.now().strftime('%Y-%d-%m')\n",
    "framework = \"orchestrator\"\n",
    "layer = \"orchestrator_1\"\n",
    "pitches_df = pd.DataFrame(\n",
    "    data={\n",
    "        'scenario_name':list(pitches.keys()),\n",
    "        'framework':len(pitches) * [framework],\n",
    "        'layer':len(pitches) * [layer],\n",
    "        'model_name': len(pitches) * [\"groq/\" + orcheditor.orchestrator + \"/groq\" + orcheditor.editor],\n",
    "        'model_identity':len(pitches) * [\"groq/\" + orcheditor.orchestrator + \"/groq\" + orcheditor.editor],\n",
    "        'latency':latencies,\n",
    "        'input_length':input_lengths,\n",
    "        'output_length':output_lengths,\n",
    "        'time_stamp':list(time_stamps.values()),\n",
    "        'response':list(pitches.values()),\n",
    "    }\n",
    ")\n"
   ]
  },
  {
   "cell_type": "code",
   "execution_count": 19,
   "metadata": {},
   "outputs": [],
   "source": [
    "pitches_df.to_excel(f\"{timestamp}-orchestrator-editor-pitches.xlsx\")"
   ]
  }
 ],
 "metadata": {
  "kernelspec": {
   "display_name": "sharktank",
   "language": "python",
   "name": "python3"
  },
  "language_info": {
   "codemirror_mode": {
    "name": "ipython",
    "version": 3
   },
   "file_extension": ".py",
   "mimetype": "text/x-python",
   "name": "python",
   "nbconvert_exporter": "python",
   "pygments_lexer": "ipython3",
   "version": "3.10.16"
  }
 },
 "nbformat": 4,
 "nbformat_minor": 2
}
