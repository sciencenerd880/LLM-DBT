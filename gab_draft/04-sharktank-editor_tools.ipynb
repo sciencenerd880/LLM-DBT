{
 "cells": [
  {
   "cell_type": "code",
   "execution_count": 1,
   "metadata": {},
   "outputs": [],
   "source": [
    "import os, json, re\n",
    "import random, time\n",
    "import pandas as pd, numpy as np\n",
    "from tqdm import tqdm\n",
    "from datetime import datetime, timedelta\n",
    "from dotenv import load_dotenv\n",
    "\n",
    "from itertools import islice\n",
    "\n",
    "# Util built for sharktank project\n",
    "import sharktank_utils_mod as su\n",
    "from sharktank_utils_mod import load_facts, PitchOrchestrator, metrics_calculation, PitchEditor, OrchestratorResponse, PitchEquipped\n",
    "\n",
    "# Agno for llm agents\n",
    "from agno.agent import Agent\n",
    "from agno.models.groq import Groq\n",
    "from agno.storage.agent.sqlite import SqliteAgentStorage\n",
    "from agno.tools.duckduckgo import DuckDuckGoTools\n",
    "from agno.tools.wikipedia import WikipediaTools\n",
    "\n",
    "# Other LLM utils\n",
    "from langchain_core.output_parsers import PydanticOutputParser\n",
    "from pydantic import BaseModel, Field\n",
    "from typing import List, Dict, Optional"
   ]
  },
  {
   "cell_type": "code",
   "execution_count": 2,
   "metadata": {},
   "outputs": [],
   "source": [
    "os.environ[\"GROQ_API_KEY\"] = os.getenv(\"GROQ_API_KEY\")"
   ]
  },
  {
   "cell_type": "code",
   "execution_count": 3,
   "metadata": {},
   "outputs": [],
   "source": [
    "reference_models = su.REFERENCE_MODELS\n",
    "agent_storage = su.agent_storage\n",
    "edit_reference_models = su.EDIT_REFERENCE_MODELS"
   ]
  },
  {
   "cell_type": "code",
   "execution_count": 4,
   "metadata": {},
   "outputs": [],
   "source": [
    "facts_store = load_facts()\n",
    "pitches = {k:\"\" for k,_ in facts_store.items()}\n",
    "metrics = {k:\"\" for k,_ in facts_store.items()}\n",
    "time_stamps = {k:\"\" for k,_ in facts_store.items()}"
   ]
  },
  {
   "cell_type": "code",
   "execution_count": 5,
   "metadata": {},
   "outputs": [
    {
     "name": "stderr",
     "output_type": "stream",
     "text": [
      "Generating pitches: 0it [00:00, ?it/s]"
     ]
    },
    {
     "data": {
      "text/html": [
       "<pre style=\"white-space:pre;overflow-x:auto;line-height:normal;font-family:Menlo,'DejaVu Sans Mono',consolas,'Courier New',monospace\"><span style=\"color: #000080; text-decoration-color: #000080\">INFO    </span> Searching wikipedia for: customer acquisition and retention strategies                                    \n",
       "</pre>\n"
      ],
      "text/plain": [
       "\u001b[34mINFO    \u001b[0m Searching wikipedia for: customer acquisition and retention strategies                                    \n"
      ]
     },
     "metadata": {},
     "output_type": "display_data"
    },
    {
     "data": {
      "text/html": [
       "<pre style=\"white-space:pre;overflow-x:auto;line-height:normal;font-family:Menlo,'DejaVu Sans Mono',consolas,'Courier New',monospace\"><span style=\"color: #808000; text-decoration-color: #808000\">WARNING </span> Could not run function <span style=\"color: #800080; text-decoration-color: #800080; font-weight: bold\">search_wikipedia</span><span style=\"font-weight: bold\">(</span><span style=\"color: #808000; text-decoration-color: #808000\">query</span>=<span style=\"color: #800080; text-decoration-color: #800080\">customer</span> acquisition and retention strategies<span style=\"font-weight: bold\">)</span>              \n",
       "</pre>\n"
      ],
      "text/plain": [
       "\u001b[33mWARNING \u001b[0m Could not run function \u001b[1;35msearch_wikipedia\u001b[0m\u001b[1m(\u001b[0m\u001b[33mquery\u001b[0m=\u001b[35mcustomer\u001b[0m acquisition and retention strategies\u001b[1m)\u001b[0m              \n"
      ]
     },
     "metadata": {},
     "output_type": "display_data"
    },
    {
     "data": {
      "text/html": [
       "<pre style=\"white-space:pre;overflow-x:auto;line-height:normal;font-family:Menlo,'DejaVu Sans Mono',consolas,'Courier New',monospace\"><span style=\"color: #800000; text-decoration-color: #800000; font-weight: bold\">ERROR   </span> Page id <span style=\"color: #008000; text-decoration-color: #008000\">\"customer acquisition and reception strategic\"</span> does not match any pages. Try another id!          \n",
       "         Traceback <span style=\"font-weight: bold\">(</span>most recent call last<span style=\"font-weight: bold\">)</span>:                                                                        \n",
       "           File <span style=\"color: #008000; text-decoration-color: #008000\">\"c:\\Users\\gabjj\\anaconda3\\envs\\sharktank\\lib\\site-packages\\agno\\tools\\function.py\"</span>, line <span style=\"color: #008080; text-decoration-color: #008080; font-weight: bold\">363</span>, in   \n",
       "         execute                                                                                                   \n",
       "             self.result = <span style=\"color: #800080; text-decoration-color: #800080; font-weight: bold\">self.function.entrypoint</span><span style=\"font-weight: bold\">(</span>**entrypoint_args, **self.arguments<span style=\"font-weight: bold\">)</span>                           \n",
       "           File <span style=\"color: #008000; text-decoration-color: #008000\">\"c:\\Users\\gabjj\\anaconda3\\envs\\sharktank\\lib\\site-packages\\pydantic\\_internal\\_validate_call.py\"</span>,  \n",
       "         line <span style=\"color: #008080; text-decoration-color: #008080; font-weight: bold\">38</span>, in wrapper_function                                                                              \n",
       "             return <span style=\"color: #800080; text-decoration-color: #800080; font-weight: bold\">wrapper</span><span style=\"font-weight: bold\">(</span>*args, **kwargs<span style=\"font-weight: bold\">)</span>                                                                       \n",
       "           File <span style=\"color: #008000; text-decoration-color: #008000\">\"c:\\Users\\gabjj\\anaconda3\\envs\\sharktank\\lib\\site-packages\\pydantic\\_internal\\_validate_call.py\"</span>,  \n",
       "         line <span style=\"color: #008080; text-decoration-color: #008080; font-weight: bold\">111</span>, in __call__                                                                                     \n",
       "             res = <span style=\"color: #800080; text-decoration-color: #800080; font-weight: bold\">self.__pydantic_validator__.validate_python</span><span style=\"font-weight: bold\">(</span><span style=\"color: #800080; text-decoration-color: #800080; font-weight: bold\">pydantic_core.ArgsKwargs</span><span style=\"font-weight: bold\">(</span>args, kwargs<span style=\"font-weight: bold\">))</span>             \n",
       "           File <span style=\"color: #008000; text-decoration-color: #008000\">\"c:\\Users\\gabjj\\anaconda3\\envs\\sharktank\\lib\\site-packages\\agno\\tools\\wikipedia.py\"</span>, line <span style=\"color: #008080; text-decoration-color: #008080; font-weight: bold\">54</span>, in   \n",
       "         search_wikipedia                                                                                          \n",
       "             return <span style=\"color: #800080; text-decoration-color: #800080; font-weight: bold\">json.dumps</span><span style=\"font-weight: bold\">(</span><span style=\"color: #800080; text-decoration-color: #800080; font-weight: bold\">Document</span><span style=\"font-weight: bold\">(</span><span style=\"color: #808000; text-decoration-color: #808000\">name</span>=<span style=\"color: #800080; text-decoration-color: #800080\">query</span>, <span style=\"color: #808000; text-decoration-color: #808000\">content</span>=<span style=\"color: #800080; text-decoration-color: #800080; font-weight: bold\">wikipedia</span><span style=\"color: #800080; text-decoration-color: #800080; font-weight: bold\">.summary</span><span style=\"font-weight: bold\">(</span>query<span style=\"font-weight: bold\">))</span><span style=\"color: #800080; text-decoration-color: #800080; font-weight: bold\">.to_dict</span><span style=\"font-weight: bold\">())</span>                   \n",
       "           File <span style=\"color: #008000; text-decoration-color: #008000\">\"c:\\Users\\gabjj\\anaconda3\\envs\\sharktank\\lib\\site-packages\\wikipedia\\util.py\"</span>, line <span style=\"color: #008080; text-decoration-color: #008080; font-weight: bold\">28</span>, in __call__\n",
       "             ret = self._cache<span style=\"font-weight: bold\">[</span>key<span style=\"font-weight: bold\">]</span> = <span style=\"color: #800080; text-decoration-color: #800080; font-weight: bold\">self.fn</span><span style=\"font-weight: bold\">(</span>*args, **kwargs<span style=\"font-weight: bold\">)</span>                                                     \n",
       "           File <span style=\"color: #008000; text-decoration-color: #008000\">\"c:\\Users\\gabjj\\anaconda3\\envs\\sharktank\\lib\\site-packages\\wikipedia\\wikipedia.py\"</span>, line <span style=\"color: #008080; text-decoration-color: #008080; font-weight: bold\">231</span>, in   \n",
       "         summary                                                                                                   \n",
       "             page_info = <span style=\"color: #800080; text-decoration-color: #800080; font-weight: bold\">page</span><span style=\"font-weight: bold\">(</span>title, <span style=\"color: #808000; text-decoration-color: #808000\">auto_suggest</span>=<span style=\"color: #800080; text-decoration-color: #800080\">auto_suggest</span>, <span style=\"color: #808000; text-decoration-color: #808000\">redirect</span>=<span style=\"color: #800080; text-decoration-color: #800080\">redirect</span><span style=\"font-weight: bold\">)</span>                                 \n",
       "           File <span style=\"color: #008000; text-decoration-color: #008000\">\"c:\\Users\\gabjj\\anaconda3\\envs\\sharktank\\lib\\site-packages\\wikipedia\\wikipedia.py\"</span>, line <span style=\"color: #008080; text-decoration-color: #008080; font-weight: bold\">276</span>, in   \n",
       "         page                                                                                                      \n",
       "             return <span style=\"color: #800080; text-decoration-color: #800080; font-weight: bold\">WikipediaPage</span><span style=\"font-weight: bold\">(</span>title, <span style=\"color: #808000; text-decoration-color: #808000\">redirect</span>=<span style=\"color: #800080; text-decoration-color: #800080\">redirect</span>, <span style=\"color: #808000; text-decoration-color: #808000\">preload</span>=<span style=\"color: #800080; text-decoration-color: #800080\">preload</span><span style=\"font-weight: bold\">)</span>                                       \n",
       "           File <span style=\"color: #008000; text-decoration-color: #008000\">\"c:\\Users\\gabjj\\anaconda3\\envs\\sharktank\\lib\\site-packages\\wikipedia\\wikipedia.py\"</span>, line <span style=\"color: #008080; text-decoration-color: #008080; font-weight: bold\">299</span>, in   \n",
       "         __init__                                                                                                  \n",
       "             <span style=\"color: #800080; text-decoration-color: #800080; font-weight: bold\">self.__load</span><span style=\"font-weight: bold\">(</span><span style=\"color: #808000; text-decoration-color: #808000\">redirect</span>=<span style=\"color: #800080; text-decoration-color: #800080\">redirect</span>, <span style=\"color: #808000; text-decoration-color: #808000\">preload</span>=<span style=\"color: #800080; text-decoration-color: #800080\">preload</span><span style=\"font-weight: bold\">)</span>                                                       \n",
       "           File <span style=\"color: #008000; text-decoration-color: #008000\">\"c:\\Users\\gabjj\\anaconda3\\envs\\sharktank\\lib\\site-packages\\wikipedia\\wikipedia.py\"</span>, line <span style=\"color: #008080; text-decoration-color: #008080; font-weight: bold\">345</span>, in   \n",
       "         __load                                                                                                    \n",
       "             raise <span style=\"color: #800080; text-decoration-color: #800080; font-weight: bold\">PageError</span><span style=\"font-weight: bold\">(</span>self.title<span style=\"font-weight: bold\">)</span>                                                                           \n",
       "         wikipedia.exceptions.PageError: Page id <span style=\"color: #008000; text-decoration-color: #008000\">\"customer acquisition and reception strategic\"</span> does not match any \n",
       "         pages. Try another id!                                                                                    \n",
       "</pre>\n"
      ],
      "text/plain": [
       "\u001b[1;31mERROR   \u001b[0m Page id \u001b[32m\"customer acquisition and reception strategic\"\u001b[0m does not match any pages. Try another id!          \n",
       "         Traceback \u001b[1m(\u001b[0mmost recent call last\u001b[1m)\u001b[0m:                                                                        \n",
       "           File \u001b[32m\"c:\\Users\\gabjj\\anaconda3\\envs\\sharktank\\lib\\site-packages\\agno\\tools\\function.py\"\u001b[0m, line \u001b[1;36m363\u001b[0m, in   \n",
       "         execute                                                                                                   \n",
       "             self.result = \u001b[1;35mself.function.entrypoint\u001b[0m\u001b[1m(\u001b[0m**entrypoint_args, **self.arguments\u001b[1m)\u001b[0m                           \n",
       "           File \u001b[32m\"c:\\Users\\gabjj\\anaconda3\\envs\\sharktank\\lib\\site-packages\\pydantic\\_internal\\_validate_call.py\"\u001b[0m,  \n",
       "         line \u001b[1;36m38\u001b[0m, in wrapper_function                                                                              \n",
       "             return \u001b[1;35mwrapper\u001b[0m\u001b[1m(\u001b[0m*args, **kwargs\u001b[1m)\u001b[0m                                                                       \n",
       "           File \u001b[32m\"c:\\Users\\gabjj\\anaconda3\\envs\\sharktank\\lib\\site-packages\\pydantic\\_internal\\_validate_call.py\"\u001b[0m,  \n",
       "         line \u001b[1;36m111\u001b[0m, in __call__                                                                                     \n",
       "             res = \u001b[1;35mself.__pydantic_validator__.validate_python\u001b[0m\u001b[1m(\u001b[0m\u001b[1;35mpydantic_core.ArgsKwargs\u001b[0m\u001b[1m(\u001b[0margs, kwargs\u001b[1m)\u001b[0m\u001b[1m)\u001b[0m             \n",
       "           File \u001b[32m\"c:\\Users\\gabjj\\anaconda3\\envs\\sharktank\\lib\\site-packages\\agno\\tools\\wikipedia.py\"\u001b[0m, line \u001b[1;36m54\u001b[0m, in   \n",
       "         search_wikipedia                                                                                          \n",
       "             return \u001b[1;35mjson.dumps\u001b[0m\u001b[1m(\u001b[0m\u001b[1;35mDocument\u001b[0m\u001b[1m(\u001b[0m\u001b[33mname\u001b[0m=\u001b[35mquery\u001b[0m, \u001b[33mcontent\u001b[0m=\u001b[1;35mwikipedia\u001b[0m\u001b[1;35m.summary\u001b[0m\u001b[1m(\u001b[0mquery\u001b[1m)\u001b[0m\u001b[1m)\u001b[0m\u001b[1;35m.to_dict\u001b[0m\u001b[1m(\u001b[0m\u001b[1m)\u001b[0m\u001b[1m)\u001b[0m                   \n",
       "           File \u001b[32m\"c:\\Users\\gabjj\\anaconda3\\envs\\sharktank\\lib\\site-packages\\wikipedia\\util.py\"\u001b[0m, line \u001b[1;36m28\u001b[0m, in __call__\n",
       "             ret = self._cache\u001b[1m[\u001b[0mkey\u001b[1m]\u001b[0m = \u001b[1;35mself.fn\u001b[0m\u001b[1m(\u001b[0m*args, **kwargs\u001b[1m)\u001b[0m                                                     \n",
       "           File \u001b[32m\"c:\\Users\\gabjj\\anaconda3\\envs\\sharktank\\lib\\site-packages\\wikipedia\\wikipedia.py\"\u001b[0m, line \u001b[1;36m231\u001b[0m, in   \n",
       "         summary                                                                                                   \n",
       "             page_info = \u001b[1;35mpage\u001b[0m\u001b[1m(\u001b[0mtitle, \u001b[33mauto_suggest\u001b[0m=\u001b[35mauto_suggest\u001b[0m, \u001b[33mredirect\u001b[0m=\u001b[35mredirect\u001b[0m\u001b[1m)\u001b[0m                                 \n",
       "           File \u001b[32m\"c:\\Users\\gabjj\\anaconda3\\envs\\sharktank\\lib\\site-packages\\wikipedia\\wikipedia.py\"\u001b[0m, line \u001b[1;36m276\u001b[0m, in   \n",
       "         page                                                                                                      \n",
       "             return \u001b[1;35mWikipediaPage\u001b[0m\u001b[1m(\u001b[0mtitle, \u001b[33mredirect\u001b[0m=\u001b[35mredirect\u001b[0m, \u001b[33mpreload\u001b[0m=\u001b[35mpreload\u001b[0m\u001b[1m)\u001b[0m                                       \n",
       "           File \u001b[32m\"c:\\Users\\gabjj\\anaconda3\\envs\\sharktank\\lib\\site-packages\\wikipedia\\wikipedia.py\"\u001b[0m, line \u001b[1;36m299\u001b[0m, in   \n",
       "         __init__                                                                                                  \n",
       "             \u001b[1;35mself.__load\u001b[0m\u001b[1m(\u001b[0m\u001b[33mredirect\u001b[0m=\u001b[35mredirect\u001b[0m, \u001b[33mpreload\u001b[0m=\u001b[35mpreload\u001b[0m\u001b[1m)\u001b[0m                                                       \n",
       "           File \u001b[32m\"c:\\Users\\gabjj\\anaconda3\\envs\\sharktank\\lib\\site-packages\\wikipedia\\wikipedia.py\"\u001b[0m, line \u001b[1;36m345\u001b[0m, in   \n",
       "         __load                                                                                                    \n",
       "             raise \u001b[1;35mPageError\u001b[0m\u001b[1m(\u001b[0mself.title\u001b[1m)\u001b[0m                                                                           \n",
       "         wikipedia.exceptions.PageError: Page id \u001b[32m\"customer acquisition and reception strategic\"\u001b[0m does not match any \n",
       "         pages. Try another id!                                                                                    \n"
      ]
     },
     "metadata": {},
     "output_type": "display_data"
    },
    {
     "data": {
      "text/html": [
       "<pre style=\"white-space:pre;overflow-x:auto;line-height:normal;font-family:Menlo,'DejaVu Sans Mono',consolas,'Courier New',monospace\"><span style=\"color: #000080; text-decoration-color: #000080\">INFO    </span> Searching wikipedia for: customer retention strategies                                                    \n",
       "</pre>\n"
      ],
      "text/plain": [
       "\u001b[34mINFO    \u001b[0m Searching wikipedia for: customer retention strategies                                                    \n"
      ]
     },
     "metadata": {},
     "output_type": "display_data"
    },
    {
     "name": "stderr",
     "output_type": "stream",
     "text": [
      "[00:45<00:00] 2/2 | Running Pitch Editing Iterations: 100%|\u001b[33m██████████\u001b[0m 22.52s/it\n",
      "Generating pitches: 1it [00:45, 45.04s/it]"
     ]
    },
    {
     "data": {
      "text/html": [
       "<pre style=\"white-space:pre;overflow-x:auto;line-height:normal;font-family:Menlo,'DejaVu Sans Mono',consolas,'Courier New',monospace\"><span style=\"color: #000080; text-decoration-color: #000080\">INFO    </span> Searching wikipedia for: electric vehicle range anxiety                                                   \n",
       "</pre>\n"
      ],
      "text/plain": [
       "\u001b[34mINFO    \u001b[0m Searching wikipedia for: electric vehicle range anxiety                                                   \n"
      ]
     },
     "metadata": {},
     "output_type": "display_data"
    },
    {
     "name": "stderr",
     "output_type": "stream",
     "text": [
      "[00:48<00:00] 2/2 | Running Pitch Editing Iterations: 100%|\u001b[33m██████████\u001b[0m 24.22s/it\n",
      "Generating pitches: 2it [01:33, 46.74s/it]\n"
     ]
    }
   ],
   "source": [
    "# Main loop\n",
    "orcheditor = PitchEquipped(reference=edit_reference_models, iterations=2)\n",
    "goal = 'create a pitch with the given facts'\n",
    "\n",
    "RUN_FIRST_N = True      # Change to False to run all\n",
    "N = 2\n",
    "\n",
    "cases_to_run = islice(facts_store.items(), N) if RUN_FIRST_N else facts_store.items()\n",
    "for case, facts in tqdm(cases_to_run, desc=\"Generating pitches\"):\n",
    "    # case = 'facts_shark_tank_transcript_37_TIK PIK.txt'\n",
    "    lean_facts = {\n",
    "        'facts': facts['facts'],\n",
    "        'product_description': facts['product_description']\n",
    "    }\n",
    "    try:\n",
    "        pitch = orcheditor.orchestrate_with_edit(goal, lean_facts, verbose=False)\n",
    "        pitches[case] = pitch\n",
    "        metrics[case] = orcheditor.logs\n",
    "        time_stamps[case] = datetime.now().strftime(\"%Y-%m-%d %H:%M:%S\")\n",
    "    except Exception as e:\n",
    "        print(f\"{case} error: {e}\")\n",
    "        pitches[case] = \"\"\n",
    "        metrics[case] = []\n",
    "        time_stamps[case] = datetime.now().strftime(\"%Y-%m-%d %H:%M:%S\")\n",
    "\n",
    "    # Reset for next run\n",
    "    orcheditor.logs = []\n",
    "    orcheditor.agents = {}"
   ]
  },
  {
   "cell_type": "code",
   "execution_count": 6,
   "metadata": {},
   "outputs": [],
   "source": [
    "calculated_metrics = []\n",
    "for product, metric in metrics.items():\n",
    "    calculated_metrics.append(metrics_calculation(metric))\n",
    "input_lengths, output_lengths, latencies = zip(*calculated_metrics)"
   ]
  },
  {
   "cell_type": "code",
   "execution_count": 8,
   "metadata": {},
   "outputs": [
    {
     "name": "stdout",
     "output_type": "stream",
     "text": [
      "{\n",
      "    \"Pitch\": \"Introducing GarmaGuard, a revolutionary natural garment and fabric cleanser with a strong competitive advantage. With an existing loyal customer base of 14,000, we are poised for expansion through a strategic customer acquisition and retention strategy. By exceeding customer expectations, implementing a loyalty program, leveraging influencer marketing, content marketing, referral programs, social media engagement, and email marketing, we aim to increase customer retention rates and attract new customers. Our marketing and sales plans are focused on building strong relationships and providing value beyond the product itself, propelling GarmaGuard to the forefront of the eco-friendly and natural living markets.\",\n",
      "    \"Initial_Offer\": {\n",
      "        \"Valuation\": \"$10 million\",\n",
      "        \"Equity_Offered\": \"10%\",\n",
      "        \"Funding_Amount\": \"$1 million\",\n",
      "        \"Key_Terms\": \"Investment will be used to drive customer acquisition and retention strategies, further develop the product, and expand marketing and sales efforts.\"\n",
      "    }\n",
      "}\n",
      "{\n",
      "  \"Pitch\": \"Invest in SparkCharge, the innovative company behind the Roadie portable charger, and capitalize on the growing demand for electric vehicle charging solutions. With its unique selling points, including portability, convenience, and flexibility, the Roadie can alleviate range anxiety and provide fast charging on-the-go, making it an attractive solution for businesses and individuals alike. By investing in SparkCharge, you will be supporting a company that is poised to capitalize on the rapidly expanding EV charging market, with a scalable solution that can be used in various locations, such as parking lots or roadside assistance.\",\n",
      "  \"Initial_Offer\": {\n",
      "    \"Valuation\": \"$10 million\",\n",
      "    \"Equity_Offered\": \"10%\",\n",
      "    \"Funding_Amount\": \"$1 million\",\n",
      "    \"Key_Terms\": \"Investment will be allocated to manufacturing and production, sales and marketing, product development, and operations and admin, with key milestones including increased production capacity, targeted marketing campaigns, and significant sales growth.\"\n",
      "  }\n",
      "}\n"
     ]
    }
   ],
   "source": [
    "print(pitches['facts_shark_tank_transcript_0_GarmaGuard.txt'])\n",
    "print(pitches['facts_shark_tank_transcript_0_Roadie.txt'])"
   ]
  },
  {
   "cell_type": "markdown",
   "metadata": {},
   "source": [
    "Show empty ones"
   ]
  },
  {
   "cell_type": "code",
   "execution_count": null,
   "metadata": {},
   "outputs": [],
   "source": [
    "for k, v in pitches.items():\n",
    "    if v == \"\":\n",
    "        print(k)"
   ]
  },
  {
   "cell_type": "code",
   "execution_count": 49,
   "metadata": {},
   "outputs": [],
   "source": [
    "timestamp = datetime.now().strftime('%Y-%d-%m')\n",
    "framework = \"orchestrator\"\n",
    "layer = \"orchestrator_1\"\n",
    "pitches_df = pd.DataFrame(\n",
    "    data={\n",
    "        'scenario_name':list(pitches.keys()),\n",
    "        'framework':len(pitches) * [framework],\n",
    "        'layer':len(pitches) * [layer],\n",
    "        'model_name': len(pitches) * [\"groq/\" + orcheditor.orchestrator + \"/groq\" + orcheditor.editor],\n",
    "        'model_identity':len(pitches) * [\"groq/\" + orcheditor.orchestrator + \"/groq\" + orcheditor.editor],\n",
    "        'latency':latencies,\n",
    "        'input_length':input_lengths,\n",
    "        'output_length':output_lengths,\n",
    "        'time_stamp':list(time_stamps.values()),\n",
    "        'response':list(pitches.values()),\n",
    "    }\n",
    ")\n"
   ]
  },
  {
   "cell_type": "code",
   "execution_count": null,
   "metadata": {},
   "outputs": [],
   "source": [
    "pitches_df"
   ]
  },
  {
   "cell_type": "code",
   "execution_count": null,
   "metadata": {},
   "outputs": [],
   "source": [
    "pitches_df.to_excel(f\"{timestamp}-orchestrator-editRAG-pitches.xlsx\")"
   ]
  }
 ],
 "metadata": {
  "kernelspec": {
   "display_name": "sharktank",
   "language": "python",
   "name": "python3"
  },
  "language_info": {
   "codemirror_mode": {
    "name": "ipython",
    "version": 3
   },
   "file_extension": ".py",
   "mimetype": "text/x-python",
   "name": "python",
   "nbconvert_exporter": "python",
   "pygments_lexer": "ipython3",
   "version": "3.10.16"
  }
 },
 "nbformat": 4,
 "nbformat_minor": 2
}
