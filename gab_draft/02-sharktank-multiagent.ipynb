{
 "cells": [
  {
   "cell_type": "code",
   "execution_count": 1,
   "metadata": {},
   "outputs": [],
   "source": [
    "import os, json, re\n",
    "import random, time\n",
    "import pandas as pd, numpy as np\n",
    "from tqdm import tqdm\n",
    "from datetime import datetime, timedelta\n",
    "\n",
    "# Util built for sharktank project\n",
    "from sharktank_utils import load_facts, OrchestratorResponse, PitchOrchestrator, metrics_calculation\n",
    "\n",
    "# Agno for llm agents\n",
    "from agno.agent import Agent\n",
    "from agno.models.groq import Groq\n",
    "from agno.storage.agent.sqlite import SqliteAgentStorage\n",
    "\n",
    "# Other LLM utils\n",
    "from langchain_core.output_parsers import PydanticOutputParser\n",
    "from pydantic import BaseModel, Field\n",
    "from typing import List, Dict, Optional"
   ]
  },
  {
   "cell_type": "code",
   "execution_count": 2,
   "metadata": {},
   "outputs": [],
   "source": [
    "os.environ[\"GROQ_API_KEY\"] = os.getenv(\"GROQ_API_KEY\")"
   ]
  },
  {
   "cell_type": "code",
   "execution_count": null,
   "metadata": {},
   "outputs": [],
   "source": [
    "facts_store = load_facts()\n",
    "pitches = {k:\"\" for k,_ in facts_store.items()}\n",
    "metrics = {k:\"\" for k,_ in facts_store.items()}\n",
    "time_stamps = {k:\"\" for k,_ in facts_store.items()}"
   ]
  },
  {
   "cell_type": "code",
   "execution_count": 5,
   "metadata": {},
   "outputs": [
    {
     "data": {
      "text/plain": [
       "dict_keys(['facts_shark_tank_transcript_12_Ornament Anchor.txt', 'facts_shark_tank_transcript_13_MAXPRO SmartConnect.txt', 'facts_shark_tank_transcript_32_Crispy Cones.txt', 'facts_shark_tank_transcript_33_Happi Floss.txt'])"
      ]
     },
     "execution_count": 5,
     "metadata": {},
     "output_type": "execute_result"
    }
   ],
   "source": [
    "facts_store.keys()"
   ]
  },
  {
   "cell_type": "code",
   "execution_count": 6,
   "metadata": {},
   "outputs": [
    {
     "name": "stderr",
     "output_type": "stream",
     "text": [
      " 25%|██▌       | 1/4 [00:14<00:42, 14.15s/it]"
     ]
    },
    {
     "data": {
      "text/html": [
       "<pre style=\"white-space:pre;overflow-x:auto;line-height:normal;font-family:Menlo,'DejaVu Sans Mono',consolas,'Courier New',monospace\"><span style=\"color: #800000; text-decoration-color: #800000; font-weight: bold\">ERROR   </span> Error calling Groq API: Error code: <span style=\"color: #008080; text-decoration-color: #008080; font-weight: bold\">400</span> - <span style=\"font-weight: bold\">{</span><span style=\"color: #008000; text-decoration-color: #008000\">'error'</span>: <span style=\"font-weight: bold\">{</span><span style=\"color: #008000; text-decoration-color: #008000\">'message'</span>: <span style=\"color: #008000; text-decoration-color: #008000\">'The model `mixtral-8x7b-32768` has been </span> \n",
       "         <span style=\"color: #008000; text-decoration-color: #008000\">decommissioned and is no longer supported. Please refer to https://console.groq.com/docs/deprecations for </span>\n",
       "         <span style=\"color: #008000; text-decoration-color: #008000\">a recommendation on which model to use instead.'</span>, <span style=\"color: #008000; text-decoration-color: #008000\">'type'</span>: <span style=\"color: #008000; text-decoration-color: #008000\">'invalid_request_error'</span>, <span style=\"color: #008000; text-decoration-color: #008000\">'code'</span>:                \n",
       "         <span style=\"color: #008000; text-decoration-color: #008000\">'model_decommissioned'</span><span style=\"font-weight: bold\">}}</span>                                                                                  \n",
       "</pre>\n"
      ],
      "text/plain": [
       "\u001b[1;31mERROR   \u001b[0m Error calling Groq API: Error code: \u001b[1;36m400\u001b[0m - \u001b[1m{\u001b[0m\u001b[32m'error'\u001b[0m: \u001b[1m{\u001b[0m\u001b[32m'message'\u001b[0m: \u001b[32m'The model `mixtral-8x7b-32768` has been \u001b[0m \n",
       "         \u001b[32mdecommissioned and is no longer supported. Please refer to https://console.groq.com/docs/deprecations for \u001b[0m\n",
       "         \u001b[32ma recommendation on which model to use instead.'\u001b[0m, \u001b[32m'type'\u001b[0m: \u001b[32m'invalid_request_error'\u001b[0m, \u001b[32m'code'\u001b[0m:                \n",
       "         \u001b[32m'model_decommissioned'\u001b[0m\u001b[1m}\u001b[0m\u001b[1m}\u001b[0m                                                                                  \n"
      ]
     },
     "metadata": {},
     "output_type": "display_data"
    },
    {
     "data": {
      "text/html": [
       "<pre style=\"white-space:pre;overflow-x:auto;line-height:normal;font-family:Menlo,'DejaVu Sans Mono',consolas,'Courier New',monospace\"><span style=\"color: #808000; text-decoration-color: #808000\">WARNING </span> Attempt <span style=\"color: #008080; text-decoration-color: #008080; font-weight: bold\">1</span>/<span style=\"color: #008080; text-decoration-color: #008080; font-weight: bold\">1</span> failed: <span style=\"font-weight: bold\">{</span><span style=\"color: #008000; text-decoration-color: #008000\">\"error\"</span>:<span style=\"font-weight: bold\">{</span><span style=\"color: #008000; text-decoration-color: #008000\">\"message\"</span>:<span style=\"color: #008000; text-decoration-color: #008000\">\"The model `mixtral-8x7b-32768` has been decommissioned and is no </span>\n",
       "         <span style=\"color: #008000; text-decoration-color: #008000\">longer supported. Please refer to https://console.groq.com/docs/deprecations for a recommendation on which</span>\n",
       "         <span style=\"color: #008000; text-decoration-color: #008000\">model to use instead.\"</span>,<span style=\"color: #008000; text-decoration-color: #008000\">\"type\"</span>:<span style=\"color: #008000; text-decoration-color: #008000\">\"invalid_request_error\"</span>,<span style=\"color: #008000; text-decoration-color: #008000\">\"code\"</span>:<span style=\"color: #008000; text-decoration-color: #008000\">\"model_decommissioned\"</span><span style=\"font-weight: bold\">}}</span>                     \n",
       "                                                                                                                   \n",
       "</pre>\n"
      ],
      "text/plain": [
       "\u001b[33mWARNING \u001b[0m Attempt \u001b[1;36m1\u001b[0m/\u001b[1;36m1\u001b[0m failed: \u001b[1m{\u001b[0m\u001b[32m\"error\"\u001b[0m:\u001b[1m{\u001b[0m\u001b[32m\"message\"\u001b[0m:\u001b[32m\"The model `mixtral-8x7b-32768` has been decommissioned and is no \u001b[0m\n",
       "         \u001b[32mlonger supported. Please refer to https://console.groq.com/docs/deprecations for a recommendation on which\u001b[0m\n",
       "         \u001b[32mmodel to use instead.\"\u001b[0m,\u001b[32m\"type\"\u001b[0m:\u001b[32m\"invalid_request_error\"\u001b[0m,\u001b[32m\"code\"\u001b[0m:\u001b[32m\"model_decommissioned\"\u001b[0m\u001b[1m}\u001b[0m\u001b[1m}\u001b[0m                     \n",
       "                                                                                                                   \n"
      ]
     },
     "metadata": {},
     "output_type": "display_data"
    },
    {
     "data": {
      "text/html": [
       "<pre style=\"white-space:pre;overflow-x:auto;line-height:normal;font-family:Menlo,'DejaVu Sans Mono',consolas,'Courier New',monospace\"><span style=\"color: #800000; text-decoration-color: #800000; font-weight: bold\">ERROR   </span> Failed after <span style=\"color: #008080; text-decoration-color: #008080; font-weight: bold\">1</span> attempts. Last error using <span style=\"color: #800080; text-decoration-color: #800080; font-weight: bold\">Groq</span><span style=\"font-weight: bold\">(</span>mixtral-8x7b-<span style=\"color: #008080; text-decoration-color: #008080; font-weight: bold\">32768</span><span style=\"font-weight: bold\">)</span>                                        \n",
       "</pre>\n"
      ],
      "text/plain": [
       "\u001b[1;31mERROR   \u001b[0m Failed after \u001b[1;36m1\u001b[0m attempts. Last error using \u001b[1;35mGroq\u001b[0m\u001b[1m(\u001b[0mmixtral-8x7b-\u001b[1;36m32768\u001b[0m\u001b[1m)\u001b[0m                                        \n"
      ]
     },
     "metadata": {},
     "output_type": "display_data"
    },
    {
     "name": "stdout",
     "output_type": "stream",
     "text": [
      "error at agent outputs\n",
      "{\"error\":{\"message\":\"The model `mixtral-8x7b-32768` has been decommissioned and is no longer supported. Please refer to https://console.groq.com/docs/deprecations for a recommendation on which model to use instead.\",\"type\":\"invalid_request_error\",\"code\":\"model_decommissioned\"}}\n",
      " \n",
      "agent outputs: {'Organize Key Points': \"\\n<think>\\nOkay, let's start by looking at the user's query. They want me to extract and organize relevant information from the given facts, focusing on sales data, product features, and target audience. \\n\\nFirst, I'll need to parse the facts provided. The sales data includes the first year's sales during the pandemic at $312,000, June's summer month sales at $80,000, and the lifetime total over half a million in 18 months. I should note those numbers exactly as given.\\n\\nNext, the product features are listed under the product description. The Ornament Anchor can hold up to 10 pounds, prevents pets from knocking off ornaments, and is easy to use. The features list includes those points. I need to make sure I don't miss any key features like the weight capacity, which is also mentioned separately, so I should check if that's already covered. Since weight capacity is part of the features, that's good. Also, the cost to make and MSRP are part of the facts. Profit margins for direct-to-consumer (94%) and wholesale (70%) might be relevant but since the task is focusing on sales data, features, and target audience, maybe those profit numbers are more about business aspects rather than the main focus here. \\n\\nThe target audience is clearly stated as families with Christmas trees, especially those with pets or precious ornaments. I should note that. \\n\\nI need to ensure that I don't include any extra information not in the facts, like maybe the current time given (2025 date) but that's not relevant here. \\n\\nWait, the user specified not to hallucinate and adhere strictly, so I must avoid adding anything not in the facts. \\n\\nOrganizing into Key Points as per the instructions. Let me structure them into three sections: Sales Data, Product Features, and Target Audience. \\n\\nSales Data: \\n- First year (during pandemic): $312K\\n- June (summer month): $80K\\n- 18 months total: over half a million.\\n\\nProduct Features:\\n- Secures ornaments on Christmas trees, prevents falling.\\n- Holds up to 10 lbs.\\n- Specifically guards against pets knocking ornaments.\\n- Easy application: pull up and over branch.\\n\\nPrice and cost: The facts include cost to make ($1.50 per 24-pack), MSRP $24.99. But since the user didn't ask for pricing details, maybe this isn\", 'Develop Compelling Narrative': \"<think>\\nAlright, so I need to help craft a pitch for the Ornament Anchor product. Let me start by going through the provided facts and additional information to make sure I understand everything correctly.\\n\\nFirst, the facts include several key points about the product's performance and specifications. The sales figures are quite impressive: $312,000 in the first year of the pandemic, $80,000 in June (which I assume is a summer month, maybe a peak selling period), and a total of over half a million dollars in 18 months. That's a strong sales track record, especially considering it's in a niche market like Christmas ornament accessories.\\n\\nThe cost to make a pack of 24 is $1.50, which seems very low. The MSRP is $24.99, so the profit margin must be significant. The direct-to-consumer profit margins are 94%, which is extremely high, and wholesale margins are 70%, which is also very good. This indicates that the product is not only selling well but also highly profitable.\\n\\nThe product features are designed to appeal to families, especially those with pets or valuable ornaments. It can hold up to 10 pounds, which is a notable selling point for heavier ornaments. The ease of use is highlighted, which is important for consumers who want convenience.\\n\\nThe target audience is clearly defined as families with Christmas trees, particularly those with pets or precious ornaments. This specificity helps in tailoring the pitch to a particular need.\\n\\nNow, considering the current date is 2025-03-21, which is in March, it's a bit early for Christmas shopping, but perhaps the pitch is intended for holiday promotions later in the year or for retailers to stock up in advance.\\n\\nI should structure the pitch to highlight the product's benefits, unique features, and market potential. Let me break down the key points:\\n\\n1. **Market Potential and Sales Performance**: The product has shown strong sales, especially in the first year and during peak months. It's been successful in a short time, which speaks to its appeal.\\n\\n2. **Profitability**: The high profit margins mean that retailers can make good money by selling this product. Emphasizing the profitability could be a strong incentive for potential partners or retailers.\\n\\n3. **Product Features**: The ability to hold up to 10 pounds, ease of use, and protection against pets knocking ornaments off are unique selling points. These features directly address common problems\", 'Refine and Finalize Pitch': 'Here is a refined pitch for the Ornament Anchor:\\n\\n**Introducing the Ornament Anchor**\\n\\nSay goodbye to broken ornaments and hello to a stress-free holiday season! Our innovative product securely hangs ornaments on your Christmas tree, preventing them from falling and breaking. With its unique design, the Ornament Anchor can hold up to 10 pounds, keeping your precious ornaments safe from pets and accidental knocks.\\n\\n**Key Benefits:**\\n\\n* Prevents ornaments from falling and breaking\\n* Can hold up to 10 pounds\\n* Easy to use: simply pull up and over a branch\\n* Perfect for families with pets or precious ornaments\\n\\n**Impressive Sales Performance:**\\n\\n* Over half a million dollars in sales within 18 months\\n* $312,000 in sales during the first year of the pandemic\\n* $80,000 in sales during the summer month of June\\n\\n**Business Highlights:**\\n\\n* Competitive pricing: $24.99 MSRP for a pack of 24\\n* High-profit margins: 94% direct-to-consumer and 70% wholesale\\n* Low production cost: only $1.50 per pack of 24\\n\\n**Join the thousands of satisfied customers who have discovered the peace of mind that comes with the Ornament Anchor. Order now and start enjoying a stress-free holiday season!**'}\n"
     ]
    },
    {
     "name": "stderr",
     "output_type": "stream",
     "text": [
      "100%|██████████| 4/4 [00:43<00:00, 10.95s/it]\n"
     ]
    }
   ],
   "source": [
    "if __name__ == \"__main__\":\n",
    "    error_count = 0\n",
    "    round_count = 0\n",
    "    orchestrator = PitchOrchestrator()\n",
    "    goal = 'create a pitch with the given facts'\n",
    "    for case, facts in tqdm(facts_store.items()):\n",
    "    # case = 'facts_shark_tank_transcript_0_GarmaGuard.txt'\n",
    "        # if round_count == 1:\n",
    "        #     break\n",
    "        if pitches[case] != \"\":\n",
    "            orchestrator.logs = []\n",
    "            orchestrator.agents = {}\n",
    "            round_count += 1\n",
    "            continue\n",
    "        else:\n",
    "            lean_facts = {}\n",
    "            lean_facts['facts'], lean_facts['product_description'] = facts['facts'], facts['product_description']\n",
    "            try:\n",
    "                try:\n",
    "                    # Generate sub task\n",
    "                    subtasks = orchestrator.generate_subtasks(goal, lean_facts)\n",
    "                except Exception as e:\n",
    "                    print('error at substasks')\n",
    "                    print(e, \"\\nsubtasks:\", subtasks)\n",
    "                try:\n",
    "                    orchestrator.create_agents(subtasks, lean_facts)\n",
    "                except Exception as e:\n",
    "                    print('error at agent creation')\n",
    "                    print(e, \"\\nagent creation issue\")\n",
    "                try:\n",
    "                    agent_outputs = orchestrator.run_agents(subtasks)\n",
    "                except Exception as e:\n",
    "                    print('error at agent outputs')\n",
    "                    print(e, \"\\nagent outputs:\", agent_outputs)\n",
    "                try:\n",
    "                    pitch = orchestrator.synthesize_pitch(agent_outputs)\n",
    "                    pitches[case] = pitch\n",
    "                    metrics[case] = orchestrator.logs\n",
    "                    time_stamps[case] = datetime.now().strftime(\"%Y-%m-%d $H:%M:%S\")\n",
    "                except Exception as e:\n",
    "                    error_count += 1\n",
    "                    print('error at pitching')\n",
    "                    print(e, \"\\pitch:\", pitch)\n",
    "                    pitch = \"\"\n",
    "            except Exception as e:\n",
    "                print(e, \"case:\", case)\n",
    "                pitches[case] = \"\"\n",
    "            # Reset agents\n",
    "            orchestrator.logs = []\n",
    "            orchestrator.agents = {}\n",
    "            round_count += 1\n"
   ]
  },
  {
   "cell_type": "code",
   "execution_count": 7,
   "metadata": {},
   "outputs": [
    {
     "name": "stdout",
     "output_type": "stream",
     "text": [
      "0\n"
     ]
    }
   ],
   "source": [
    "length = 0\n",
    "for k, v in pitches.items():\n",
    "    if v == \"\":\n",
    "        print(k)\n",
    "        length += 1\n",
    "print(length)"
   ]
  },
  {
   "cell_type": "code",
   "execution_count": 10,
   "metadata": {},
   "outputs": [],
   "source": [
    "calculated_metrics = []\n",
    "for product, metric in metrics.items():\n",
    "    calculated_metrics.append(metrics_calculation(metric))\n",
    "input_lengths, output_lengths, latencies = zip(*calculated_metrics)"
   ]
  },
  {
   "cell_type": "code",
   "execution_count": 11,
   "metadata": {},
   "outputs": [],
   "source": [
    "timestamp = datetime.now().strftime('%Y-%m-%d')\n",
    "framework = \"orchestrator\"\n",
    "layer = \"orchestrator_1\"\n",
    "pitches_df = pd.DataFrame(\n",
    "    data={\n",
    "        'scenario_name':list(pitches.keys()),\n",
    "        'framework':len(pitches) * [framework],\n",
    "        'layer':len(pitches) * [layer],\n",
    "        'model_name': len(pitches) * [\"groq/\" + orchestrator.orchestrator],\n",
    "        'model_identity':len(pitches) * [\"groq/\" + orchestrator.orchestrator],\n",
    "        'latency':latencies,\n",
    "        'input_length':input_lengths,\n",
    "        'output_length':output_lengths,\n",
    "        'time_stamp':list(time_stamps.values()),\n",
    "        'response':list(pitches.values()),\n",
    "    }\n",
    ")\n"
   ]
  },
  {
   "cell_type": "code",
   "execution_count": 12,
   "metadata": {},
   "outputs": [],
   "source": [
    "pitches_df.to_excel(f\"{timestamp}-orchestrator-basic-pitches-03.xlsx\")"
   ]
  }
 ],
 "metadata": {
  "kernelspec": {
   "display_name": "sharktank",
   "language": "python",
   "name": "python3"
  },
  "language_info": {
   "codemirror_mode": {
    "name": "ipython",
    "version": 3
   },
   "file_extension": ".py",
   "mimetype": "text/x-python",
   "name": "python",
   "nbconvert_exporter": "python",
   "pygments_lexer": "ipython3",
   "version": "3.10.16"
  }
 },
 "nbformat": 4,
 "nbformat_minor": 2
}
