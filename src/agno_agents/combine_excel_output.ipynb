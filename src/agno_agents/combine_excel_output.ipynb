{
 "cells": [
  {
   "cell_type": "markdown",
   "metadata": {},
   "source": [
    "Combine agentic rag with knowledge base Excel files into one single output excel file"
   ]
  },
  {
   "cell_type": "code",
   "execution_count": 8,
   "metadata": {},
   "outputs": [
    {
     "name": "stdout",
     "output_type": "stream",
     "text": [
      ">>> Combined Excel file saved as 'agentic_rag_kb.xlsx'\n"
     ]
    }
   ],
   "source": [
    "import pandas as pd\n",
    "\n",
    "# List of file paths to combine into\n",
    "files = [\n",
    "    \"./data/outputs/level1_agent_rag_2025-03-22_01-17-38.xlsx\",\n",
    "    \"./data/outputs/level1_agent_rag_2025-03-22_01-52-30.xlsx\",\n",
    "    \"./data/outputs/level1_agent_rag_2025-03-22_11-10-08_repaired.xlsx\"\n",
    "]\n",
    "\n",
    "df_combined = pd.concat([pd.read_excel(file) for file in files], ignore_index=True)\n",
    "\n",
    "df_combined.to_excel(\"./data/outputs/agentic_rag_kb.xlsx\", index=False)\n",
    "\n",
    "print(\">>> Combined Excel file saved as 'agentic_rag_kb.xlsx'\")"
   ]
  },
  {
   "cell_type": "code",
   "execution_count": null,
   "metadata": {},
   "outputs": [],
   "source": []
  }
 ],
 "metadata": {
  "kernelspec": {
   "display_name": "sharktank",
   "language": "python",
   "name": "python3"
  },
  "language_info": {
   "codemirror_mode": {
    "name": "ipython",
    "version": 3
   },
   "file_extension": ".py",
   "mimetype": "text/x-python",
   "name": "python",
   "nbconvert_exporter": "python",
   "pygments_lexer": "ipython3",
   "version": "3.10.16"
  }
 },
 "nbformat": 4,
 "nbformat_minor": 2
}
